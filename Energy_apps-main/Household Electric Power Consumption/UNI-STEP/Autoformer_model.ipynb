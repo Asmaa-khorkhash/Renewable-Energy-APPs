{
 "cells": [
  {
   "cell_type": "code",
   "execution_count": 20,
   "id": "1cbff242",
   "metadata": {},
   "outputs": [],
   "source": [
    "import numpy as np \n",
    "import pandas as pd\n",
    "from sklearn.preprocessing import MinMaxScaler\n",
    "from Energy_Models import Autoformer as Af \n",
    "import tensorflow as tf\n"
   ]
  },
  {
   "cell_type": "code",
   "execution_count": 3,
   "id": "9a7180b3",
   "metadata": {},
   "outputs": [],
   "source": [
    "df = pd.read_csv('D:\\College\\Final\\Gpr\\Datasets\\household_power_consumption.txt',sep=';', \n",
    "                 parse_dates={'date_time' : ['Date', 'Time']}, infer_datetime_format=True, \n",
    "                 low_memory=False, na_values=['nan','?'], index_col='date_time')"
   ]
  },
  {
   "cell_type": "code",
   "execution_count": 4,
   "id": "dbf8c59a",
   "metadata": {},
   "outputs": [],
   "source": [
    "# filling missing values by the value of one day before \n",
    "def fill_missing(data):\n",
    "    one_day = 24*60\n",
    "    for row in range(data.shape[0]):\n",
    "        for col in range(data.shape[1]):\n",
    "            if np.isnan(data[row,col]):\n",
    "                data[row,col] = data[row-one_day,col]"
   ]
  },
  {
   "cell_type": "code",
   "execution_count": 5,
   "id": "b72e7bbf",
   "metadata": {},
   "outputs": [],
   "source": [
    "fill_missing(df.values)"
   ]
  },
  {
   "cell_type": "code",
   "execution_count": 6,
   "id": "66758fe8",
   "metadata": {},
   "outputs": [
    {
     "data": {
      "text/plain": [
       "Global_active_power      0\n",
       "Global_reactive_power    0\n",
       "Voltage                  0\n",
       "Global_intensity         0\n",
       "Sub_metering_1           0\n",
       "Sub_metering_2           0\n",
       "Sub_metering_3           0\n",
       "dtype: int64"
      ]
     },
     "execution_count": 6,
     "metadata": {},
     "output_type": "execute_result"
    }
   ],
   "source": [
    "df.isna().sum()"
   ]
  },
  {
   "cell_type": "code",
   "execution_count": 7,
   "id": "2d792887",
   "metadata": {},
   "outputs": [],
   "source": [
    "df['sub_metering_remaining'] = (df.Global_active_power * 1000  / 60 ) - (df.Sub_metering_1 + df.Sub_metering_2 + df.Sub_metering_3)\n"
   ]
  },
  {
   "cell_type": "code",
   "execution_count": 8,
   "id": "d8bd46fb",
   "metadata": {},
   "outputs": [
    {
     "data": {
      "text/html": [
       "<div>\n",
       "<style scoped>\n",
       "    .dataframe tbody tr th:only-of-type {\n",
       "        vertical-align: middle;\n",
       "    }\n",
       "\n",
       "    .dataframe tbody tr th {\n",
       "        vertical-align: top;\n",
       "    }\n",
       "\n",
       "    .dataframe thead th {\n",
       "        text-align: right;\n",
       "    }\n",
       "</style>\n",
       "<table border=\"1\" class=\"dataframe\">\n",
       "  <thead>\n",
       "    <tr style=\"text-align: right;\">\n",
       "      <th></th>\n",
       "      <th>Global_active_power</th>\n",
       "      <th>Global_reactive_power</th>\n",
       "      <th>Voltage</th>\n",
       "      <th>Global_intensity</th>\n",
       "      <th>Sub_metering_1</th>\n",
       "      <th>Sub_metering_2</th>\n",
       "      <th>Sub_metering_3</th>\n",
       "      <th>sub_metering_remaining</th>\n",
       "    </tr>\n",
       "  </thead>\n",
       "  <tbody>\n",
       "    <tr>\n",
       "      <th>count</th>\n",
       "      <td>2.075259e+06</td>\n",
       "      <td>2.075259e+06</td>\n",
       "      <td>2.075259e+06</td>\n",
       "      <td>2.075259e+06</td>\n",
       "      <td>2.075259e+06</td>\n",
       "      <td>2.075259e+06</td>\n",
       "      <td>2.075259e+06</td>\n",
       "      <td>2.075259e+06</td>\n",
       "    </tr>\n",
       "    <tr>\n",
       "      <th>mean</th>\n",
       "      <td>1.089418e+00</td>\n",
       "      <td>1.236871e-01</td>\n",
       "      <td>2.408364e+02</td>\n",
       "      <td>4.618401e+00</td>\n",
       "      <td>1.118474e+00</td>\n",
       "      <td>1.291131e+00</td>\n",
       "      <td>6.448635e+00</td>\n",
       "      <td>9.298722e+00</td>\n",
       "    </tr>\n",
       "    <tr>\n",
       "      <th>std</th>\n",
       "      <td>1.054678e+00</td>\n",
       "      <td>1.125933e-01</td>\n",
       "      <td>3.240051e+00</td>\n",
       "      <td>4.433165e+00</td>\n",
       "      <td>6.141460e+00</td>\n",
       "      <td>5.796922e+00</td>\n",
       "      <td>8.433584e+00</td>\n",
       "      <td>9.561278e+00</td>\n",
       "    </tr>\n",
       "    <tr>\n",
       "      <th>min</th>\n",
       "      <td>7.600000e-02</td>\n",
       "      <td>0.000000e+00</td>\n",
       "      <td>2.232000e+02</td>\n",
       "      <td>2.000000e-01</td>\n",
       "      <td>0.000000e+00</td>\n",
       "      <td>0.000000e+00</td>\n",
       "      <td>0.000000e+00</td>\n",
       "      <td>-2.400000e+00</td>\n",
       "    </tr>\n",
       "    <tr>\n",
       "      <th>25%</th>\n",
       "      <td>3.080000e-01</td>\n",
       "      <td>4.800000e-02</td>\n",
       "      <td>2.389900e+02</td>\n",
       "      <td>1.400000e+00</td>\n",
       "      <td>0.000000e+00</td>\n",
       "      <td>0.000000e+00</td>\n",
       "      <td>0.000000e+00</td>\n",
       "      <td>3.800000e+00</td>\n",
       "    </tr>\n",
       "    <tr>\n",
       "      <th>50%</th>\n",
       "      <td>6.020000e-01</td>\n",
       "      <td>1.000000e-01</td>\n",
       "      <td>2.410000e+02</td>\n",
       "      <td>2.600000e+00</td>\n",
       "      <td>0.000000e+00</td>\n",
       "      <td>0.000000e+00</td>\n",
       "      <td>1.000000e+00</td>\n",
       "      <td>5.500000e+00</td>\n",
       "    </tr>\n",
       "    <tr>\n",
       "      <th>75%</th>\n",
       "      <td>1.526000e+00</td>\n",
       "      <td>1.940000e-01</td>\n",
       "      <td>2.428700e+02</td>\n",
       "      <td>6.400000e+00</td>\n",
       "      <td>0.000000e+00</td>\n",
       "      <td>1.000000e+00</td>\n",
       "      <td>1.700000e+01</td>\n",
       "      <td>1.036667e+01</td>\n",
       "    </tr>\n",
       "    <tr>\n",
       "      <th>max</th>\n",
       "      <td>1.112200e+01</td>\n",
       "      <td>1.390000e+00</td>\n",
       "      <td>2.541500e+02</td>\n",
       "      <td>4.840000e+01</td>\n",
       "      <td>8.800000e+01</td>\n",
       "      <td>8.000000e+01</td>\n",
       "      <td>3.100000e+01</td>\n",
       "      <td>1.248333e+02</td>\n",
       "    </tr>\n",
       "  </tbody>\n",
       "</table>\n",
       "</div>"
      ],
      "text/plain": [
       "       Global_active_power  Global_reactive_power       Voltage  \\\n",
       "count         2.075259e+06           2.075259e+06  2.075259e+06   \n",
       "mean          1.089418e+00           1.236871e-01  2.408364e+02   \n",
       "std           1.054678e+00           1.125933e-01  3.240051e+00   \n",
       "min           7.600000e-02           0.000000e+00  2.232000e+02   \n",
       "25%           3.080000e-01           4.800000e-02  2.389900e+02   \n",
       "50%           6.020000e-01           1.000000e-01  2.410000e+02   \n",
       "75%           1.526000e+00           1.940000e-01  2.428700e+02   \n",
       "max           1.112200e+01           1.390000e+00  2.541500e+02   \n",
       "\n",
       "       Global_intensity  Sub_metering_1  Sub_metering_2  Sub_metering_3  \\\n",
       "count      2.075259e+06    2.075259e+06    2.075259e+06    2.075259e+06   \n",
       "mean       4.618401e+00    1.118474e+00    1.291131e+00    6.448635e+00   \n",
       "std        4.433165e+00    6.141460e+00    5.796922e+00    8.433584e+00   \n",
       "min        2.000000e-01    0.000000e+00    0.000000e+00    0.000000e+00   \n",
       "25%        1.400000e+00    0.000000e+00    0.000000e+00    0.000000e+00   \n",
       "50%        2.600000e+00    0.000000e+00    0.000000e+00    1.000000e+00   \n",
       "75%        6.400000e+00    0.000000e+00    1.000000e+00    1.700000e+01   \n",
       "max        4.840000e+01    8.800000e+01    8.000000e+01    3.100000e+01   \n",
       "\n",
       "       sub_metering_remaining  \n",
       "count            2.075259e+06  \n",
       "mean             9.298722e+00  \n",
       "std              9.561278e+00  \n",
       "min             -2.400000e+00  \n",
       "25%              3.800000e+00  \n",
       "50%              5.500000e+00  \n",
       "75%              1.036667e+01  \n",
       "max              1.248333e+02  "
      ]
     },
     "execution_count": 8,
     "metadata": {},
     "output_type": "execute_result"
    }
   ],
   "source": [
    "df.describe()\n"
   ]
  },
  {
   "cell_type": "code",
   "execution_count": 9,
   "id": "1c90d0ea",
   "metadata": {},
   "outputs": [
    {
     "data": {
      "text/plain": [
       "(1442, 8)"
      ]
     },
     "execution_count": 9,
     "metadata": {},
     "output_type": "execute_result"
    }
   ],
   "source": [
    "# resample the data on daily basis\n",
    "df = df.resample('D').mean()\n",
    "df.shape"
   ]
  },
  {
   "cell_type": "code",
   "execution_count": 10,
   "id": "765dec60",
   "metadata": {},
   "outputs": [],
   "source": [
    "def train_test_split(df):\n",
    "    \n",
    "    # compute split point\n",
    "    end_idx = df.shape[0]* 70 // 100\n",
    "    \n",
    "    train_data = df.iloc[:end_idx, : ]\n",
    "    test_data = df.iloc[end_idx:, :]\n",
    "    \n",
    "    return train_data, test_data"
   ]
  },
  {
   "cell_type": "code",
   "execution_count": 11,
   "id": "3d0df565",
   "metadata": {},
   "outputs": [],
   "source": [
    "# Split the data into train and test\n",
    "X_train, X_test = train_test_split(df)"
   ]
  },
  {
   "cell_type": "code",
   "execution_count": 12,
   "id": "7b60d5d2",
   "metadata": {},
   "outputs": [
    {
     "data": {
      "text/plain": [
       "(1009, 8)"
      ]
     },
     "execution_count": 12,
     "metadata": {},
     "output_type": "execute_result"
    }
   ],
   "source": [
    "X_test.shape\n",
    "X_train.shape"
   ]
  },
  {
   "cell_type": "code",
   "execution_count": 13,
   "id": "a2f30e1f",
   "metadata": {},
   "outputs": [],
   "source": [
    "def scale_data(train, test):\n",
    "    scaler = MinMaxScaler().fit(train)\n",
    "    return scaler.transform(train), scaler.transform(test), scaler"
   ]
  },
  {
   "cell_type": "code",
   "execution_count": 14,
   "id": "73387f3e",
   "metadata": {},
   "outputs": [],
   "source": [
    "# Scale the data\n",
    "X_train, X_test, scaler = scale_data(X_train, X_test)"
   ]
  },
  {
   "cell_type": "code",
   "execution_count": 15,
   "id": "3730538f",
   "metadata": {},
   "outputs": [],
   "source": [
    "def convert_to_supervised(df):\n",
    "\n",
    "    input_features = []\n",
    "    ouput_feature = []\n",
    "    \n",
    "    len_df = df.shape[0]\n",
    "    \n",
    "    for i in range(len_df):\n",
    "        \n",
    "        end_idx = i + 1 \n",
    "        \n",
    "        if end_idx > len_df-1:\n",
    "            break\n",
    "            \n",
    "        input_x , output_y = df[i:end_idx, 1:], df[end_idx: end_idx+1, 0]\n",
    "        \n",
    "        input_features.append(input_x)\n",
    "        ouput_feature.append(output_y)\n",
    "    \n",
    "    return np.array(input_features), np.mean(np.array(ouput_feature), axis=1)\n"
   ]
  },
  {
   "cell_type": "code",
   "execution_count": 16,
   "id": "82693eab",
   "metadata": {},
   "outputs": [
    {
     "name": "stdout",
     "output_type": "stream",
     "text": [
      "Shape of (training data) input features : (1008, 1, 7) and ouput feature (1008,)\n"
     ]
    }
   ],
   "source": [
    "# Split the training data into input features and out feature\n",
    "X_train, Y_train = convert_to_supervised(X_train)\n",
    "print('Shape of (training data) input features : %s and ouput feature %s' % (X_train.shape, Y_train.shape))\n"
   ]
  },
  {
   "cell_type": "code",
   "execution_count": 17,
   "id": "0acc8466",
   "metadata": {},
   "outputs": [
    {
     "name": "stdout",
     "output_type": "stream",
     "text": [
      "Shape of (testing data) input features : (432, 1, 7) and ouput feature (432,)\n"
     ]
    }
   ],
   "source": [
    "# Split the testing data into input features and out feature\n",
    "X_test, Y_test = convert_to_supervised(X_test)\n",
    "print('Shape of (testing data) input features : %s and ouput feature %s' % (X_test.shape, Y_test.shape))"
   ]
  },
  {
   "cell_type": "code",
   "execution_count": 18,
   "id": "0d4febb9",
   "metadata": {},
   "outputs": [],
   "source": [
    "from sklearn.metrics import mean_squared_error, r2_score, mean_absolute_error, mean_squared_log_error, mean_absolute_percentage_error\n",
    "\n",
    "def root_mean_squared_error(y_true, y_pred):    \n",
    "    return np.sqrt(mean_squared_error(y_true, y_pred))"
   ]
  },
  {
   "cell_type": "code",
   "execution_count": 31,
   "id": "4f8a9de0",
   "metadata": {},
   "outputs": [],
   "source": [
    "callback = tf.keras.callbacks.EarlyStopping(monitor='loss', patience=10)\n",
    "model = Af.AutoFormer(1,7,1).getModel()"
   ]
  },
  {
   "cell_type": "code",
   "execution_count": 22,
   "id": "f50c0526",
   "metadata": {},
   "outputs": [
    {
     "name": "stdout",
     "output_type": "stream",
     "text": [
      "Model: \"model\"\n",
      "__________________________________________________________________________________________________\n",
      " Layer (type)                   Output Shape         Param #     Connected to                     \n",
      "==================================================================================================\n",
      " input_1 (InputLayer)           [(None, 1, 7)]       0           []                               \n",
      "                                                                                                  \n",
      " encoder_layer_1 (EncoderLayer)  (None, 1, 7)        56          ['input_1[0][0]']                \n",
      "                                                                                                  \n",
      " tf.__operators__.getitem_3 (Sl  (None, 7)           0           ['encoder_layer_1[0][0]']        \n",
      " icingOpLambda)                                                                                   \n",
      "                                                                                                  \n",
      " dropout_4 (Dropout)            (None, 7)            0           ['tf.__operators__.getitem_3[0][0\n",
      "                                                                 ]']                              \n",
      "                                                                                                  \n",
      " dense_5 (Dense)                (None, 512)          4096        ['dropout_4[0][0]']              \n",
      "                                                                                                  \n",
      " dropout_5 (Dropout)            multiple             0           ['dense_5[0][0]',                \n",
      "                                                                  'dense_6[0][0]']                \n",
      "                                                                                                  \n",
      " dense_6 (Dense)                (None, 1024)         525312      ['dropout_5[0][0]']              \n",
      "                                                                                                  \n",
      " dense_7 (Dense)                (None, 512)          524800      ['dropout_5[1][0]']              \n",
      "                                                                                                  \n",
      " dense_4 (Dense)                (None, 1)            513         ['dense_7[0][0]']                \n",
      "                                                                                                  \n",
      " tf.expand_dims (TFOpLambda)    (None, 1, 1)         0           ['dense_4[0][0]']                \n",
      "                                                                                                  \n",
      "==================================================================================================\n",
      "Total params: 1,054,777\n",
      "Trainable params: 1,054,777\n",
      "Non-trainable params: 0\n",
      "__________________________________________________________________________________________________\n"
     ]
    }
   ],
   "source": [
    "model.summary()"
   ]
  },
  {
   "cell_type": "code",
   "execution_count": 33,
   "id": "5ca93861",
   "metadata": {},
   "outputs": [
    {
     "name": "stdout",
     "output_type": "stream",
     "text": [
      "Epoch 1/100\n",
      "13/13 [==============================] - 36s 546ms/step - loss: 0.0603 - val_loss: 0.0766\n",
      "Epoch 2/100\n",
      "13/13 [==============================] - 2s 150ms/step - loss: 0.0591 - val_loss: 0.0749\n",
      "Epoch 3/100\n",
      "13/13 [==============================] - 2s 132ms/step - loss: 0.0578 - val_loss: 0.0733\n",
      "Epoch 4/100\n",
      "13/13 [==============================] - 2s 152ms/step - loss: 0.0567 - val_loss: 0.0717\n",
      "Epoch 5/100\n",
      "13/13 [==============================] - 2s 123ms/step - loss: 0.0555 - val_loss: 0.0701\n",
      "Epoch 6/100\n",
      "13/13 [==============================] - 1s 119ms/step - loss: 0.0544 - val_loss: 0.0686\n",
      "Epoch 7/100\n",
      "13/13 [==============================] - 1s 110ms/step - loss: 0.0532 - val_loss: 0.0671\n",
      "Epoch 8/100\n",
      "13/13 [==============================] - 1s 119ms/step - loss: 0.0522 - val_loss: 0.0656\n",
      "Epoch 9/100\n",
      "13/13 [==============================] - 1s 96ms/step - loss: 0.0511 - val_loss: 0.0642\n",
      "Epoch 10/100\n",
      "13/13 [==============================] - 1s 109ms/step - loss: 0.0501 - val_loss: 0.0627\n",
      "Epoch 11/100\n",
      "13/13 [==============================] - 1s 64ms/step - loss: 0.0491 - val_loss: 0.0614\n",
      "Epoch 12/100\n",
      "13/13 [==============================] - 1s 74ms/step - loss: 0.0482 - val_loss: 0.0600\n",
      "Epoch 13/100\n",
      "13/13 [==============================] - 1s 99ms/step - loss: 0.0472 - val_loss: 0.0587\n",
      "Epoch 14/100\n",
      "13/13 [==============================] - 1s 78ms/step - loss: 0.0463 - val_loss: 0.0574\n",
      "Epoch 15/100\n",
      "13/13 [==============================] - 1s 86ms/step - loss: 0.0454 - val_loss: 0.0562\n",
      "Epoch 16/100\n",
      "13/13 [==============================] - 1s 79ms/step - loss: 0.0446 - val_loss: 0.0550\n",
      "Epoch 17/100\n",
      "13/13 [==============================] - 1s 78ms/step - loss: 0.0437 - val_loss: 0.0538\n",
      "Epoch 18/100\n",
      "13/13 [==============================] - 1s 85ms/step - loss: 0.0429 - val_loss: 0.0526\n",
      "Epoch 19/100\n",
      "13/13 [==============================] - 1s 97ms/step - loss: 0.0422 - val_loss: 0.0515\n",
      "Epoch 20/100\n",
      "13/13 [==============================] - 1s 87ms/step - loss: 0.0414 - val_loss: 0.0504\n",
      "Epoch 21/100\n",
      "13/13 [==============================] - 1s 91ms/step - loss: 0.0407 - val_loss: 0.0494\n",
      "Epoch 22/100\n",
      "13/13 [==============================] - 1s 94ms/step - loss: 0.0400 - val_loss: 0.0483\n",
      "Epoch 23/100\n",
      "13/13 [==============================] - 1s 76ms/step - loss: 0.0393 - val_loss: 0.0473\n",
      "Epoch 24/100\n",
      "13/13 [==============================] - 1s 103ms/step - loss: 0.0386 - val_loss: 0.0463\n",
      "Epoch 25/100\n",
      "13/13 [==============================] - 1s 117ms/step - loss: 0.0380 - val_loss: 0.0454\n",
      "Epoch 26/100\n",
      "13/13 [==============================] - 1s 104ms/step - loss: 0.0374 - val_loss: 0.0444\n",
      "Epoch 27/100\n",
      "13/13 [==============================] - 1s 96ms/step - loss: 0.0368 - val_loss: 0.0435\n",
      "Epoch 28/100\n",
      "13/13 [==============================] - 1s 73ms/step - loss: 0.0362 - val_loss: 0.0426\n",
      "Epoch 29/100\n",
      "13/13 [==============================] - 1s 111ms/step - loss: 0.0356 - val_loss: 0.0417\n",
      "Epoch 30/100\n",
      "13/13 [==============================] - 1s 117ms/step - loss: 0.0351 - val_loss: 0.0409\n",
      "Epoch 31/100\n",
      "13/13 [==============================] - 1s 108ms/step - loss: 0.0346 - val_loss: 0.0401\n",
      "Epoch 32/100\n",
      "13/13 [==============================] - 1s 118ms/step - loss: 0.0341 - val_loss: 0.0393\n",
      "Epoch 33/100\n",
      "13/13 [==============================] - 1s 120ms/step - loss: 0.0336 - val_loss: 0.0385\n",
      "Epoch 34/100\n",
      "13/13 [==============================] - 1s 110ms/step - loss: 0.0331 - val_loss: 0.0377\n",
      "Epoch 35/100\n",
      "13/13 [==============================] - 1s 114ms/step - loss: 0.0327 - val_loss: 0.0370\n",
      "Epoch 36/100\n",
      "13/13 [==============================] - 1s 109ms/step - loss: 0.0322 - val_loss: 0.0363\n",
      "Epoch 37/100\n",
      "13/13 [==============================] - 1s 91ms/step - loss: 0.0318 - val_loss: 0.0356\n",
      "Epoch 38/100\n",
      "13/13 [==============================] - 1s 94ms/step - loss: 0.0314 - val_loss: 0.0349\n",
      "Epoch 39/100\n",
      "13/13 [==============================] - 1s 116ms/step - loss: 0.0310 - val_loss: 0.0343\n",
      "Epoch 40/100\n",
      "13/13 [==============================] - 1s 99ms/step - loss: 0.0306 - val_loss: 0.0336\n",
      "Epoch 41/100\n",
      "13/13 [==============================] - 1s 101ms/step - loss: 0.0303 - val_loss: 0.0330\n",
      "Epoch 42/100\n",
      "13/13 [==============================] - 1s 97ms/step - loss: 0.0299 - val_loss: 0.0324\n",
      "Epoch 43/100\n",
      "13/13 [==============================] - 1s 92ms/step - loss: 0.0296 - val_loss: 0.0318\n",
      "Epoch 44/100\n",
      "13/13 [==============================] - 1s 104ms/step - loss: 0.0292 - val_loss: 0.0312\n",
      "Epoch 45/100\n",
      "13/13 [==============================] - 1s 103ms/step - loss: 0.0289 - val_loss: 0.0307\n",
      "Epoch 46/100\n",
      "13/13 [==============================] - 1s 86ms/step - loss: 0.0286 - val_loss: 0.0302\n",
      "Epoch 47/100\n",
      "13/13 [==============================] - 1s 82ms/step - loss: 0.0284 - val_loss: 0.0296\n",
      "Epoch 48/100\n",
      "13/13 [==============================] - 1s 97ms/step - loss: 0.0281 - val_loss: 0.0291\n",
      "Epoch 49/100\n",
      "13/13 [==============================] - 1s 99ms/step - loss: 0.0278 - val_loss: 0.0286\n",
      "Epoch 50/100\n",
      "13/13 [==============================] - 1s 110ms/step - loss: 0.0276 - val_loss: 0.0282\n",
      "Epoch 51/100\n",
      "13/13 [==============================] - 1s 96ms/step - loss: 0.0273 - val_loss: 0.0277\n",
      "Epoch 52/100\n",
      "13/13 [==============================] - 1s 92ms/step - loss: 0.0271 - val_loss: 0.0273\n",
      "Epoch 53/100\n",
      "13/13 [==============================] - 1s 98ms/step - loss: 0.0268 - val_loss: 0.0268\n",
      "Epoch 54/100\n",
      "13/13 [==============================] - 1s 97ms/step - loss: 0.0266 - val_loss: 0.0264\n",
      "Epoch 55/100\n",
      "13/13 [==============================] - 1s 101ms/step - loss: 0.0264 - val_loss: 0.0260\n",
      "Epoch 56/100\n",
      "13/13 [==============================] - 1s 73ms/step - loss: 0.0262 - val_loss: 0.0256\n",
      "Epoch 57/100\n",
      "13/13 [==============================] - 1s 89ms/step - loss: 0.0260 - val_loss: 0.0252\n",
      "Epoch 58/100\n",
      "13/13 [==============================] - 1s 109ms/step - loss: 0.0259 - val_loss: 0.0248\n",
      "Epoch 59/100\n",
      "13/13 [==============================] - 1s 77ms/step - loss: 0.0257 - val_loss: 0.0245\n",
      "Epoch 60/100\n",
      "13/13 [==============================] - 1s 88ms/step - loss: 0.0255 - val_loss: 0.0241\n",
      "Epoch 61/100\n",
      "13/13 [==============================] - 1s 99ms/step - loss: 0.0254 - val_loss: 0.0238\n",
      "Epoch 62/100\n",
      "13/13 [==============================] - 1s 109ms/step - loss: 0.0252 - val_loss: 0.0234\n",
      "Epoch 63/100\n",
      "13/13 [==============================] - 1s 96ms/step - loss: 0.0250 - val_loss: 0.0231\n",
      "Epoch 64/100\n",
      "13/13 [==============================] - 1s 110ms/step - loss: 0.0249 - val_loss: 0.0228\n",
      "Epoch 65/100\n",
      "13/13 [==============================] - 1s 78ms/step - loss: 0.0248 - val_loss: 0.0225\n",
      "Epoch 66/100\n",
      "13/13 [==============================] - 1s 102ms/step - loss: 0.0246 - val_loss: 0.0222\n",
      "Epoch 67/100\n",
      "13/13 [==============================] - 1s 100ms/step - loss: 0.0245 - val_loss: 0.0219\n",
      "Epoch 68/100\n",
      "13/13 [==============================] - 1s 107ms/step - loss: 0.0244 - val_loss: 0.0216\n",
      "Epoch 69/100\n",
      "13/13 [==============================] - 1s 97ms/step - loss: 0.0243 - val_loss: 0.0213\n",
      "Epoch 70/100\n",
      "13/13 [==============================] - 1s 97ms/step - loss: 0.0242 - val_loss: 0.0211\n",
      "Epoch 71/100\n",
      "13/13 [==============================] - 1s 94ms/step - loss: 0.0241 - val_loss: 0.0208\n",
      "Epoch 72/100\n",
      "13/13 [==============================] - 1s 82ms/step - loss: 0.0240 - val_loss: 0.0206\n",
      "Epoch 73/100\n",
      "13/13 [==============================] - 1s 92ms/step - loss: 0.0239 - val_loss: 0.0203\n",
      "Epoch 74/100\n",
      "13/13 [==============================] - 1s 84ms/step - loss: 0.0238 - val_loss: 0.0201\n",
      "Epoch 75/100\n",
      "13/13 [==============================] - 1s 70ms/step - loss: 0.0237 - val_loss: 0.0199\n",
      "Epoch 76/100\n",
      "13/13 [==============================] - 1s 105ms/step - loss: 0.0236 - val_loss: 0.0197\n",
      "Epoch 77/100\n",
      "13/13 [==============================] - 1s 99ms/step - loss: 0.0235 - val_loss: 0.0194\n",
      "Epoch 78/100\n",
      "13/13 [==============================] - 1s 98ms/step - loss: 0.0235 - val_loss: 0.0192\n",
      "Epoch 79/100\n",
      "13/13 [==============================] - 1s 106ms/step - loss: 0.0234 - val_loss: 0.0190\n",
      "Epoch 80/100\n",
      "13/13 [==============================] - 1s 98ms/step - loss: 0.0233 - val_loss: 0.0188\n",
      "Epoch 81/100\n",
      "13/13 [==============================] - 1s 110ms/step - loss: 0.0233 - val_loss: 0.0187\n"
     ]
    },
    {
     "name": "stdout",
     "output_type": "stream",
     "text": [
      "Epoch 82/100\n",
      "13/13 [==============================] - 1s 88ms/step - loss: 0.0232 - val_loss: 0.0185\n",
      "Epoch 83/100\n",
      "13/13 [==============================] - 1s 83ms/step - loss: 0.0232 - val_loss: 0.0183\n",
      "Epoch 84/100\n",
      "13/13 [==============================] - 1s 81ms/step - loss: 0.0231 - val_loss: 0.0181\n",
      "Epoch 85/100\n",
      "13/13 [==============================] - 1s 91ms/step - loss: 0.0230 - val_loss: 0.0180\n",
      "Epoch 86/100\n",
      "13/13 [==============================] - 1s 101ms/step - loss: 0.0230 - val_loss: 0.0178\n",
      "Epoch 87/100\n",
      "13/13 [==============================] - 1s 96ms/step - loss: 0.0230 - val_loss: 0.0177\n",
      "Epoch 88/100\n",
      "13/13 [==============================] - 1s 90ms/step - loss: 0.0229 - val_loss: 0.0175\n",
      "Epoch 89/100\n",
      "13/13 [==============================] - 1s 92ms/step - loss: 0.0229 - val_loss: 0.0174\n",
      "Epoch 90/100\n",
      "13/13 [==============================] - 1s 75ms/step - loss: 0.0228 - val_loss: 0.0172\n",
      "Epoch 91/100\n",
      "13/13 [==============================] - 1s 73ms/step - loss: 0.0228 - val_loss: 0.0171\n",
      "Epoch 92/100\n",
      "13/13 [==============================] - 1s 78ms/step - loss: 0.0228 - val_loss: 0.0170\n",
      "Epoch 93/100\n",
      "13/13 [==============================] - 1s 69ms/step - loss: 0.0227 - val_loss: 0.0169\n",
      "Epoch 94/100\n",
      "13/13 [==============================] - 1s 68ms/step - loss: 0.0227 - val_loss: 0.0167\n",
      "Epoch 95/100\n",
      "13/13 [==============================] - 1s 91ms/step - loss: 0.0227 - val_loss: 0.0166\n",
      "Epoch 96/100\n",
      "13/13 [==============================] - 1s 73ms/step - loss: 0.0226 - val_loss: 0.0165\n",
      "Epoch 97/100\n",
      "13/13 [==============================] - 1s 82ms/step - loss: 0.0226 - val_loss: 0.0164\n",
      "Epoch 98/100\n",
      "13/13 [==============================] - 1s 89ms/step - loss: 0.0226 - val_loss: 0.0163\n",
      "Epoch 99/100\n",
      "13/13 [==============================] - 1s 78ms/step - loss: 0.0225 - val_loss: 0.0162\n",
      "Epoch 100/100\n",
      "13/13 [==============================] - 1s 82ms/step - loss: 0.0225 - val_loss: 0.0161\n"
     ]
    }
   ],
   "source": [
    "model.compile(optimizer='adam', loss ='mse')\n",
    "history = model.fit(X_train , Y_train, epochs=100, batch_size=64, verbose= 1,validation_split=0.2,callbacks=callback)"
   ]
  },
  {
   "cell_type": "code",
   "execution_count": 34,
   "id": "d7c03004",
   "metadata": {},
   "outputs": [],
   "source": [
    "from sklearn.metrics import mean_squared_error, r2_score, mean_absolute_error, mean_squared_log_error, mean_absolute_percentage_error\n",
    "def root_mean_squared_error(y_true, y_pred):    \n",
    "    return np.sqrt(mean_squared_error(y_true, y_pred))\n",
    "def root_mean_squared_log_error(real, predicted):\n",
    "    sum=0.0\n",
    "    for x in range(len(predicted)):\n",
    "        if predicted[x]<0 or real[x]<0: # check for negative values\n",
    "            continue\n",
    "        p = np.log(predicted[x]+1)\n",
    "        r = np.log(real[x]+1)\n",
    "        sum = sum + (p - r)**2\n",
    "    return (sum/len(predicted))**0.5\n",
    "def print_metrics():\n",
    "    print('Train   RMSE  value   : %.3f ' % root_mean_squared_error(Y_train, model.predict(X_train)))\n",
    "    print('Train   MSE   value   : %.3f ' % mean_squared_error(Y_train, model.predict(X_train)))\n",
    "    print('Train   R2    value   : %.3f ' % r2_score(Y_train,model.predict(X_train)))\n",
    "    print('Train   MAPE  value   : %.3f ' % mean_absolute_percentage_error(Y_train, model.predict(X_train)))\n",
    "    print('Train   MAE   value   : %.3f ' % mean_absolute_error(Y_train, model.predict(X_train)))\n",
    "    print('---------------------------------------------')\n",
    "    print('Test    RMSE  value   : %.3f ' % root_mean_squared_error(Y_test, model.predict(X_test)))\n",
    "    print('Test    MSE   value   : %.3f ' % mean_squared_error(Y_test, model.predict(X_test)))\n",
    "    print('Test    R2    value   : %.3f ' % r2_score(Y_test, model.predict(X_test)))\n",
    "    print('Test    MAPE  value   : %.3f ' % mean_absolute_percentage_error(Y_test, model.predict(X_test)))\n",
    "    print('Test    MAE   value   : %.3f ' % mean_absolute_error(Y_test, model.predict(X_test)))"
   ]
  },
  {
   "cell_type": "code",
   "execution_count": 35,
   "id": "36c2f0a2",
   "metadata": {},
   "outputs": [
    {
     "name": "stdout",
     "output_type": "stream",
     "text": [
      "32/32 [==============================] - 2s 12ms/step\n",
      "Train   RMSE  value   : 0.146 \n",
      "32/32 [==============================] - 1s 13ms/step\n",
      "Train   MSE   value   : 0.021 \n",
      "32/32 [==============================] - 1s 17ms/step\n",
      "Train   R2    value   : -0.051 \n",
      "32/32 [==============================] - 1s 14ms/step\n",
      "Train   MAPE  value   : 1438155738163.474 \n",
      "32/32 [==============================] - 1s 16ms/step\n",
      "Train   MAE   value   : 0.114 \n",
      "---------------------------------------------\n",
      "14/14 [==============================] - 1s 14ms/step\n",
      "Test    RMSE  value   : 0.108 \n",
      "14/14 [==============================] - 1s 13ms/step\n",
      "Test    MSE   value   : 0.012 \n",
      "14/14 [==============================] - 1s 11ms/step\n",
      "Test    R2    value   : -0.066 \n",
      "14/14 [==============================] - 0s 15ms/step\n",
      "Test    MAPE  value   : 0.465 \n",
      "14/14 [==============================] - 0s 14ms/step\n",
      "Test    MAE   value   : 0.086 \n"
     ]
    }
   ],
   "source": [
    "print_metrics()"
   ]
  },
  {
   "cell_type": "code",
   "execution_count": 36,
   "id": "47cce93a",
   "metadata": {},
   "outputs": [
    {
     "data": {
      "image/png": "[encoded data removed]",
      "text/plain": [
       "<Figure size 640x480 with 1 Axes>"
      ]
     },
     "metadata": {},
     "output_type": "display_data"
    }
   ],
   "source": [
    "from matplotlib import pyplot as plt\n",
    "plt.plot(history.history['loss'])\n",
    "plt.plot(history.history['val_loss'])\n",
    "plt.title(\"Plot of loss vs epoch for train and test dataset\")\n",
    "plt.ylabel('loss')\n",
    "plt.xlabel('epoch')\n",
    "plt.legend(['train', 'test'], loc='upper right')\n",
    "plt.show()"
   ]
  },
  {
   "cell_type": "code",
   "execution_count": null,
   "id": "15cdf756",
   "metadata": {},
   "outputs": [],
   "source": []
  }
 ],
 "metadata": {
  "kernelspec": {
   "display_name": "Python 3 (ipykernel)",
   "language": "python",
   "name": "python3"
  },
  "language_info": {
   "codemirror_mode": {
    "name": "ipython",
    "version": 3
   },
   "file_extension": ".py",
   "mimetype": "text/x-python",
   "name": "python",
   "nbconvert_exporter": "python",
   "pygments_lexer": "ipython3",
   "version": "3.9.7"
  }
 },
 "nbformat": 4,
 "nbformat_minor": 5
}
