{
 "cells": [
  {
   "cell_type": "code",
   "execution_count": 1,
   "id": "aaca4901",
   "metadata": {
    "execution": {
     "iopub.execute_input": "2022-11-15T00:57:51.605406Z",
     "iopub.status.busy": "2022-11-15T00:57:51.604848Z",
     "iopub.status.idle": "2022-11-15T00:57:51.616849Z",
     "shell.execute_reply": "2022-11-15T00:57:51.615866Z",
     "shell.execute_reply.started": "2022-11-15T00:57:51.605367Z"
    }
   },
   "outputs": [],
   "source": [
    "import tensorflow as tf\n",
    "import numpy as np\n",
    "import pandas as pd\n",
    "import warnings\n",
    "warnings.filterwarnings('ignore')\n",
    "from Energy_Models.Transformer import Transformer\n",
    "from tensorflow import keras\n",
    "from tensorflow.keras import layers\n",
    "from sklearn.preprocessing import MinMaxScaler\n",
    "from sklearn.model_selection import train_test_split\n",
    "from tensorflow import keras\n",
    "from tensorflow.keras import layers"
   ]
  },
  {
   "cell_type": "code",
   "execution_count": 9,
   "id": "caff80cb",
   "metadata": {
    "execution": {
     "iopub.execute_input": "2022-11-15T00:57:56.189818Z",
     "iopub.status.busy": "2022-11-15T00:57:56.188736Z",
     "iopub.status.idle": "2022-11-15T00:58:04.009275Z",
     "shell.execute_reply": "2022-11-15T00:58:04.008227Z",
     "shell.execute_reply.started": "2022-11-15T00:57:56.189758Z"
    }
   },
   "outputs": [],
   "source": [
    "df = pd.read_csv('D:\\College\\Final\\Gpr\\Datasets\\household_power_consumption.txt',sep=';', \n",
    "                 parse_dates={'date_time' : ['Date', 'Time']}, infer_datetime_format=True, \n",
    "                 low_memory=False, na_values=['nan','?'], index_col='date_time')"
   ]
  },
  {
   "cell_type": "code",
   "execution_count": 10,
   "id": "f7cd7528",
   "metadata": {
    "execution": {
     "iopub.execute_input": "2022-11-15T00:58:04.011967Z",
     "iopub.status.busy": "2022-11-15T00:58:04.011319Z",
     "iopub.status.idle": "2022-11-15T00:58:04.028583Z",
     "shell.execute_reply": "2022-11-15T00:58:04.027440Z",
     "shell.execute_reply.started": "2022-11-15T00:58:04.011926Z"
    }
   },
   "outputs": [
    {
     "data": {
      "text/html": [
       "<div>\n",
       "<style scoped>\n",
       "    .dataframe tbody tr th:only-of-type {\n",
       "        vertical-align: middle;\n",
       "    }\n",
       "\n",
       "    .dataframe tbody tr th {\n",
       "        vertical-align: top;\n",
       "    }\n",
       "\n",
       "    .dataframe thead th {\n",
       "        text-align: right;\n",
       "    }\n",
       "</style>\n",
       "<table border=\"1\" class=\"dataframe\">\n",
       "  <thead>\n",
       "    <tr style=\"text-align: right;\">\n",
       "      <th></th>\n",
       "      <th>Global_active_power</th>\n",
       "      <th>Global_reactive_power</th>\n",
       "      <th>Voltage</th>\n",
       "      <th>Global_intensity</th>\n",
       "      <th>Sub_metering_1</th>\n",
       "      <th>Sub_metering_2</th>\n",
       "      <th>Sub_metering_3</th>\n",
       "    </tr>\n",
       "    <tr>\n",
       "      <th>date_time</th>\n",
       "      <th></th>\n",
       "      <th></th>\n",
       "      <th></th>\n",
       "      <th></th>\n",
       "      <th></th>\n",
       "      <th></th>\n",
       "      <th></th>\n",
       "    </tr>\n",
       "  </thead>\n",
       "  <tbody>\n",
       "    <tr>\n",
       "      <th>2006-12-16 17:24:00</th>\n",
       "      <td>4.216</td>\n",
       "      <td>0.418</td>\n",
       "      <td>234.84</td>\n",
       "      <td>18.4</td>\n",
       "      <td>0.0</td>\n",
       "      <td>1.0</td>\n",
       "      <td>17.0</td>\n",
       "    </tr>\n",
       "    <tr>\n",
       "      <th>2006-12-16 17:25:00</th>\n",
       "      <td>5.360</td>\n",
       "      <td>0.436</td>\n",
       "      <td>233.63</td>\n",
       "      <td>23.0</td>\n",
       "      <td>0.0</td>\n",
       "      <td>1.0</td>\n",
       "      <td>16.0</td>\n",
       "    </tr>\n",
       "    <tr>\n",
       "      <th>2006-12-16 17:26:00</th>\n",
       "      <td>5.374</td>\n",
       "      <td>0.498</td>\n",
       "      <td>233.29</td>\n",
       "      <td>23.0</td>\n",
       "      <td>0.0</td>\n",
       "      <td>2.0</td>\n",
       "      <td>17.0</td>\n",
       "    </tr>\n",
       "    <tr>\n",
       "      <th>2006-12-16 17:27:00</th>\n",
       "      <td>5.388</td>\n",
       "      <td>0.502</td>\n",
       "      <td>233.74</td>\n",
       "      <td>23.0</td>\n",
       "      <td>0.0</td>\n",
       "      <td>1.0</td>\n",
       "      <td>17.0</td>\n",
       "    </tr>\n",
       "    <tr>\n",
       "      <th>2006-12-16 17:28:00</th>\n",
       "      <td>3.666</td>\n",
       "      <td>0.528</td>\n",
       "      <td>235.68</td>\n",
       "      <td>15.8</td>\n",
       "      <td>0.0</td>\n",
       "      <td>1.0</td>\n",
       "      <td>17.0</td>\n",
       "    </tr>\n",
       "  </tbody>\n",
       "</table>\n",
       "</div>"
      ],
      "text/plain": [
       "                     Global_active_power  Global_reactive_power  Voltage  \\\n",
       "date_time                                                                  \n",
       "2006-12-16 17:24:00                4.216                  0.418   234.84   \n",
       "2006-12-16 17:25:00                5.360                  0.436   233.63   \n",
       "2006-12-16 17:26:00                5.374                  0.498   233.29   \n",
       "2006-12-16 17:27:00                5.388                  0.502   233.74   \n",
       "2006-12-16 17:28:00                3.666                  0.528   235.68   \n",
       "\n",
       "                     Global_intensity  Sub_metering_1  Sub_metering_2  \\\n",
       "date_time                                                               \n",
       "2006-12-16 17:24:00              18.4             0.0             1.0   \n",
       "2006-12-16 17:25:00              23.0             0.0             1.0   \n",
       "2006-12-16 17:26:00              23.0             0.0             2.0   \n",
       "2006-12-16 17:27:00              23.0             0.0             1.0   \n",
       "2006-12-16 17:28:00              15.8             0.0             1.0   \n",
       "\n",
       "                     Sub_metering_3  \n",
       "date_time                            \n",
       "2006-12-16 17:24:00            17.0  \n",
       "2006-12-16 17:25:00            16.0  \n",
       "2006-12-16 17:26:00            17.0  \n",
       "2006-12-16 17:27:00            17.0  \n",
       "2006-12-16 17:28:00            17.0  "
      ]
     },
     "execution_count": 10,
     "metadata": {},
     "output_type": "execute_result"
    }
   ],
   "source": [
    "df.head()"
   ]
  },
  {
   "cell_type": "code",
   "execution_count": 11,
   "id": "e3fa7272",
   "metadata": {
    "execution": {
     "iopub.execute_input": "2022-11-15T00:58:04.030801Z",
     "iopub.status.busy": "2022-11-15T00:58:04.030422Z",
     "iopub.status.idle": "2022-11-15T00:58:04.054116Z",
     "shell.execute_reply": "2022-11-15T00:58:04.053175Z",
     "shell.execute_reply.started": "2022-11-15T00:58:04.030756Z"
    }
   },
   "outputs": [
    {
     "data": {
      "text/html": [
       "<div>\n",
       "<style scoped>\n",
       "    .dataframe tbody tr th:only-of-type {\n",
       "        vertical-align: middle;\n",
       "    }\n",
       "\n",
       "    .dataframe tbody tr th {\n",
       "        vertical-align: top;\n",
       "    }\n",
       "\n",
       "    .dataframe thead th {\n",
       "        text-align: right;\n",
       "    }\n",
       "</style>\n",
       "<table border=\"1\" class=\"dataframe\">\n",
       "  <thead>\n",
       "    <tr style=\"text-align: right;\">\n",
       "      <th></th>\n",
       "      <th>Global_active_power</th>\n",
       "      <th>Global_reactive_power</th>\n",
       "      <th>Voltage</th>\n",
       "      <th>Global_intensity</th>\n",
       "      <th>Sub_metering_1</th>\n",
       "      <th>Sub_metering_2</th>\n",
       "      <th>Sub_metering_3</th>\n",
       "    </tr>\n",
       "    <tr>\n",
       "      <th>date_time</th>\n",
       "      <th></th>\n",
       "      <th></th>\n",
       "      <th></th>\n",
       "      <th></th>\n",
       "      <th></th>\n",
       "      <th></th>\n",
       "      <th></th>\n",
       "    </tr>\n",
       "  </thead>\n",
       "  <tbody>\n",
       "    <tr>\n",
       "      <th>2006-12-16 17:24:00</th>\n",
       "      <td>4.216</td>\n",
       "      <td>0.418</td>\n",
       "      <td>234.84</td>\n",
       "      <td>18.4</td>\n",
       "      <td>0.0</td>\n",
       "      <td>1.0</td>\n",
       "      <td>17.0</td>\n",
       "    </tr>\n",
       "    <tr>\n",
       "      <th>2006-12-16 17:25:00</th>\n",
       "      <td>5.360</td>\n",
       "      <td>0.436</td>\n",
       "      <td>233.63</td>\n",
       "      <td>23.0</td>\n",
       "      <td>0.0</td>\n",
       "      <td>1.0</td>\n",
       "      <td>16.0</td>\n",
       "    </tr>\n",
       "    <tr>\n",
       "      <th>2006-12-16 17:26:00</th>\n",
       "      <td>5.374</td>\n",
       "      <td>0.498</td>\n",
       "      <td>233.29</td>\n",
       "      <td>23.0</td>\n",
       "      <td>0.0</td>\n",
       "      <td>2.0</td>\n",
       "      <td>17.0</td>\n",
       "    </tr>\n",
       "    <tr>\n",
       "      <th>2006-12-16 17:27:00</th>\n",
       "      <td>5.388</td>\n",
       "      <td>0.502</td>\n",
       "      <td>233.74</td>\n",
       "      <td>23.0</td>\n",
       "      <td>0.0</td>\n",
       "      <td>1.0</td>\n",
       "      <td>17.0</td>\n",
       "    </tr>\n",
       "    <tr>\n",
       "      <th>2006-12-16 17:28:00</th>\n",
       "      <td>3.666</td>\n",
       "      <td>0.528</td>\n",
       "      <td>235.68</td>\n",
       "      <td>15.8</td>\n",
       "      <td>0.0</td>\n",
       "      <td>1.0</td>\n",
       "      <td>17.0</td>\n",
       "    </tr>\n",
       "    <tr>\n",
       "      <th>...</th>\n",
       "      <td>...</td>\n",
       "      <td>...</td>\n",
       "      <td>...</td>\n",
       "      <td>...</td>\n",
       "      <td>...</td>\n",
       "      <td>...</td>\n",
       "      <td>...</td>\n",
       "    </tr>\n",
       "    <tr>\n",
       "      <th>2010-11-26 20:58:00</th>\n",
       "      <td>0.946</td>\n",
       "      <td>0.000</td>\n",
       "      <td>240.43</td>\n",
       "      <td>4.0</td>\n",
       "      <td>0.0</td>\n",
       "      <td>0.0</td>\n",
       "      <td>0.0</td>\n",
       "    </tr>\n",
       "    <tr>\n",
       "      <th>2010-11-26 20:59:00</th>\n",
       "      <td>0.944</td>\n",
       "      <td>0.000</td>\n",
       "      <td>240.00</td>\n",
       "      <td>4.0</td>\n",
       "      <td>0.0</td>\n",
       "      <td>0.0</td>\n",
       "      <td>0.0</td>\n",
       "    </tr>\n",
       "    <tr>\n",
       "      <th>2010-11-26 21:00:00</th>\n",
       "      <td>0.938</td>\n",
       "      <td>0.000</td>\n",
       "      <td>239.82</td>\n",
       "      <td>3.8</td>\n",
       "      <td>0.0</td>\n",
       "      <td>0.0</td>\n",
       "      <td>0.0</td>\n",
       "    </tr>\n",
       "    <tr>\n",
       "      <th>2010-11-26 21:01:00</th>\n",
       "      <td>0.934</td>\n",
       "      <td>0.000</td>\n",
       "      <td>239.70</td>\n",
       "      <td>3.8</td>\n",
       "      <td>0.0</td>\n",
       "      <td>0.0</td>\n",
       "      <td>0.0</td>\n",
       "    </tr>\n",
       "    <tr>\n",
       "      <th>2010-11-26 21:02:00</th>\n",
       "      <td>0.932</td>\n",
       "      <td>0.000</td>\n",
       "      <td>239.55</td>\n",
       "      <td>3.8</td>\n",
       "      <td>0.0</td>\n",
       "      <td>0.0</td>\n",
       "      <td>0.0</td>\n",
       "    </tr>\n",
       "  </tbody>\n",
       "</table>\n",
       "<p>2075259 rows × 7 columns</p>\n",
       "</div>"
      ],
      "text/plain": [
       "                     Global_active_power  Global_reactive_power  Voltage  \\\n",
       "date_time                                                                  \n",
       "2006-12-16 17:24:00                4.216                  0.418   234.84   \n",
       "2006-12-16 17:25:00                5.360                  0.436   233.63   \n",
       "2006-12-16 17:26:00                5.374                  0.498   233.29   \n",
       "2006-12-16 17:27:00                5.388                  0.502   233.74   \n",
       "2006-12-16 17:28:00                3.666                  0.528   235.68   \n",
       "...                                  ...                    ...      ...   \n",
       "2010-11-26 20:58:00                0.946                  0.000   240.43   \n",
       "2010-11-26 20:59:00                0.944                  0.000   240.00   \n",
       "2010-11-26 21:00:00                0.938                  0.000   239.82   \n",
       "2010-11-26 21:01:00                0.934                  0.000   239.70   \n",
       "2010-11-26 21:02:00                0.932                  0.000   239.55   \n",
       "\n",
       "                     Global_intensity  Sub_metering_1  Sub_metering_2  \\\n",
       "date_time                                                               \n",
       "2006-12-16 17:24:00              18.4             0.0             1.0   \n",
       "2006-12-16 17:25:00              23.0             0.0             1.0   \n",
       "2006-12-16 17:26:00              23.0             0.0             2.0   \n",
       "2006-12-16 17:27:00              23.0             0.0             1.0   \n",
       "2006-12-16 17:28:00              15.8             0.0             1.0   \n",
       "...                               ...             ...             ...   \n",
       "2010-11-26 20:58:00               4.0             0.0             0.0   \n",
       "2010-11-26 20:59:00               4.0             0.0             0.0   \n",
       "2010-11-26 21:00:00               3.8             0.0             0.0   \n",
       "2010-11-26 21:01:00               3.8             0.0             0.0   \n",
       "2010-11-26 21:02:00               3.8             0.0             0.0   \n",
       "\n",
       "                     Sub_metering_3  \n",
       "date_time                            \n",
       "2006-12-16 17:24:00            17.0  \n",
       "2006-12-16 17:25:00            16.0  \n",
       "2006-12-16 17:26:00            17.0  \n",
       "2006-12-16 17:27:00            17.0  \n",
       "2006-12-16 17:28:00            17.0  \n",
       "...                             ...  \n",
       "2010-11-26 20:58:00             0.0  \n",
       "2010-11-26 20:59:00             0.0  \n",
       "2010-11-26 21:00:00             0.0  \n",
       "2010-11-26 21:01:00             0.0  \n",
       "2010-11-26 21:02:00             0.0  \n",
       "\n",
       "[2075259 rows x 7 columns]"
      ]
     },
     "execution_count": 11,
     "metadata": {},
     "output_type": "execute_result"
    }
   ],
   "source": [
    "df"
   ]
  },
  {
   "cell_type": "code",
   "execution_count": 12,
   "id": "a4fbff33",
   "metadata": {
    "execution": {
     "iopub.execute_input": "2022-11-15T00:58:04.058124Z",
     "iopub.status.busy": "2022-11-15T00:58:04.057311Z",
     "iopub.status.idle": "2022-11-15T00:58:04.096511Z",
     "shell.execute_reply": "2022-11-15T00:58:04.095449Z",
     "shell.execute_reply.started": "2022-11-15T00:58:04.058088Z"
    }
   },
   "outputs": [
    {
     "name": "stdout",
     "output_type": "stream",
     "text": [
      "<class 'pandas.core.frame.DataFrame'>\n",
      "DatetimeIndex: 2075259 entries, 2006-12-16 17:24:00 to 2010-11-26 21:02:00\n",
      "Data columns (total 7 columns):\n",
      " #   Column                 Dtype  \n",
      "---  ------                 -----  \n",
      " 0   Global_active_power    float64\n",
      " 1   Global_reactive_power  float64\n",
      " 2   Voltage                float64\n",
      " 3   Global_intensity       float64\n",
      " 4   Sub_metering_1         float64\n",
      " 5   Sub_metering_2         float64\n",
      " 6   Sub_metering_3         float64\n",
      "dtypes: float64(7)\n",
      "memory usage: 126.7 MB\n"
     ]
    }
   ],
   "source": [
    "df.info()"
   ]
  },
  {
   "cell_type": "code",
   "execution_count": 13,
   "id": "45514768",
   "metadata": {
    "execution": {
     "iopub.execute_input": "2022-11-15T00:58:04.098755Z",
     "iopub.status.busy": "2022-11-15T00:58:04.098156Z",
     "iopub.status.idle": "2022-11-15T00:58:04.106030Z",
     "shell.execute_reply": "2022-11-15T00:58:04.104872Z",
     "shell.execute_reply.started": "2022-11-15T00:58:04.098717Z"
    }
   },
   "outputs": [
    {
     "data": {
      "text/plain": [
       "(2075259, 7)"
      ]
     },
     "execution_count": 13,
     "metadata": {},
     "output_type": "execute_result"
    }
   ],
   "source": [
    "df.shape"
   ]
  },
  {
   "cell_type": "code",
   "execution_count": 14,
   "id": "e39324e1",
   "metadata": {
    "execution": {
     "iopub.execute_input": "2022-11-15T00:58:04.110253Z",
     "iopub.status.busy": "2022-11-15T00:58:04.107580Z",
     "iopub.status.idle": "2022-11-15T00:58:04.145742Z",
     "shell.execute_reply": "2022-11-15T00:58:04.144841Z",
     "shell.execute_reply.started": "2022-11-15T00:58:04.110213Z"
    }
   },
   "outputs": [
    {
     "data": {
      "text/plain": [
       "Global_active_power      25979\n",
       "Global_reactive_power    25979\n",
       "Voltage                  25979\n",
       "Global_intensity         25979\n",
       "Sub_metering_1           25979\n",
       "Sub_metering_2           25979\n",
       "Sub_metering_3           25979\n",
       "dtype: int64"
      ]
     },
     "execution_count": 14,
     "metadata": {},
     "output_type": "execute_result"
    }
   ],
   "source": [
    "df.isna().sum()"
   ]
  },
  {
   "cell_type": "code",
   "execution_count": 15,
   "id": "279a7087",
   "metadata": {
    "execution": {
     "iopub.execute_input": "2022-11-15T00:58:04.147598Z",
     "iopub.status.busy": "2022-11-15T00:58:04.147228Z",
     "iopub.status.idle": "2022-11-15T00:58:04.153554Z",
     "shell.execute_reply": "2022-11-15T00:58:04.152472Z",
     "shell.execute_reply.started": "2022-11-15T00:58:04.147564Z"
    }
   },
   "outputs": [],
   "source": [
    "# filling missing values by the value of one day before \n",
    "def fill_missing(data):\n",
    "    one_day = 24*60\n",
    "    for row in range(data.shape[0]):\n",
    "        for col in range(data.shape[1]):\n",
    "            if np.isnan(data[row,col]):\n",
    "                data[row,col] = data[row-one_day,col]"
   ]
  },
  {
   "cell_type": "code",
   "execution_count": 16,
   "id": "bfbf8f64",
   "metadata": {
    "execution": {
     "iopub.execute_input": "2022-11-15T00:58:04.155709Z",
     "iopub.status.busy": "2022-11-15T00:58:04.155338Z",
     "iopub.status.idle": "2022-11-15T00:58:37.109321Z",
     "shell.execute_reply": "2022-11-15T00:58:37.108261Z",
     "shell.execute_reply.started": "2022-11-15T00:58:04.155673Z"
    }
   },
   "outputs": [],
   "source": [
    "fill_missing(df.values)"
   ]
  },
  {
   "cell_type": "code",
   "execution_count": 17,
   "id": "972597c0",
   "metadata": {
    "execution": {
     "iopub.execute_input": "2022-11-15T00:58:37.111166Z",
     "iopub.status.busy": "2022-11-15T00:58:37.110682Z",
     "iopub.status.idle": "2022-11-15T00:58:37.144741Z",
     "shell.execute_reply": "2022-11-15T00:58:37.143719Z",
     "shell.execute_reply.started": "2022-11-15T00:58:37.111128Z"
    }
   },
   "outputs": [
    {
     "data": {
      "text/plain": [
       "Global_active_power      0\n",
       "Global_reactive_power    0\n",
       "Voltage                  0\n",
       "Global_intensity         0\n",
       "Sub_metering_1           0\n",
       "Sub_metering_2           0\n",
       "Sub_metering_3           0\n",
       "dtype: int64"
      ]
     },
     "execution_count": 17,
     "metadata": {},
     "output_type": "execute_result"
    }
   ],
   "source": [
    "df.isna().sum()"
   ]
  },
  {
   "cell_type": "code",
   "execution_count": 18,
   "id": "b35e5b60",
   "metadata": {
    "execution": {
     "iopub.execute_input": "2022-11-15T00:58:37.149009Z",
     "iopub.status.busy": "2022-11-15T00:58:37.148688Z",
     "iopub.status.idle": "2022-11-15T00:58:37.204466Z",
     "shell.execute_reply": "2022-11-15T00:58:37.203479Z",
     "shell.execute_reply.started": "2022-11-15T00:58:37.148982Z"
    }
   },
   "outputs": [],
   "source": [
    "# Compute remaining active power\n",
    "df['sub_metering_remaining'] = (df.Global_active_power * 1000  / 60 ) - (df.Sub_metering_1 + df.Sub_metering_2 + df.Sub_metering_3)"
   ]
  },
  {
   "cell_type": "code",
   "execution_count": 19,
   "id": "24331467",
   "metadata": {
    "execution": {
     "iopub.execute_input": "2022-11-15T00:58:37.206101Z",
     "iopub.status.busy": "2022-11-15T00:58:37.205723Z",
     "iopub.status.idle": "2022-11-15T00:58:37.816436Z",
     "shell.execute_reply": "2022-11-15T00:58:37.815389Z",
     "shell.execute_reply.started": "2022-11-15T00:58:37.206065Z"
    }
   },
   "outputs": [
    {
     "data": {
      "text/html": [
       "<div>\n",
       "<style scoped>\n",
       "    .dataframe tbody tr th:only-of-type {\n",
       "        vertical-align: middle;\n",
       "    }\n",
       "\n",
       "    .dataframe tbody tr th {\n",
       "        vertical-align: top;\n",
       "    }\n",
       "\n",
       "    .dataframe thead th {\n",
       "        text-align: right;\n",
       "    }\n",
       "</style>\n",
       "<table border=\"1\" class=\"dataframe\">\n",
       "  <thead>\n",
       "    <tr style=\"text-align: right;\">\n",
       "      <th></th>\n",
       "      <th>Global_active_power</th>\n",
       "      <th>Global_reactive_power</th>\n",
       "      <th>Voltage</th>\n",
       "      <th>Global_intensity</th>\n",
       "      <th>Sub_metering_1</th>\n",
       "      <th>Sub_metering_2</th>\n",
       "      <th>Sub_metering_3</th>\n",
       "      <th>sub_metering_remaining</th>\n",
       "    </tr>\n",
       "  </thead>\n",
       "  <tbody>\n",
       "    <tr>\n",
       "      <th>count</th>\n",
       "      <td>2.075259e+06</td>\n",
       "      <td>2.075259e+06</td>\n",
       "      <td>2.075259e+06</td>\n",
       "      <td>2.075259e+06</td>\n",
       "      <td>2.075259e+06</td>\n",
       "      <td>2.075259e+06</td>\n",
       "      <td>2.075259e+06</td>\n",
       "      <td>2.075259e+06</td>\n",
       "    </tr>\n",
       "    <tr>\n",
       "      <th>mean</th>\n",
       "      <td>1.089418e+00</td>\n",
       "      <td>1.236871e-01</td>\n",
       "      <td>2.408364e+02</td>\n",
       "      <td>4.618401e+00</td>\n",
       "      <td>1.118474e+00</td>\n",
       "      <td>1.291131e+00</td>\n",
       "      <td>6.448635e+00</td>\n",
       "      <td>9.298722e+00</td>\n",
       "    </tr>\n",
       "    <tr>\n",
       "      <th>std</th>\n",
       "      <td>1.054678e+00</td>\n",
       "      <td>1.125933e-01</td>\n",
       "      <td>3.240051e+00</td>\n",
       "      <td>4.433165e+00</td>\n",
       "      <td>6.141460e+00</td>\n",
       "      <td>5.796922e+00</td>\n",
       "      <td>8.433584e+00</td>\n",
       "      <td>9.561278e+00</td>\n",
       "    </tr>\n",
       "    <tr>\n",
       "      <th>min</th>\n",
       "      <td>7.600000e-02</td>\n",
       "      <td>0.000000e+00</td>\n",
       "      <td>2.232000e+02</td>\n",
       "      <td>2.000000e-01</td>\n",
       "      <td>0.000000e+00</td>\n",
       "      <td>0.000000e+00</td>\n",
       "      <td>0.000000e+00</td>\n",
       "      <td>-2.400000e+00</td>\n",
       "    </tr>\n",
       "    <tr>\n",
       "      <th>25%</th>\n",
       "      <td>3.080000e-01</td>\n",
       "      <td>4.800000e-02</td>\n",
       "      <td>2.389900e+02</td>\n",
       "      <td>1.400000e+00</td>\n",
       "      <td>0.000000e+00</td>\n",
       "      <td>0.000000e+00</td>\n",
       "      <td>0.000000e+00</td>\n",
       "      <td>3.800000e+00</td>\n",
       "    </tr>\n",
       "    <tr>\n",
       "      <th>50%</th>\n",
       "      <td>6.020000e-01</td>\n",
       "      <td>1.000000e-01</td>\n",
       "      <td>2.410000e+02</td>\n",
       "      <td>2.600000e+00</td>\n",
       "      <td>0.000000e+00</td>\n",
       "      <td>0.000000e+00</td>\n",
       "      <td>1.000000e+00</td>\n",
       "      <td>5.500000e+00</td>\n",
       "    </tr>\n",
       "    <tr>\n",
       "      <th>75%</th>\n",
       "      <td>1.526000e+00</td>\n",
       "      <td>1.940000e-01</td>\n",
       "      <td>2.428700e+02</td>\n",
       "      <td>6.400000e+00</td>\n",
       "      <td>0.000000e+00</td>\n",
       "      <td>1.000000e+00</td>\n",
       "      <td>1.700000e+01</td>\n",
       "      <td>1.036667e+01</td>\n",
       "    </tr>\n",
       "    <tr>\n",
       "      <th>max</th>\n",
       "      <td>1.112200e+01</td>\n",
       "      <td>1.390000e+00</td>\n",
       "      <td>2.541500e+02</td>\n",
       "      <td>4.840000e+01</td>\n",
       "      <td>8.800000e+01</td>\n",
       "      <td>8.000000e+01</td>\n",
       "      <td>3.100000e+01</td>\n",
       "      <td>1.248333e+02</td>\n",
       "    </tr>\n",
       "  </tbody>\n",
       "</table>\n",
       "</div>"
      ],
      "text/plain": [
       "       Global_active_power  Global_reactive_power       Voltage  \\\n",
       "count         2.075259e+06           2.075259e+06  2.075259e+06   \n",
       "mean          1.089418e+00           1.236871e-01  2.408364e+02   \n",
       "std           1.054678e+00           1.125933e-01  3.240051e+00   \n",
       "min           7.600000e-02           0.000000e+00  2.232000e+02   \n",
       "25%           3.080000e-01           4.800000e-02  2.389900e+02   \n",
       "50%           6.020000e-01           1.000000e-01  2.410000e+02   \n",
       "75%           1.526000e+00           1.940000e-01  2.428700e+02   \n",
       "max           1.112200e+01           1.390000e+00  2.541500e+02   \n",
       "\n",
       "       Global_intensity  Sub_metering_1  Sub_metering_2  Sub_metering_3  \\\n",
       "count      2.075259e+06    2.075259e+06    2.075259e+06    2.075259e+06   \n",
       "mean       4.618401e+00    1.118474e+00    1.291131e+00    6.448635e+00   \n",
       "std        4.433165e+00    6.141460e+00    5.796922e+00    8.433584e+00   \n",
       "min        2.000000e-01    0.000000e+00    0.000000e+00    0.000000e+00   \n",
       "25%        1.400000e+00    0.000000e+00    0.000000e+00    0.000000e+00   \n",
       "50%        2.600000e+00    0.000000e+00    0.000000e+00    1.000000e+00   \n",
       "75%        6.400000e+00    0.000000e+00    1.000000e+00    1.700000e+01   \n",
       "max        4.840000e+01    8.800000e+01    8.000000e+01    3.100000e+01   \n",
       "\n",
       "       sub_metering_remaining  \n",
       "count            2.075259e+06  \n",
       "mean             9.298722e+00  \n",
       "std              9.561278e+00  \n",
       "min             -2.400000e+00  \n",
       "25%              3.800000e+00  \n",
       "50%              5.500000e+00  \n",
       "75%              1.036667e+01  \n",
       "max              1.248333e+02  "
      ]
     },
     "execution_count": 19,
     "metadata": {},
     "output_type": "execute_result"
    }
   ],
   "source": [
    "df.describe()"
   ]
  },
  {
   "cell_type": "code",
   "execution_count": 20,
   "id": "7c85cbf9",
   "metadata": {
    "execution": {
     "iopub.execute_input": "2022-11-15T00:58:37.818510Z",
     "iopub.status.busy": "2022-11-15T00:58:37.818047Z",
     "iopub.status.idle": "2022-11-15T00:58:37.887746Z",
     "shell.execute_reply": "2022-11-15T00:58:37.886713Z",
     "shell.execute_reply.started": "2022-11-15T00:58:37.818471Z"
    }
   },
   "outputs": [
    {
     "data": {
      "text/html": [
       "<div>\n",
       "<style scoped>\n",
       "    .dataframe tbody tr th:only-of-type {\n",
       "        vertical-align: middle;\n",
       "    }\n",
       "\n",
       "    .dataframe tbody tr th {\n",
       "        vertical-align: top;\n",
       "    }\n",
       "\n",
       "    .dataframe thead th {\n",
       "        text-align: right;\n",
       "    }\n",
       "</style>\n",
       "<table border=\"1\" class=\"dataframe\">\n",
       "  <thead>\n",
       "    <tr style=\"text-align: right;\">\n",
       "      <th></th>\n",
       "      <th>Global_active_power</th>\n",
       "      <th>Global_reactive_power</th>\n",
       "      <th>Voltage</th>\n",
       "      <th>Global_intensity</th>\n",
       "      <th>Sub_metering_1</th>\n",
       "      <th>Sub_metering_2</th>\n",
       "      <th>Sub_metering_3</th>\n",
       "      <th>sub_metering_remaining</th>\n",
       "    </tr>\n",
       "    <tr>\n",
       "      <th>date_time</th>\n",
       "      <th></th>\n",
       "      <th></th>\n",
       "      <th></th>\n",
       "      <th></th>\n",
       "      <th></th>\n",
       "      <th></th>\n",
       "      <th></th>\n",
       "      <th></th>\n",
       "    </tr>\n",
       "  </thead>\n",
       "  <tbody>\n",
       "    <tr>\n",
       "      <th>2006-12-16</th>\n",
       "      <td>3.053475</td>\n",
       "      <td>0.088187</td>\n",
       "      <td>236.243763</td>\n",
       "      <td>13.082828</td>\n",
       "      <td>0.000000</td>\n",
       "      <td>1.378788</td>\n",
       "      <td>12.439394</td>\n",
       "      <td>37.073064</td>\n",
       "    </tr>\n",
       "    <tr>\n",
       "      <th>2006-12-17</th>\n",
       "      <td>2.354486</td>\n",
       "      <td>0.156949</td>\n",
       "      <td>240.087028</td>\n",
       "      <td>9.999028</td>\n",
       "      <td>1.411806</td>\n",
       "      <td>2.907639</td>\n",
       "      <td>9.264583</td>\n",
       "      <td>25.657407</td>\n",
       "    </tr>\n",
       "    <tr>\n",
       "      <th>2006-12-18</th>\n",
       "      <td>1.530435</td>\n",
       "      <td>0.112356</td>\n",
       "      <td>241.231694</td>\n",
       "      <td>6.421667</td>\n",
       "      <td>0.738194</td>\n",
       "      <td>1.820139</td>\n",
       "      <td>9.734722</td>\n",
       "      <td>13.214190</td>\n",
       "    </tr>\n",
       "    <tr>\n",
       "      <th>2006-12-19</th>\n",
       "      <td>1.157079</td>\n",
       "      <td>0.104821</td>\n",
       "      <td>241.999313</td>\n",
       "      <td>4.926389</td>\n",
       "      <td>0.582639</td>\n",
       "      <td>5.279167</td>\n",
       "      <td>4.303472</td>\n",
       "      <td>9.119375</td>\n",
       "    </tr>\n",
       "    <tr>\n",
       "      <th>2006-12-20</th>\n",
       "      <td>1.545658</td>\n",
       "      <td>0.111804</td>\n",
       "      <td>242.308062</td>\n",
       "      <td>6.467361</td>\n",
       "      <td>0.000000</td>\n",
       "      <td>1.838889</td>\n",
       "      <td>9.765972</td>\n",
       "      <td>14.156111</td>\n",
       "    </tr>\n",
       "  </tbody>\n",
       "</table>\n",
       "</div>"
      ],
      "text/plain": [
       "            Global_active_power  Global_reactive_power     Voltage  \\\n",
       "date_time                                                            \n",
       "2006-12-16             3.053475               0.088187  236.243763   \n",
       "2006-12-17             2.354486               0.156949  240.087028   \n",
       "2006-12-18             1.530435               0.112356  241.231694   \n",
       "2006-12-19             1.157079               0.104821  241.999313   \n",
       "2006-12-20             1.545658               0.111804  242.308062   \n",
       "\n",
       "            Global_intensity  Sub_metering_1  Sub_metering_2  Sub_metering_3  \\\n",
       "date_time                                                                      \n",
       "2006-12-16         13.082828        0.000000        1.378788       12.439394   \n",
       "2006-12-17          9.999028        1.411806        2.907639        9.264583   \n",
       "2006-12-18          6.421667        0.738194        1.820139        9.734722   \n",
       "2006-12-19          4.926389        0.582639        5.279167        4.303472   \n",
       "2006-12-20          6.467361        0.000000        1.838889        9.765972   \n",
       "\n",
       "            sub_metering_remaining  \n",
       "date_time                           \n",
       "2006-12-16               37.073064  \n",
       "2006-12-17               25.657407  \n",
       "2006-12-18               13.214190  \n",
       "2006-12-19                9.119375  \n",
       "2006-12-20               14.156111  "
      ]
     },
     "execution_count": 20,
     "metadata": {},
     "output_type": "execute_result"
    }
   ],
   "source": [
    "# resample the data on daily basis\n",
    "df = df.resample('D').mean()\n",
    "df.shape\n",
    "\n",
    "df.head()"
   ]
  },
  {
   "cell_type": "code",
   "execution_count": 21,
   "id": "88b37c0b",
   "metadata": {
    "execution": {
     "iopub.execute_input": "2022-11-15T01:08:43.369314Z",
     "iopub.status.busy": "2022-11-15T01:08:43.368949Z",
     "iopub.status.idle": "2022-11-15T01:08:43.375355Z",
     "shell.execute_reply": "2022-11-15T01:08:43.374126Z",
     "shell.execute_reply.started": "2022-11-15T01:08:43.369282Z"
    }
   },
   "outputs": [],
   "source": [
    "def train_test_split(df):\n",
    "    \n",
    "    # compute split point\n",
    "    end_idx = df.shape[0]* 70 // 100\n",
    "    \n",
    "    train_data = df.iloc[:end_idx, : ]\n",
    "    test_data = df.iloc[end_idx:, :]\n",
    "    \n",
    "    return train_data, test_data"
   ]
  },
  {
   "cell_type": "code",
   "execution_count": 22,
   "id": "7f6b0546",
   "metadata": {
    "execution": {
     "iopub.execute_input": "2022-11-15T01:08:43.517150Z",
     "iopub.status.busy": "2022-11-15T01:08:43.516575Z",
     "iopub.status.idle": "2022-11-15T01:08:43.521902Z",
     "shell.execute_reply": "2022-11-15T01:08:43.520891Z",
     "shell.execute_reply.started": "2022-11-15T01:08:43.517113Z"
    }
   },
   "outputs": [],
   "source": [
    "# Split the data into train and test\n",
    "X_train, X_test = train_test_split(df)"
   ]
  },
  {
   "cell_type": "code",
   "execution_count": 23,
   "id": "b30a549d",
   "metadata": {
    "execution": {
     "iopub.execute_input": "2022-11-15T01:08:43.708782Z",
     "iopub.status.busy": "2022-11-15T01:08:43.708417Z",
     "iopub.status.idle": "2022-11-15T01:08:43.715136Z",
     "shell.execute_reply": "2022-11-15T01:08:43.714067Z",
     "shell.execute_reply.started": "2022-11-15T01:08:43.708751Z"
    }
   },
   "outputs": [],
   "source": [
    "from sklearn.preprocessing import MinMaxScaler\n",
    "def scale_data(train, test):\n",
    "    scaler = MinMaxScaler().fit(train)\n",
    "    return scaler.transform(train), scaler.transform(test), scaler"
   ]
  },
  {
   "cell_type": "code",
   "execution_count": 24,
   "id": "b7d1ae46",
   "metadata": {
    "execution": {
     "iopub.execute_input": "2022-11-15T01:08:44.142170Z",
     "iopub.status.busy": "2022-11-15T01:08:44.141033Z",
     "iopub.status.idle": "2022-11-15T01:08:44.152590Z",
     "shell.execute_reply": "2022-11-15T01:08:44.151651Z",
     "shell.execute_reply.started": "2022-11-15T01:08:44.142121Z"
    }
   },
   "outputs": [],
   "source": [
    "# Scale the data\n",
    "X_train, X_test, scaler = scale_data(X_train, X_test)"
   ]
  },
  {
   "cell_type": "code",
   "execution_count": 25,
   "id": "23dd79c2",
   "metadata": {
    "execution": {
     "iopub.execute_input": "2022-11-15T01:08:52.370751Z",
     "iopub.status.busy": "2022-11-15T01:08:52.370389Z",
     "iopub.status.idle": "2022-11-15T01:08:52.377613Z",
     "shell.execute_reply": "2022-11-15T01:08:52.376471Z",
     "shell.execute_reply.started": "2022-11-15T01:08:52.370720Z"
    }
   },
   "outputs": [],
   "source": [
    "def convert_to_supervised(df):\n",
    "\n",
    "    input_features = []\n",
    "    ouput_feature = []\n",
    "    \n",
    "    len_df = df.shape[0]\n",
    "    \n",
    "    for i in range(len_df):\n",
    "        \n",
    "        end_idx = i + 1 \n",
    "        \n",
    "        if end_idx > len_df-1:\n",
    "            break\n",
    "            \n",
    "        input_x , output_y = df[i:end_idx, 1:], df[end_idx: end_idx+1, 0]\n",
    "        \n",
    "        input_features.append(input_x)\n",
    "        ouput_feature.append(output_y)\n",
    "    \n",
    "    return np.array(input_features), np.mean(np.array(ouput_feature), axis=1)"
   ]
  },
  {
   "cell_type": "code",
   "execution_count": 26,
   "id": "d7c4bba6",
   "metadata": {
    "execution": {
     "iopub.execute_input": "2022-11-15T01:08:52.857562Z",
     "iopub.status.busy": "2022-11-15T01:08:52.856860Z",
     "iopub.status.idle": "2022-11-15T01:08:52.867123Z",
     "shell.execute_reply": "2022-11-15T01:08:52.865727Z",
     "shell.execute_reply.started": "2022-11-15T01:08:52.857527Z"
    }
   },
   "outputs": [
    {
     "name": "stdout",
     "output_type": "stream",
     "text": [
      "Shape of (training data) input features : (1008, 1, 7) and ouput feature (1008,)\n"
     ]
    }
   ],
   "source": [
    "# Split the training data into input features and out feature\n",
    "X_train, Y_train = convert_to_supervised(X_train)\n",
    "print('Shape of (training data) input features : %s and ouput feature %s' % (X_train.shape, Y_train.shape))"
   ]
  },
  {
   "cell_type": "code",
   "execution_count": 27,
   "id": "56df1ee0",
   "metadata": {
    "execution": {
     "iopub.execute_input": "2022-11-15T01:08:59.652374Z",
     "iopub.status.busy": "2022-11-15T01:08:59.651265Z",
     "iopub.status.idle": "2022-11-15T01:08:59.659454Z",
     "shell.execute_reply": "2022-11-15T01:08:59.658349Z",
     "shell.execute_reply.started": "2022-11-15T01:08:59.652334Z"
    }
   },
   "outputs": [
    {
     "data": {
      "text/plain": [
       "((1008, 1, 7), (1008,))"
      ]
     },
     "execution_count": 27,
     "metadata": {},
     "output_type": "execute_result"
    }
   ],
   "source": [
    "X_train.shape,Y_train.shape"
   ]
  },
  {
   "cell_type": "code",
   "execution_count": 28,
   "id": "fb28ed3e",
   "metadata": {
    "execution": {
     "iopub.execute_input": "2022-11-15T01:09:01.019677Z",
     "iopub.status.busy": "2022-11-15T01:09:01.019294Z",
     "iopub.status.idle": "2022-11-15T01:09:01.028509Z",
     "shell.execute_reply": "2022-11-15T01:09:01.027344Z",
     "shell.execute_reply.started": "2022-11-15T01:09:01.019646Z"
    }
   },
   "outputs": [
    {
     "name": "stdout",
     "output_type": "stream",
     "text": [
      "Shape of (testing data) input features : (432, 1, 7) and ouput feature (432,)\n"
     ]
    }
   ],
   "source": [
    "X_test, Y_test = convert_to_supervised(X_test)\n",
    "print('Shape of (testing data) input features : %s and ouput feature %s' % (X_test.shape, Y_test.shape))"
   ]
  },
  {
   "cell_type": "code",
   "execution_count": 212,
   "id": "88cecd06",
   "metadata": {
    "execution": {
     "iopub.execute_input": "2022-11-15T01:21:03.837999Z",
     "iopub.status.busy": "2022-11-15T01:21:03.837085Z",
     "iopub.status.idle": "2022-11-15T01:21:04.321049Z",
     "shell.execute_reply": "2022-11-15T01:21:04.319892Z",
     "shell.execute_reply.started": "2022-11-15T01:21:03.837949Z"
    }
   },
   "outputs": [
    {
     "name": "stdout",
     "output_type": "stream",
     "text": [
      "Model: \"model_32\"\n",
      "__________________________________________________________________________________________________\n",
      " Layer (type)                   Output Shape         Param #     Connected to                     \n",
      "==================================================================================================\n",
      " input_34 (InputLayer)          [(None, 1, 7)]       0           []                               \n",
      "                                                                                                  \n",
      " layer_normalization_718 (Layer  (None, 1, 7)        14          ['input_34[0][0]']               \n",
      " Normalization)                                                                                   \n",
      "                                                                                                  \n",
      " multi_head_attention_359 (Mult  (None, 1, 7)        1991        ['layer_normalization_718[0][0]',\n",
      " iHeadAttention)                                                  'layer_normalization_718[0][0]']\n",
      "                                                                                                  \n",
      " dropout_750 (Dropout)          (None, 1, 7)         0           ['multi_head_attention_359[0][0]'\n",
      "                                                                 ]                                \n",
      "                                                                                                  \n",
      " tf.__operators__.add_718 (TFOp  (None, 1, 7)        0           ['dropout_750[0][0]',            \n",
      " Lambda)                                                          'input_34[0][0]']               \n",
      "                                                                                                  \n",
      " layer_normalization_719 (Layer  (None, 1, 7)        14          ['tf.__operators__.add_718[0][0]'\n",
      " Normalization)                                                  ]                                \n",
      "                                                                                                  \n",
      " conv1d_718 (Conv1D)            (None, 1, 32)        256         ['layer_normalization_719[0][0]']\n",
      "                                                                                                  \n",
      " dropout_751 (Dropout)          (None, 1, 32)        0           ['conv1d_718[0][0]']             \n",
      "                                                                                                  \n",
      " conv1d_719 (Conv1D)            (None, 1, 7)         231         ['dropout_751[0][0]']            \n",
      "                                                                                                  \n",
      " tf.__operators__.add_719 (TFOp  (None, 1, 7)        0           ['conv1d_719[0][0]',             \n",
      " Lambda)                                                          'tf.__operators__.add_718[0][0]'\n",
      "                                                                 ]                                \n",
      "                                                                                                  \n",
      " layer_normalization_720 (Layer  (None, 1, 7)        14          ['tf.__operators__.add_719[0][0]'\n",
      " Normalization)                                                  ]                                \n",
      "                                                                                                  \n",
      " multi_head_attention_360 (Mult  (None, 1, 7)        1991        ['layer_normalization_720[0][0]',\n",
      " iHeadAttention)                                                  'layer_normalization_720[0][0]']\n",
      "                                                                                                  \n",
      " dropout_752 (Dropout)          (None, 1, 7)         0           ['multi_head_attention_360[0][0]'\n",
      "                                                                 ]                                \n",
      "                                                                                                  \n",
      " tf.__operators__.add_720 (TFOp  (None, 1, 7)        0           ['dropout_752[0][0]',            \n",
      " Lambda)                                                          'tf.__operators__.add_719[0][0]'\n",
      "                                                                 ]                                \n",
      "                                                                                                  \n",
      " layer_normalization_721 (Layer  (None, 1, 7)        14          ['tf.__operators__.add_720[0][0]'\n",
      " Normalization)                                                  ]                                \n",
      "                                                                                                  \n",
      " conv1d_720 (Conv1D)            (None, 1, 32)        256         ['layer_normalization_721[0][0]']\n",
      "                                                                                                  \n",
      " dropout_753 (Dropout)          (None, 1, 32)        0           ['conv1d_720[0][0]']             \n",
      "                                                                                                  \n",
      " conv1d_721 (Conv1D)            (None, 1, 7)         231         ['dropout_753[0][0]']            \n",
      "                                                                                                  \n",
      " tf.__operators__.add_721 (TFOp  (None, 1, 7)        0           ['conv1d_721[0][0]',             \n",
      " Lambda)                                                          'tf.__operators__.add_720[0][0]'\n",
      "                                                                 ]                                \n",
      "                                                                                                  \n",
      " layer_normalization_722 (Layer  (None, 1, 7)        14          ['tf.__operators__.add_721[0][0]'\n",
      " Normalization)                                                  ]                                \n",
      "                                                                                                  \n",
      " multi_head_attention_361 (Mult  (None, 1, 7)        1991        ['layer_normalization_722[0][0]',\n",
      " iHeadAttention)                                                  'layer_normalization_722[0][0]']\n",
      "                                                                                                  \n",
      " dropout_754 (Dropout)          (None, 1, 7)         0           ['multi_head_attention_361[0][0]'\n",
      "                                                                 ]                                \n",
      "                                                                                                  \n",
      " tf.__operators__.add_722 (TFOp  (None, 1, 7)        0           ['dropout_754[0][0]',            \n",
      " Lambda)                                                          'tf.__operators__.add_721[0][0]'\n",
      "                                                                 ]                                \n",
      "                                                                                                  \n",
      " layer_normalization_723 (Layer  (None, 1, 7)        14          ['tf.__operators__.add_722[0][0]'\n",
      " Normalization)                                                  ]                                \n",
      "                                                                                                  \n",
      " conv1d_722 (Conv1D)            (None, 1, 32)        256         ['layer_normalization_723[0][0]']\n",
      "                                                                                                  \n",
      " dropout_755 (Dropout)          (None, 1, 32)        0           ['conv1d_722[0][0]']             \n",
      "                                                                                                  \n",
      " conv1d_723 (Conv1D)            (None, 1, 7)         231         ['dropout_755[0][0]']            \n",
      "                                                                                                  \n",
      " tf.__operators__.add_723 (TFOp  (None, 1, 7)        0           ['conv1d_723[0][0]',             \n",
      " Lambda)                                                          'tf.__operators__.add_722[0][0]'\n",
      "                                                                 ]                                \n",
      "                                                                                                  \n",
      " layer_normalization_724 (Layer  (None, 1, 7)        14          ['tf.__operators__.add_723[0][0]'\n",
      " Normalization)                                                  ]                                \n",
      "                                                                                                  \n",
      " multi_head_attention_362 (Mult  (None, 1, 7)        1991        ['layer_normalization_724[0][0]',\n",
      " iHeadAttention)                                                  'layer_normalization_724[0][0]']\n",
      "                                                                                                  \n",
      " dropout_756 (Dropout)          (None, 1, 7)         0           ['multi_head_attention_362[0][0]'\n",
      "                                                                 ]                                \n",
      "                                                                                                  \n",
      " tf.__operators__.add_724 (TFOp  (None, 1, 7)        0           ['dropout_756[0][0]',            \n",
      " Lambda)                                                          'tf.__operators__.add_723[0][0]'\n",
      "                                                                 ]                                \n",
      "                                                                                                  \n",
      " layer_normalization_725 (Layer  (None, 1, 7)        14          ['tf.__operators__.add_724[0][0]'\n",
      " Normalization)                                                  ]                                \n",
      "                                                                                                  \n",
      " conv1d_724 (Conv1D)            (None, 1, 32)        256         ['layer_normalization_725[0][0]']\n",
      "                                                                                                  \n",
      " dropout_757 (Dropout)          (None, 1, 32)        0           ['conv1d_724[0][0]']             \n",
      "                                                                                                  \n",
      " conv1d_725 (Conv1D)            (None, 1, 7)         231         ['dropout_757[0][0]']            \n",
      "                                                                                                  \n",
      " tf.__operators__.add_725 (TFOp  (None, 1, 7)        0           ['conv1d_725[0][0]',             \n",
      " Lambda)                                                          'tf.__operators__.add_724[0][0]'\n",
      "                                                                 ]                                \n",
      "                                                                                                  \n",
      " layer_normalization_726 (Layer  (None, 1, 7)        14          ['tf.__operators__.add_725[0][0]'\n",
      " Normalization)                                                  ]                                \n",
      "                                                                                                  \n",
      " multi_head_attention_363 (Mult  (None, 1, 7)        1991        ['layer_normalization_726[0][0]',\n",
      " iHeadAttention)                                                  'layer_normalization_726[0][0]']\n",
      "                                                                                                  \n",
      " dropout_758 (Dropout)          (None, 1, 7)         0           ['multi_head_attention_363[0][0]'\n",
      "                                                                 ]                                \n",
      "                                                                                                  \n",
      " tf.__operators__.add_726 (TFOp  (None, 1, 7)        0           ['dropout_758[0][0]',            \n",
      " Lambda)                                                          'tf.__operators__.add_725[0][0]'\n",
      "                                                                 ]                                \n",
      "                                                                                                  \n",
      " layer_normalization_727 (Layer  (None, 1, 7)        14          ['tf.__operators__.add_726[0][0]'\n",
      " Normalization)                                                  ]                                \n",
      "                                                                                                  \n",
      " conv1d_726 (Conv1D)            (None, 1, 32)        256         ['layer_normalization_727[0][0]']\n",
      "                                                                                                  \n",
      " dropout_759 (Dropout)          (None, 1, 32)        0           ['conv1d_726[0][0]']             \n",
      "                                                                                                  \n",
      " conv1d_727 (Conv1D)            (None, 1, 7)         231         ['dropout_759[0][0]']            \n",
      "                                                                                                  \n",
      " tf.__operators__.add_727 (TFOp  (None, 1, 7)        0           ['conv1d_727[0][0]',             \n",
      " Lambda)                                                          'tf.__operators__.add_726[0][0]'\n",
      "                                                                 ]                                \n",
      "                                                                                                  \n",
      " layer_normalization_728 (Layer  (None, 1, 7)        14          ['tf.__operators__.add_727[0][0]'\n",
      " Normalization)                                                  ]                                \n",
      "                                                                                                  \n",
      " multi_head_attention_364 (Mult  (None, 1, 7)        1991        ['layer_normalization_728[0][0]',\n",
      " iHeadAttention)                                                  'layer_normalization_728[0][0]']\n",
      "                                                                                                  \n",
      " dropout_760 (Dropout)          (None, 1, 7)         0           ['multi_head_attention_364[0][0]'\n",
      "                                                                 ]                                \n",
      "                                                                                                  \n",
      " tf.__operators__.add_728 (TFOp  (None, 1, 7)        0           ['dropout_760[0][0]',            \n",
      " Lambda)                                                          'tf.__operators__.add_727[0][0]'\n",
      "                                                                 ]                                \n",
      "                                                                                                  \n",
      " layer_normalization_729 (Layer  (None, 1, 7)        14          ['tf.__operators__.add_728[0][0]'\n",
      " Normalization)                                                  ]                                \n",
      "                                                                                                  \n",
      " conv1d_728 (Conv1D)            (None, 1, 32)        256         ['layer_normalization_729[0][0]']\n",
      "                                                                                                  \n",
      " dropout_761 (Dropout)          (None, 1, 32)        0           ['conv1d_728[0][0]']             \n",
      "                                                                                                  \n",
      " conv1d_729 (Conv1D)            (None, 1, 7)         231         ['dropout_761[0][0]']            \n",
      "                                                                                                  \n",
      " tf.__operators__.add_729 (TFOp  (None, 1, 7)        0           ['conv1d_729[0][0]',             \n",
      " Lambda)                                                          'tf.__operators__.add_728[0][0]'\n",
      "                                                                 ]                                \n",
      "                                                                                                  \n",
      " layer_normalization_730 (Layer  (None, 1, 7)        14          ['tf.__operators__.add_729[0][0]'\n",
      " Normalization)                                                  ]                                \n",
      "                                                                                                  \n",
      " multi_head_attention_365 (Mult  (None, 1, 7)        1991        ['layer_normalization_730[0][0]',\n",
      " iHeadAttention)                                                  'layer_normalization_730[0][0]']\n",
      "                                                                                                  \n",
      " dropout_762 (Dropout)          (None, 1, 7)         0           ['multi_head_attention_365[0][0]'\n",
      "                                                                 ]                                \n",
      "                                                                                                  \n",
      " tf.__operators__.add_730 (TFOp  (None, 1, 7)        0           ['dropout_762[0][0]',            \n",
      " Lambda)                                                          'tf.__operators__.add_729[0][0]'\n",
      "                                                                 ]                                \n",
      "                                                                                                  \n",
      " layer_normalization_731 (Layer  (None, 1, 7)        14          ['tf.__operators__.add_730[0][0]'\n",
      " Normalization)                                                  ]                                \n",
      "                                                                                                  \n",
      " conv1d_730 (Conv1D)            (None, 1, 32)        256         ['layer_normalization_731[0][0]']\n",
      "                                                                                                  \n",
      " dropout_763 (Dropout)          (None, 1, 32)        0           ['conv1d_730[0][0]']             \n",
      "                                                                                                  \n",
      " conv1d_731 (Conv1D)            (None, 1, 7)         231         ['dropout_763[0][0]']            \n",
      "                                                                                                  \n",
      " tf.__operators__.add_731 (TFOp  (None, 1, 7)        0           ['conv1d_731[0][0]',             \n",
      " Lambda)                                                          'tf.__operators__.add_730[0][0]'\n",
      "                                                                 ]                                \n",
      "                                                                                                  \n",
      " layer_normalization_732 (Layer  (None, 1, 7)        14          ['tf.__operators__.add_731[0][0]'\n",
      " Normalization)                                                  ]                                \n",
      "                                                                                                  \n",
      " multi_head_attention_366 (Mult  (None, 1, 7)        1991        ['layer_normalization_732[0][0]',\n",
      " iHeadAttention)                                                  'layer_normalization_732[0][0]']\n",
      "                                                                                                  \n",
      " dropout_764 (Dropout)          (None, 1, 7)         0           ['multi_head_attention_366[0][0]'\n",
      "                                                                 ]                                \n",
      "                                                                                                  \n",
      " tf.__operators__.add_732 (TFOp  (None, 1, 7)        0           ['dropout_764[0][0]',            \n",
      " Lambda)                                                          'tf.__operators__.add_731[0][0]'\n",
      "                                                                 ]                                \n",
      "                                                                                                  \n",
      " layer_normalization_733 (Layer  (None, 1, 7)        14          ['tf.__operators__.add_732[0][0]'\n",
      " Normalization)                                                  ]                                \n",
      "                                                                                                  \n",
      " conv1d_732 (Conv1D)            (None, 1, 32)        256         ['layer_normalization_733[0][0]']\n",
      "                                                                                                  \n",
      " dropout_765 (Dropout)          (None, 1, 32)        0           ['conv1d_732[0][0]']             \n",
      "                                                                                                  \n",
      " conv1d_733 (Conv1D)            (None, 1, 7)         231         ['dropout_765[0][0]']            \n",
      "                                                                                                  \n",
      " tf.__operators__.add_733 (TFOp  (None, 1, 7)        0           ['conv1d_733[0][0]',             \n",
      " Lambda)                                                          'tf.__operators__.add_732[0][0]'\n",
      "                                                                 ]                                \n",
      "                                                                                                  \n",
      " global_average_pooling1d_32 (G  (None, 7)           0           ['tf.__operators__.add_733[0][0]'\n",
      " lobalAveragePooling1D)                                          ]                                \n",
      "                                                                                                  \n",
      " dense_64 (Dense)               (None, 512)          4096        ['global_average_pooling1d_32[0][\n",
      "                                                                 0]']                             \n",
      "                                                                                                  \n",
      " dropout_766 (Dropout)          (None, 512)          0           ['dense_64[0][0]']               \n",
      "                                                                                                  \n",
      " dense_65 (Dense)               (None, 1)            513         ['dropout_766[0][0]']            \n",
      "                                                                                                  \n",
      "==================================================================================================\n",
      "Total params: 24,657\n",
      "Trainable params: 24,657\n",
      "Non-trainable params: 0\n",
      "__________________________________________________________________________________________________\n"
     ]
    }
   ],
   "source": [
    "input_shape = X_train.shape[1:]\n",
    "model = Transformer(    \n",
    "    input_shape,\n",
    "    n_outputs=1,\n",
    "    head_size=4,\n",
    "    num_heads=4,\n",
    "    ff_dim=32,\n",
    "    num_transformer_blocks=10,\n",
    "    mlp_units=[512],\n",
    "    mlp_dropout=0.4,\n",
    "    dropout=0.2,).build_model()\n",
    "\n",
    "model.compile(\n",
    "    loss=\"mse\",\n",
    "    optimizer=keras.optimizers.Adam(),\n",
    ")\n",
    "\n",
    "model.summary()\n",
    "\n",
    "callbacks = [keras.callbacks.EarlyStopping(patience=10)]"
   ]
  },
  {
   "cell_type": "code",
   "execution_count": 213,
   "id": "2e3de98f",
   "metadata": {
    "execution": {
     "iopub.execute_input": "2022-11-15T01:24:56.426430Z",
     "iopub.status.busy": "2022-11-15T01:24:56.426044Z",
     "iopub.status.idle": "2022-11-15T01:27:19.862573Z",
     "shell.execute_reply": "2022-11-15T01:27:19.861320Z",
     "shell.execute_reply.started": "2022-11-15T01:24:56.426390Z"
    }
   },
   "outputs": [
    {
     "name": "stdout",
     "output_type": "stream",
     "text": [
      "Epoch 1/50\n",
      "51/51 [==============================] - 6s 26ms/step - loss: 0.0895 - val_loss: 0.0073\n",
      "Epoch 2/50\n",
      "51/51 [==============================] - 1s 11ms/step - loss: 0.0439 - val_loss: 0.0102\n",
      "Epoch 3/50\n",
      "51/51 [==============================] - 1s 11ms/step - loss: 0.0359 - val_loss: 0.0087\n",
      "Epoch 4/50\n",
      "51/51 [==============================] - 1s 11ms/step - loss: 0.0306 - val_loss: 0.0090\n",
      "Epoch 5/50\n",
      "51/51 [==============================] - 1s 11ms/step - loss: 0.0306 - val_loss: 0.0090\n",
      "Epoch 6/50\n",
      "51/51 [==============================] - 1s 11ms/step - loss: 0.0281 - val_loss: 0.0076\n",
      "Epoch 7/50\n",
      "51/51 [==============================] - 1s 11ms/step - loss: 0.0272 - val_loss: 0.0130\n",
      "Epoch 8/50\n",
      "51/51 [==============================] - 1s 11ms/step - loss: 0.0263 - val_loss: 0.0076\n",
      "Epoch 9/50\n",
      "51/51 [==============================] - 1s 11ms/step - loss: 0.0252 - val_loss: 0.0081\n",
      "Epoch 10/50\n",
      "51/51 [==============================] - 1s 11ms/step - loss: 0.0229 - val_loss: 0.0070\n",
      "Epoch 11/50\n",
      "51/51 [==============================] - 1s 10ms/step - loss: 0.0234 - val_loss: 0.0061\n",
      "Epoch 12/50\n",
      "51/51 [==============================] - 1s 11ms/step - loss: 0.0238 - val_loss: 0.0078\n",
      "Epoch 13/50\n",
      "51/51 [==============================] - 1s 10ms/step - loss: 0.0235 - val_loss: 0.0073\n",
      "Epoch 14/50\n",
      "51/51 [==============================] - 1s 11ms/step - loss: 0.0221 - val_loss: 0.0063\n",
      "Epoch 15/50\n",
      "51/51 [==============================] - 1s 12ms/step - loss: 0.0206 - val_loss: 0.0087\n",
      "Epoch 16/50\n",
      "51/51 [==============================] - 1s 12ms/step - loss: 0.0201 - val_loss: 0.0055\n",
      "Epoch 17/50\n",
      "51/51 [==============================] - 1s 11ms/step - loss: 0.0197 - val_loss: 0.0080\n",
      "Epoch 18/50\n",
      "51/51 [==============================] - 1s 11ms/step - loss: 0.0210 - val_loss: 0.0049\n",
      "Epoch 19/50\n",
      "51/51 [==============================] - 1s 11ms/step - loss: 0.0203 - val_loss: 0.0056\n",
      "Epoch 20/50\n",
      "51/51 [==============================] - 1s 11ms/step - loss: 0.0199 - val_loss: 0.0065\n",
      "Epoch 21/50\n",
      "51/51 [==============================] - 1s 11ms/step - loss: 0.0201 - val_loss: 0.0055\n",
      "Epoch 22/50\n",
      "51/51 [==============================] - 1s 11ms/step - loss: 0.0196 - val_loss: 0.0049\n",
      "Epoch 23/50\n",
      "51/51 [==============================] - 1s 11ms/step - loss: 0.0186 - val_loss: 0.0049\n",
      "Epoch 24/50\n",
      "51/51 [==============================] - 1s 12ms/step - loss: 0.0189 - val_loss: 0.0074\n",
      "Epoch 25/50\n",
      "51/51 [==============================] - 1s 11ms/step - loss: 0.0189 - val_loss: 0.0070\n",
      "Epoch 26/50\n",
      "51/51 [==============================] - 1s 12ms/step - loss: 0.0180 - val_loss: 0.0077\n",
      "Epoch 27/50\n",
      "51/51 [==============================] - 1s 11ms/step - loss: 0.0178 - val_loss: 0.0055\n",
      "Epoch 28/50\n",
      "51/51 [==============================] - 1s 11ms/step - loss: 0.0172 - val_loss: 0.0074\n",
      "Epoch 29/50\n",
      "51/51 [==============================] - 1s 10ms/step - loss: 0.0184 - val_loss: 0.0047\n",
      "Epoch 30/50\n",
      "51/51 [==============================] - 1s 11ms/step - loss: 0.0184 - val_loss: 0.0051\n",
      "Epoch 31/50\n",
      "51/51 [==============================] - 1s 11ms/step - loss: 0.0183 - val_loss: 0.0049\n",
      "Epoch 32/50\n",
      "51/51 [==============================] - 1s 11ms/step - loss: 0.0182 - val_loss: 0.0066\n",
      "Epoch 33/50\n",
      "51/51 [==============================] - 1s 11ms/step - loss: 0.0177 - val_loss: 0.0055\n",
      "Epoch 34/50\n",
      "51/51 [==============================] - 1s 11ms/step - loss: 0.0178 - val_loss: 0.0054\n",
      "Epoch 35/50\n",
      "51/51 [==============================] - 1s 11ms/step - loss: 0.0181 - val_loss: 0.0070\n",
      "Epoch 36/50\n",
      "51/51 [==============================] - 1s 12ms/step - loss: 0.0179 - val_loss: 0.0051\n",
      "Epoch 37/50\n",
      "51/51 [==============================] - 1s 13ms/step - loss: 0.0175 - val_loss: 0.0072\n",
      "Epoch 38/50\n",
      "51/51 [==============================] - 1s 11ms/step - loss: 0.0175 - val_loss: 0.0093\n",
      "Epoch 39/50\n",
      "51/51 [==============================] - 1s 11ms/step - loss: 0.0175 - val_loss: 0.0051\n"
     ]
    }
   ],
   "source": [
    "history=model.fit(\n",
    "    X_train,\n",
    "    Y_train,\n",
    "    validation_split=0.2,\n",
    "    epochs=50,\n",
    "    batch_size=16,\n",
    "    callbacks=callbacks,\n",
    ")"
   ]
  },
  {
   "cell_type": "code",
   "execution_count": 214,
   "id": "08f484b6",
   "metadata": {
    "execution": {
     "iopub.execute_input": "2022-11-15T01:39:22.234723Z",
     "iopub.status.busy": "2022-11-15T01:39:22.234356Z",
     "iopub.status.idle": "2022-11-15T01:39:22.448794Z",
     "shell.execute_reply": "2022-11-15T01:39:22.447898Z",
     "shell.execute_reply.started": "2022-11-15T01:39:22.234692Z"
    }
   },
   "outputs": [
    {
     "name": "stdout",
     "output_type": "stream",
     "text": [
      "32/32 [==============================] - 0s 4ms/step - loss: 0.0124\n"
     ]
    },
    {
     "data": {
      "text/plain": [
       "0.01236226037144661"
      ]
     },
     "execution_count": 214,
     "metadata": {},
     "output_type": "execute_result"
    }
   ],
   "source": [
    "model.evaluate(X_train, Y_train, verbose=1)"
   ]
  },
  {
   "cell_type": "code",
   "execution_count": 215,
   "id": "b3c85a94",
   "metadata": {
    "execution": {
     "iopub.execute_input": "2022-11-15T01:39:23.234381Z",
     "iopub.status.busy": "2022-11-15T01:39:23.233681Z",
     "iopub.status.idle": "2022-11-15T01:39:23.349582Z",
     "shell.execute_reply": "2022-11-15T01:39:23.348707Z",
     "shell.execute_reply.started": "2022-11-15T01:39:23.234344Z"
    }
   },
   "outputs": [
    {
     "name": "stdout",
     "output_type": "stream",
     "text": [
      "14/14 [==============================] - 0s 4ms/step - loss: 0.0074\n"
     ]
    },
    {
     "data": {
      "text/plain": [
       "0.007366540376096964"
      ]
     },
     "execution_count": 215,
     "metadata": {},
     "output_type": "execute_result"
    }
   ],
   "source": [
    "model.evaluate(X_test, Y_test, verbose=1)"
   ]
  },
  {
   "cell_type": "code",
   "execution_count": 216,
   "id": "24d49019",
   "metadata": {
    "execution": {
     "iopub.execute_input": "2022-11-15T01:39:26.406091Z",
     "iopub.status.busy": "2022-11-15T01:39:26.405699Z",
     "iopub.status.idle": "2022-11-15T01:39:26.414365Z",
     "shell.execute_reply": "2022-11-15T01:39:26.412143Z",
     "shell.execute_reply.started": "2022-11-15T01:39:26.406056Z"
    }
   },
   "outputs": [],
   "source": [
    "def print_metrics(model,Y_train,Y_pred_train,Y_test,Y_pred_test):\n",
    "    print('Train MAE  value   : %.3f ' % mean_absolute_error(Y_train, Y_pred_train))\n",
    "    print('Train MSE  value   : %.3f ' % mean_squared_error(Y_train, Y_pred_train))\n",
    "    print('Train RMSE value   : %.3f ' % root_mean_squared_error(Y_train, Y_pred_train))\n",
    "    print('Train R2   value   : %.3f ' % r2_score(Y_train, Y_pred_train))\n",
    "    print('---------------------------------------------')\n",
    "    print('Test  MAE  value   : %.3f ' % mean_absolute_error(Y_test, Y_pred_test))\n",
    "    print('Test  MSE  value   : %.3f ' % mean_squared_error(Y_test, Y_pred_test))\n",
    "    print('Test  RMSE value   : %.3f ' % root_mean_squared_error(Y_test, Y_pred_test))\n",
    "    print('Test  R2   value   : %.3f ' % r2_score(Y_test, Y_pred_test))"
   ]
  },
  {
   "cell_type": "code",
   "execution_count": 217,
   "id": "1070ced0",
   "metadata": {
    "execution": {
     "iopub.execute_input": "2022-11-15T01:39:28.972019Z",
     "iopub.status.busy": "2022-11-15T01:39:28.971553Z",
     "iopub.status.idle": "2022-11-15T01:39:29.022193Z",
     "shell.execute_reply": "2022-11-15T01:39:29.021206Z",
     "shell.execute_reply.started": "2022-11-15T01:39:28.971977Z"
    }
   },
   "outputs": [],
   "source": [
    "from sklearn.metrics import mean_squared_error, r2_score, mean_absolute_error, mean_squared_log_error, mean_absolute_percentage_error\n",
    "def root_mean_squared_error(y_true, y_pred):    \n",
    "    return np.sqrt(mean_squared_error(y_true, y_pred))"
   ]
  },
  {
   "cell_type": "code",
   "execution_count": 218,
   "id": "016df1cd",
   "metadata": {
    "execution": {
     "iopub.execute_input": "2022-11-15T01:39:29.441939Z",
     "iopub.status.busy": "2022-11-15T01:39:29.441559Z",
     "iopub.status.idle": "2022-11-15T01:39:30.225864Z",
     "shell.execute_reply": "2022-11-15T01:39:30.224923Z",
     "shell.execute_reply.started": "2022-11-15T01:39:29.441885Z"
    }
   },
   "outputs": [
    {
     "name": "stdout",
     "output_type": "stream",
     "text": [
      "32/32 [==============================] - 1s 4ms/step\n",
      "14/14 [==============================] - 0s 5ms/step\n",
      "--------------------------------------------------\n",
      "Train MAE  value   : 0.083 \n",
      "Train MSE  value   : 0.012 \n",
      "Train RMSE value   : 0.111 \n",
      "Train R2   value   : 0.388 \n",
      "---------------------------------------------\n",
      "Test  MAE  value   : 0.066 \n",
      "Test  MSE  value   : 0.007 \n",
      "Test  RMSE value   : 0.086 \n",
      "Test  R2   value   : 0.330 \n"
     ]
    }
   ],
   "source": [
    "y_pred_train = model.predict(X_train)\n",
    "y_pred_test  = model.predict(X_test) \n",
    "\n",
    "print(\"-\" * 50)\n",
    "\n",
    "print_metrics(model , Y_train , y_pred_train , Y_test , y_pred_test)"
   ]
  },
  {
   "cell_type": "code",
   "execution_count": 219,
   "id": "8bfa8d8f",
   "metadata": {
    "execution": {
     "iopub.execute_input": "2022-11-15T01:39:33.593828Z",
     "iopub.status.busy": "2022-11-15T01:39:33.593462Z",
     "iopub.status.idle": "2022-11-15T01:39:33.809757Z",
     "shell.execute_reply": "2022-11-15T01:39:33.808846Z",
     "shell.execute_reply.started": "2022-11-15T01:39:33.593791Z"
    }
   },
   "outputs": [
    {
     "data": {
      "image/png": "[encoded data removed]",
      "text/plain": [
       "<Figure size 640x480 with 1 Axes>"
      ]
     },
     "metadata": {},
     "output_type": "display_data"
    }
   ],
   "source": [
    "import matplotlib.pyplot as plt \n",
    "# Plot of loss vs epoch for train and test dataset\n",
    "plt.plot(history.history['loss'])\n",
    "plt.plot(history.history['val_loss'])\n",
    "plt.title(\"Plot of loss vs epoch for train and test dataset\")\n",
    "plt.ylabel('loss')\n",
    "plt.xlabel('epoch')\n",
    "plt.legend(['train', 'test'], loc='upper right')\n",
    "plt.show()"
   ]
  },
  {
   "cell_type": "code",
   "execution_count": null,
   "id": "9c38ba9a",
   "metadata": {},
   "outputs": [],
   "source": []
  }
 ],
 "metadata": {
  "kernelspec": {
   "display_name": "Python 3 (ipykernel)",
   "language": "python",
   "name": "python3"
  },
  "language_info": {
   "codemirror_mode": {
    "name": "ipython",
    "version": 3
   },
   "file_extension": ".py",
   "mimetype": "text/x-python",
   "name": "python",
   "nbconvert_exporter": "python",
   "pygments_lexer": "ipython3",
   "version": "3.9.7"
  }
 },
 "nbformat": 4,
 "nbformat_minor": 5
}
