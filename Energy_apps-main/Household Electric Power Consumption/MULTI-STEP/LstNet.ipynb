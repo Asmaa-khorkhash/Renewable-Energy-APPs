{
 "cells": [
  {
   "cell_type": "code",
   "execution_count": 1,
   "id": "302ab142",
   "metadata": {},
   "outputs": [],
   "source": [
    "import numpy as np \n",
    "import pandas as pd\n",
    "from sklearn.preprocessing import MinMaxScaler\n",
    "from Energy_Models.LstNet import LSTNetModel\n",
    "import tensorflow as tf\n"
   ]
  },
  {
   "cell_type": "code",
   "execution_count": 2,
   "id": "ac415da2",
   "metadata": {},
   "outputs": [],
   "source": [
    "df = pd.read_csv('D:\\College\\Final\\Gpr\\Datasets\\household_power_consumption.txt',sep=';', \n",
    "                 parse_dates={'date_time' : ['Date', 'Time']}, infer_datetime_format=True, \n",
    "                 low_memory=False, na_values=['nan','?'], index_col='date_time')"
   ]
  },
  {
   "cell_type": "code",
   "execution_count": 3,
   "id": "2bdd6aaa",
   "metadata": {},
   "outputs": [],
   "source": [
    "# filling missing values by the value of one day before \n",
    "def fill_missing(data):\n",
    "    one_day = 24*60\n",
    "    for row in range(data.shape[0]):\n",
    "        for col in range(data.shape[1]):\n",
    "            if np.isnan(data[row,col]):\n",
    "                data[row,col] = data[row-one_day,col]"
   ]
  },
  {
   "cell_type": "code",
   "execution_count": 4,
   "id": "c180e783",
   "metadata": {},
   "outputs": [],
   "source": [
    "fill_missing(df.values)"
   ]
  },
  {
   "cell_type": "code",
   "execution_count": 5,
   "id": "604605f0",
   "metadata": {},
   "outputs": [
    {
     "data": {
      "text/plain": [
       "Global_active_power      0\n",
       "Global_reactive_power    0\n",
       "Voltage                  0\n",
       "Global_intensity         0\n",
       "Sub_metering_1           0\n",
       "Sub_metering_2           0\n",
       "Sub_metering_3           0\n",
       "dtype: int64"
      ]
     },
     "execution_count": 5,
     "metadata": {},
     "output_type": "execute_result"
    }
   ],
   "source": [
    "df.isna().sum()"
   ]
  },
  {
   "cell_type": "code",
   "execution_count": 6,
   "id": "62c57db6",
   "metadata": {},
   "outputs": [],
   "source": [
    "df['sub_metering_remaining'] = (df.Global_active_power * 1000  / 60 ) - (df.Sub_metering_1 + df.Sub_metering_2 + df.Sub_metering_3)\n"
   ]
  },
  {
   "cell_type": "code",
   "execution_count": 7,
   "id": "70a2df3e",
   "metadata": {},
   "outputs": [
    {
     "data": {
      "text/html": [
       "<div>\n",
       "<style scoped>\n",
       "    .dataframe tbody tr th:only-of-type {\n",
       "        vertical-align: middle;\n",
       "    }\n",
       "\n",
       "    .dataframe tbody tr th {\n",
       "        vertical-align: top;\n",
       "    }\n",
       "\n",
       "    .dataframe thead th {\n",
       "        text-align: right;\n",
       "    }\n",
       "</style>\n",
       "<table border=\"1\" class=\"dataframe\">\n",
       "  <thead>\n",
       "    <tr style=\"text-align: right;\">\n",
       "      <th></th>\n",
       "      <th>Global_active_power</th>\n",
       "      <th>Global_reactive_power</th>\n",
       "      <th>Voltage</th>\n",
       "      <th>Global_intensity</th>\n",
       "      <th>Sub_metering_1</th>\n",
       "      <th>Sub_metering_2</th>\n",
       "      <th>Sub_metering_3</th>\n",
       "      <th>sub_metering_remaining</th>\n",
       "    </tr>\n",
       "  </thead>\n",
       "  <tbody>\n",
       "    <tr>\n",
       "      <th>count</th>\n",
       "      <td>2.075259e+06</td>\n",
       "      <td>2.075259e+06</td>\n",
       "      <td>2.075259e+06</td>\n",
       "      <td>2.075259e+06</td>\n",
       "      <td>2.075259e+06</td>\n",
       "      <td>2.075259e+06</td>\n",
       "      <td>2.075259e+06</td>\n",
       "      <td>2.075259e+06</td>\n",
       "    </tr>\n",
       "    <tr>\n",
       "      <th>mean</th>\n",
       "      <td>1.089418e+00</td>\n",
       "      <td>1.236871e-01</td>\n",
       "      <td>2.408364e+02</td>\n",
       "      <td>4.618401e+00</td>\n",
       "      <td>1.118474e+00</td>\n",
       "      <td>1.291131e+00</td>\n",
       "      <td>6.448635e+00</td>\n",
       "      <td>9.298722e+00</td>\n",
       "    </tr>\n",
       "    <tr>\n",
       "      <th>std</th>\n",
       "      <td>1.054678e+00</td>\n",
       "      <td>1.125933e-01</td>\n",
       "      <td>3.240051e+00</td>\n",
       "      <td>4.433165e+00</td>\n",
       "      <td>6.141460e+00</td>\n",
       "      <td>5.796922e+00</td>\n",
       "      <td>8.433584e+00</td>\n",
       "      <td>9.561278e+00</td>\n",
       "    </tr>\n",
       "    <tr>\n",
       "      <th>min</th>\n",
       "      <td>7.600000e-02</td>\n",
       "      <td>0.000000e+00</td>\n",
       "      <td>2.232000e+02</td>\n",
       "      <td>2.000000e-01</td>\n",
       "      <td>0.000000e+00</td>\n",
       "      <td>0.000000e+00</td>\n",
       "      <td>0.000000e+00</td>\n",
       "      <td>-2.400000e+00</td>\n",
       "    </tr>\n",
       "    <tr>\n",
       "      <th>25%</th>\n",
       "      <td>3.080000e-01</td>\n",
       "      <td>4.800000e-02</td>\n",
       "      <td>2.389900e+02</td>\n",
       "      <td>1.400000e+00</td>\n",
       "      <td>0.000000e+00</td>\n",
       "      <td>0.000000e+00</td>\n",
       "      <td>0.000000e+00</td>\n",
       "      <td>3.800000e+00</td>\n",
       "    </tr>\n",
       "    <tr>\n",
       "      <th>50%</th>\n",
       "      <td>6.020000e-01</td>\n",
       "      <td>1.000000e-01</td>\n",
       "      <td>2.410000e+02</td>\n",
       "      <td>2.600000e+00</td>\n",
       "      <td>0.000000e+00</td>\n",
       "      <td>0.000000e+00</td>\n",
       "      <td>1.000000e+00</td>\n",
       "      <td>5.500000e+00</td>\n",
       "    </tr>\n",
       "    <tr>\n",
       "      <th>75%</th>\n",
       "      <td>1.526000e+00</td>\n",
       "      <td>1.940000e-01</td>\n",
       "      <td>2.428700e+02</td>\n",
       "      <td>6.400000e+00</td>\n",
       "      <td>0.000000e+00</td>\n",
       "      <td>1.000000e+00</td>\n",
       "      <td>1.700000e+01</td>\n",
       "      <td>1.036667e+01</td>\n",
       "    </tr>\n",
       "    <tr>\n",
       "      <th>max</th>\n",
       "      <td>1.112200e+01</td>\n",
       "      <td>1.390000e+00</td>\n",
       "      <td>2.541500e+02</td>\n",
       "      <td>4.840000e+01</td>\n",
       "      <td>8.800000e+01</td>\n",
       "      <td>8.000000e+01</td>\n",
       "      <td>3.100000e+01</td>\n",
       "      <td>1.248333e+02</td>\n",
       "    </tr>\n",
       "  </tbody>\n",
       "</table>\n",
       "</div>"
      ],
      "text/plain": [
       "       Global_active_power  Global_reactive_power       Voltage  \\\n",
       "count         2.075259e+06           2.075259e+06  2.075259e+06   \n",
       "mean          1.089418e+00           1.236871e-01  2.408364e+02   \n",
       "std           1.054678e+00           1.125933e-01  3.240051e+00   \n",
       "min           7.600000e-02           0.000000e+00  2.232000e+02   \n",
       "25%           3.080000e-01           4.800000e-02  2.389900e+02   \n",
       "50%           6.020000e-01           1.000000e-01  2.410000e+02   \n",
       "75%           1.526000e+00           1.940000e-01  2.428700e+02   \n",
       "max           1.112200e+01           1.390000e+00  2.541500e+02   \n",
       "\n",
       "       Global_intensity  Sub_metering_1  Sub_metering_2  Sub_metering_3  \\\n",
       "count      2.075259e+06    2.075259e+06    2.075259e+06    2.075259e+06   \n",
       "mean       4.618401e+00    1.118474e+00    1.291131e+00    6.448635e+00   \n",
       "std        4.433165e+00    6.141460e+00    5.796922e+00    8.433584e+00   \n",
       "min        2.000000e-01    0.000000e+00    0.000000e+00    0.000000e+00   \n",
       "25%        1.400000e+00    0.000000e+00    0.000000e+00    0.000000e+00   \n",
       "50%        2.600000e+00    0.000000e+00    0.000000e+00    1.000000e+00   \n",
       "75%        6.400000e+00    0.000000e+00    1.000000e+00    1.700000e+01   \n",
       "max        4.840000e+01    8.800000e+01    8.000000e+01    3.100000e+01   \n",
       "\n",
       "       sub_metering_remaining  \n",
       "count            2.075259e+06  \n",
       "mean             9.298722e+00  \n",
       "std              9.561278e+00  \n",
       "min             -2.400000e+00  \n",
       "25%              3.800000e+00  \n",
       "50%              5.500000e+00  \n",
       "75%              1.036667e+01  \n",
       "max              1.248333e+02  "
      ]
     },
     "execution_count": 7,
     "metadata": {},
     "output_type": "execute_result"
    }
   ],
   "source": [
    "df.describe()\n"
   ]
  },
  {
   "cell_type": "code",
   "execution_count": 8,
   "id": "0473ebd1",
   "metadata": {},
   "outputs": [
    {
     "data": {
      "text/plain": [
       "(1442, 8)"
      ]
     },
     "execution_count": 8,
     "metadata": {},
     "output_type": "execute_result"
    }
   ],
   "source": [
    "# resample the data on daily basis\n",
    "df = df.resample('D').mean()\n",
    "df.shape"
   ]
  },
  {
   "cell_type": "code",
   "execution_count": 9,
   "id": "ff9f8b10",
   "metadata": {},
   "outputs": [],
   "source": [
    "def train_test_split(df):\n",
    "    \n",
    "    # compute split point\n",
    "    end_idx = df.shape[0]* 70 // 100\n",
    "    \n",
    "    train_data = df.iloc[:end_idx, : ]\n",
    "    test_data = df.iloc[end_idx:, :]\n",
    "    \n",
    "    return train_data, test_data"
   ]
  },
  {
   "cell_type": "code",
   "execution_count": 10,
   "id": "7e0f7281",
   "metadata": {},
   "outputs": [],
   "source": [
    "# Split the data into train and test\n",
    "X_train, X_test = train_test_split(df)"
   ]
  },
  {
   "cell_type": "code",
   "execution_count": 11,
   "id": "a6551e14",
   "metadata": {},
   "outputs": [
    {
     "data": {
      "text/plain": [
       "(1009, 8)"
      ]
     },
     "execution_count": 11,
     "metadata": {},
     "output_type": "execute_result"
    }
   ],
   "source": [
    "X_test.shape\n",
    "X_train.shape"
   ]
  },
  {
   "cell_type": "code",
   "execution_count": 12,
   "id": "bb3541a2",
   "metadata": {},
   "outputs": [],
   "source": [
    "def scale_data(train, test):\n",
    "    scaler = MinMaxScaler().fit(train)\n",
    "    return scaler.transform(train), scaler.transform(test), scaler"
   ]
  },
  {
   "cell_type": "code",
   "execution_count": 13,
   "id": "b58fdcfa",
   "metadata": {},
   "outputs": [],
   "source": [
    "# Scale the data\n",
    "X_train, X_test, scaler = scale_data(X_train, X_test)"
   ]
  },
  {
   "cell_type": "code",
   "execution_count": 14,
   "id": "c62a95a4",
   "metadata": {},
   "outputs": [],
   "source": [
    "def convert_to_supervised(df):\n",
    "\n",
    "    input_features = []\n",
    "    ouput_feature = []\n",
    "    \n",
    "    len_df = df.shape[0]\n",
    "    \n",
    "    for i in range(len_df):\n",
    "        \n",
    "        end_idx = i + 21\n",
    "        \n",
    "        if end_idx > len_df-7:\n",
    "            break\n",
    "            \n",
    "        input_x , output_y = df[i:end_idx, 1:], df[end_idx: end_idx+7, 0]\n",
    "        \n",
    "        input_features.append(input_x)\n",
    "        ouput_feature.append(output_y)\n",
    "    \n",
    "    return np.array(input_features), np.array(ouput_feature)\n"
   ]
  },
  {
   "cell_type": "code",
   "execution_count": 15,
   "id": "19d9a39c",
   "metadata": {},
   "outputs": [
    {
     "name": "stdout",
     "output_type": "stream",
     "text": [
      "Shape of (training data) input features : (982, 21, 7) and ouput feature (982, 7)\n"
     ]
    }
   ],
   "source": [
    "# Split the training data into input features and out feature\n",
    "X_train, Y_train = convert_to_supervised(X_train)\n",
    "print('Shape of (training data) input features : %s and ouput feature %s' % (X_train.shape, Y_train.shape))"
   ]
  },
  {
   "cell_type": "code",
   "execution_count": 16,
   "id": "91227022",
   "metadata": {},
   "outputs": [
    {
     "name": "stdout",
     "output_type": "stream",
     "text": [
      "Shape of (testing data) input features : (406, 21, 7) and ouput feature (406, 7)\n"
     ]
    }
   ],
   "source": [
    "# Split the testing data into input features and out feature\n",
    "X_test, Y_test = convert_to_supervised(X_test)\n",
    "print('Shape of (testing data) input features : %s and ouput feature %s' % (X_test.shape, Y_test.shape))\n"
   ]
  },
  {
   "cell_type": "code",
   "execution_count": 17,
   "id": "e5548f2b",
   "metadata": {},
   "outputs": [],
   "source": [
    "from sklearn.metrics import mean_squared_error, r2_score, mean_absolute_error, mean_squared_log_error, mean_absolute_percentage_error\n",
    "\n",
    "def root_mean_squared_error(y_true, y_pred):    \n",
    "    return np.sqrt(mean_squared_error(y_true, y_pred))"
   ]
  },
  {
   "cell_type": "code",
   "execution_count": 18,
   "id": "ecadf4ed",
   "metadata": {},
   "outputs": [
    {
     "data": {
      "text/plain": [
       "(982, 21, 7)"
      ]
     },
     "execution_count": 18,
     "metadata": {},
     "output_type": "execute_result"
    }
   ],
   "source": [
    "X_train.shape\n"
   ]
  },
  {
   "cell_type": "code",
   "execution_count": 23,
   "id": "27100d07",
   "metadata": {},
   "outputs": [],
   "source": [
    "callback = tf.keras.callbacks.EarlyStopping(monitor='loss', patience=10)\n",
    "model = LSTNetModel((7,21,7))"
   ]
  },
  {
   "cell_type": "code",
   "execution_count": 24,
   "id": "c2fa11a8",
   "metadata": {},
   "outputs": [
    {
     "name": "stdout",
     "output_type": "stream",
     "text": [
      "Model: \"model_1\"\n",
      "__________________________________________________________________________________________________\n",
      " Layer (type)                   Output Shape         Param #     Connected to                     \n",
      "==================================================================================================\n",
      " input_2 (InputLayer)           [(None, 21, 7)]      0           []                               \n",
      "                                                                                                  \n",
      " reshape_2 (Reshape)            (None, 1, 21, 7)     0           ['input_2[0][0]']                \n",
      "                                                                                                  \n",
      " conv2d_1 (Conv2D)              (None, 1, 21, 7)     203         ['reshape_2[0][0]']              \n",
      "                                                                                                  \n",
      " dropout_2 (Dropout)            (None, 1, 21, 7)     0           ['conv2d_1[0][0]']               \n",
      "                                                                                                  \n",
      " reshape_3 (Reshape)            (None, 21, 7)        0           ['dropout_2[0][0]']              \n",
      "                                                                                                  \n",
      " gru_1 (GRU)                    [(None, 100),        32700       ['reshape_3[0][0]']              \n",
      "                                 (None, 100)]                                                     \n",
      "                                                                                                  \n",
      " pre_ar_trans_1 (PreARTrans)    (None, 7, 21)        0           ['input_2[0][0]']                \n",
      "                                                                                                  \n",
      " dropout_3 (Dropout)            (None, 100)          0           ['gru_1[0][1]']                  \n",
      "                                                                                                  \n",
      " flatten_3 (Flatten)            (None, 147)          0           ['pre_ar_trans_1[0][0]']         \n",
      "                                                                                                  \n",
      " flatten_2 (Flatten)            (None, 100)          0           ['dropout_3[0][0]']              \n",
      "                                                                                                  \n",
      " dense_4 (Dense)                (None, 1)            148         ['flatten_3[0][0]']              \n",
      "                                                                                                  \n",
      " dense_3 (Dense)                (None, 7)            707         ['flatten_2[0][0]']              \n",
      "                                                                                                  \n",
      " post_ar_trans_1 (PostARTrans)  (None,)              0           ['dense_4[0][0]',                \n",
      "                                                                  'input_2[0][0]']                \n",
      "                                                                                                  \n",
      " add_1 (Add)                    (None, 7)            0           ['dense_3[0][0]',                \n",
      "                                                                  'post_ar_trans_1[0][0]']        \n",
      "                                                                                                  \n",
      " dense_5 (Dense)                (None, 7)            56          ['add_1[0][0]']                  \n",
      "                                                                                                  \n",
      "==================================================================================================\n",
      "Total params: 33,814\n",
      "Trainable params: 33,814\n",
      "Non-trainable params: 0\n",
      "__________________________________________________________________________________________________\n"
     ]
    }
   ],
   "source": [
    "model.summary()"
   ]
  },
  {
   "cell_type": "code",
   "execution_count": 25,
   "id": "59b30e83",
   "metadata": {},
   "outputs": [
    {
     "name": "stdout",
     "output_type": "stream",
     "text": [
      "Epoch 1/100\n",
      "13/13 [==============================] - 2s 45ms/step - loss: 0.0565 - val_loss: 0.0624\n",
      "Epoch 2/100\n",
      "13/13 [==============================] - 0s 16ms/step - loss: 0.0445 - val_loss: 0.0391\n",
      "Epoch 3/100\n",
      "13/13 [==============================] - 0s 16ms/step - loss: 0.0346 - val_loss: 0.0243\n",
      "Epoch 4/100\n",
      "13/13 [==============================] - 0s 16ms/step - loss: 0.0260 - val_loss: 0.0139\n",
      "Epoch 5/100\n",
      "13/13 [==============================] - 0s 16ms/step - loss: 0.0205 - val_loss: 0.0090\n",
      "Epoch 6/100\n",
      "13/13 [==============================] - 0s 14ms/step - loss: 0.0172 - val_loss: 0.0084\n",
      "Epoch 7/100\n",
      "13/13 [==============================] - 0s 14ms/step - loss: 0.0156 - val_loss: 0.0085\n",
      "Epoch 8/100\n",
      "13/13 [==============================] - 0s 16ms/step - loss: 0.0150 - val_loss: 0.0077\n",
      "Epoch 9/100\n",
      "13/13 [==============================] - 0s 16ms/step - loss: 0.0148 - val_loss: 0.0075\n",
      "Epoch 10/100\n",
      "13/13 [==============================] - 0s 14ms/step - loss: 0.0146 - val_loss: 0.0081\n",
      "Epoch 11/100\n",
      "13/13 [==============================] - 0s 14ms/step - loss: 0.0144 - val_loss: 0.0084\n",
      "Epoch 12/100\n",
      "13/13 [==============================] - 0s 13ms/step - loss: 0.0145 - val_loss: 0.0075\n",
      "Epoch 13/100\n",
      "13/13 [==============================] - 0s 15ms/step - loss: 0.0144 - val_loss: 0.0071\n",
      "Epoch 14/100\n",
      "13/13 [==============================] - 0s 22ms/step - loss: 0.0141 - val_loss: 0.0080\n",
      "Epoch 15/100\n",
      "13/13 [==============================] - 0s 14ms/step - loss: 0.0142 - val_loss: 0.0070\n",
      "Epoch 16/100\n",
      "13/13 [==============================] - 0s 14ms/step - loss: 0.0141 - val_loss: 0.0071\n",
      "Epoch 17/100\n",
      "13/13 [==============================] - 0s 14ms/step - loss: 0.0140 - val_loss: 0.0072\n",
      "Epoch 18/100\n",
      "13/13 [==============================] - 0s 14ms/step - loss: 0.0138 - val_loss: 0.0070\n",
      "Epoch 19/100\n",
      "13/13 [==============================] - 0s 14ms/step - loss: 0.0142 - val_loss: 0.0071\n",
      "Epoch 20/100\n",
      "13/13 [==============================] - 0s 18ms/step - loss: 0.0141 - val_loss: 0.0067\n",
      "Epoch 21/100\n",
      "13/13 [==============================] - 0s 22ms/step - loss: 0.0137 - val_loss: 0.0067\n",
      "Epoch 22/100\n",
      "13/13 [==============================] - 0s 15ms/step - loss: 0.0137 - val_loss: 0.0067\n",
      "Epoch 23/100\n",
      "13/13 [==============================] - 0s 17ms/step - loss: 0.0136 - val_loss: 0.0068\n",
      "Epoch 24/100\n",
      "13/13 [==============================] - 0s 14ms/step - loss: 0.0136 - val_loss: 0.0070\n",
      "Epoch 25/100\n",
      "13/13 [==============================] - 0s 13ms/step - loss: 0.0139 - val_loss: 0.0069\n",
      "Epoch 26/100\n",
      "13/13 [==============================] - 0s 15ms/step - loss: 0.0137 - val_loss: 0.0064\n",
      "Epoch 27/100\n",
      "13/13 [==============================] - 0s 14ms/step - loss: 0.0136 - val_loss: 0.0069\n",
      "Epoch 28/100\n",
      "13/13 [==============================] - 0s 14ms/step - loss: 0.0135 - val_loss: 0.0064\n",
      "Epoch 29/100\n",
      "13/13 [==============================] - 0s 14ms/step - loss: 0.0134 - val_loss: 0.0068\n",
      "Epoch 30/100\n",
      "13/13 [==============================] - 0s 14ms/step - loss: 0.0133 - val_loss: 0.0064\n",
      "Epoch 31/100\n",
      "13/13 [==============================] - 0s 14ms/step - loss: 0.0133 - val_loss: 0.0070\n",
      "Epoch 32/100\n",
      "13/13 [==============================] - 0s 14ms/step - loss: 0.0135 - val_loss: 0.0063\n",
      "Epoch 33/100\n",
      "13/13 [==============================] - 0s 14ms/step - loss: 0.0131 - val_loss: 0.0069\n",
      "Epoch 34/100\n",
      "13/13 [==============================] - 0s 14ms/step - loss: 0.0134 - val_loss: 0.0065\n",
      "Epoch 35/100\n",
      "13/13 [==============================] - 0s 14ms/step - loss: 0.0130 - val_loss: 0.0065\n",
      "Epoch 36/100\n",
      "13/13 [==============================] - 0s 14ms/step - loss: 0.0131 - val_loss: 0.0058\n",
      "Epoch 37/100\n",
      "13/13 [==============================] - 0s 14ms/step - loss: 0.0133 - val_loss: 0.0062\n",
      "Epoch 38/100\n",
      "13/13 [==============================] - 0s 14ms/step - loss: 0.0132 - val_loss: 0.0061\n",
      "Epoch 39/100\n",
      "13/13 [==============================] - 0s 15ms/step - loss: 0.0129 - val_loss: 0.0061\n",
      "Epoch 40/100\n",
      "13/13 [==============================] - 0s 14ms/step - loss: 0.0129 - val_loss: 0.0061\n",
      "Epoch 41/100\n",
      "13/13 [==============================] - 0s 21ms/step - loss: 0.0130 - val_loss: 0.0066\n",
      "Epoch 42/100\n",
      "13/13 [==============================] - 0s 18ms/step - loss: 0.0129 - val_loss: 0.0070\n",
      "Epoch 43/100\n",
      "13/13 [==============================] - 0s 13ms/step - loss: 0.0129 - val_loss: 0.0063\n",
      "Epoch 44/100\n",
      "13/13 [==============================] - 0s 15ms/step - loss: 0.0128 - val_loss: 0.0056\n",
      "Epoch 45/100\n",
      "13/13 [==============================] - 0s 13ms/step - loss: 0.0128 - val_loss: 0.0063\n",
      "Epoch 46/100\n",
      "13/13 [==============================] - 0s 16ms/step - loss: 0.0127 - val_loss: 0.0067\n",
      "Epoch 47/100\n",
      "13/13 [==============================] - 0s 15ms/step - loss: 0.0126 - val_loss: 0.0065\n",
      "Epoch 48/100\n",
      "13/13 [==============================] - 0s 16ms/step - loss: 0.0130 - val_loss: 0.0060\n",
      "Epoch 49/100\n",
      "13/13 [==============================] - 0s 13ms/step - loss: 0.0127 - val_loss: 0.0074\n",
      "Epoch 50/100\n",
      "13/13 [==============================] - 0s 15ms/step - loss: 0.0126 - val_loss: 0.0088\n",
      "Epoch 51/100\n",
      "13/13 [==============================] - 0s 14ms/step - loss: 0.0129 - val_loss: 0.0070\n",
      "Epoch 52/100\n",
      "13/13 [==============================] - 0s 14ms/step - loss: 0.0127 - val_loss: 0.0059\n",
      "Epoch 53/100\n",
      "13/13 [==============================] - 0s 14ms/step - loss: 0.0124 - val_loss: 0.0059\n",
      "Epoch 54/100\n",
      "13/13 [==============================] - 0s 14ms/step - loss: 0.0125 - val_loss: 0.0061\n",
      "Epoch 55/100\n",
      "13/13 [==============================] - 0s 19ms/step - loss: 0.0125 - val_loss: 0.0060\n",
      "Epoch 56/100\n",
      "13/13 [==============================] - 0s 15ms/step - loss: 0.0124 - val_loss: 0.0066\n",
      "Epoch 57/100\n",
      "13/13 [==============================] - 0s 16ms/step - loss: 0.0125 - val_loss: 0.0068\n",
      "Epoch 58/100\n",
      "13/13 [==============================] - 0s 15ms/step - loss: 0.0126 - val_loss: 0.0062\n",
      "Epoch 59/100\n",
      "13/13 [==============================] - 0s 14ms/step - loss: 0.0124 - val_loss: 0.0062\n",
      "Epoch 60/100\n",
      "13/13 [==============================] - 0s 14ms/step - loss: 0.0123 - val_loss: 0.0077\n",
      "Epoch 61/100\n",
      "13/13 [==============================] - 0s 14ms/step - loss: 0.0123 - val_loss: 0.0066\n",
      "Epoch 62/100\n",
      "13/13 [==============================] - 0s 14ms/step - loss: 0.0123 - val_loss: 0.0070\n",
      "Epoch 63/100\n",
      "13/13 [==============================] - 0s 16ms/step - loss: 0.0123 - val_loss: 0.0076\n",
      "Epoch 64/100\n",
      "13/13 [==============================] - 0s 14ms/step - loss: 0.0123 - val_loss: 0.0069\n",
      "Epoch 65/100\n",
      "13/13 [==============================] - 0s 14ms/step - loss: 0.0121 - val_loss: 0.0068\n",
      "Epoch 66/100\n",
      "13/13 [==============================] - 0s 14ms/step - loss: 0.0122 - val_loss: 0.0060\n",
      "Epoch 67/100\n",
      "13/13 [==============================] - 0s 14ms/step - loss: 0.0127 - val_loss: 0.0087\n",
      "Epoch 68/100\n",
      "13/13 [==============================] - 0s 14ms/step - loss: 0.0126 - val_loss: 0.0084\n",
      "Epoch 69/100\n",
      "13/13 [==============================] - 0s 14ms/step - loss: 0.0124 - val_loss: 0.0069\n",
      "Epoch 70/100\n",
      "13/13 [==============================] - 0s 14ms/step - loss: 0.0121 - val_loss: 0.0059\n",
      "Epoch 71/100\n",
      "13/13 [==============================] - 0s 13ms/step - loss: 0.0121 - val_loss: 0.0078\n",
      "Epoch 72/100\n",
      "13/13 [==============================] - 0s 14ms/step - loss: 0.0121 - val_loss: 0.0069\n",
      "Epoch 73/100\n",
      "13/13 [==============================] - 0s 14ms/step - loss: 0.0121 - val_loss: 0.0071\n",
      "Epoch 74/100\n",
      "13/13 [==============================] - 0s 14ms/step - loss: 0.0121 - val_loss: 0.0073\n",
      "Epoch 75/100\n",
      "13/13 [==============================] - 0s 14ms/step - loss: 0.0121 - val_loss: 0.0063\n",
      "Epoch 76/100\n",
      "13/13 [==============================] - 0s 14ms/step - loss: 0.0123 - val_loss: 0.0071\n",
      "Epoch 77/100\n",
      "13/13 [==============================] - 0s 14ms/step - loss: 0.0119 - val_loss: 0.0072\n",
      "Epoch 78/100\n",
      "13/13 [==============================] - 0s 14ms/step - loss: 0.0119 - val_loss: 0.0088\n",
      "Epoch 79/100\n",
      "13/13 [==============================] - 0s 14ms/step - loss: 0.0121 - val_loss: 0.0069\n",
      "Epoch 80/100\n",
      "13/13 [==============================] - 0s 14ms/step - loss: 0.0119 - val_loss: 0.0062\n",
      "Epoch 81/100\n",
      "13/13 [==============================] - 0s 14ms/step - loss: 0.0121 - val_loss: 0.0071\n",
      "Epoch 82/100\n",
      "13/13 [==============================] - 0s 15ms/step - loss: 0.0123 - val_loss: 0.0057\n",
      "Epoch 83/100\n",
      "13/13 [==============================] - 0s 17ms/step - loss: 0.0118 - val_loss: 0.0075\n",
      "Epoch 84/100\n",
      "13/13 [==============================] - 0s 19ms/step - loss: 0.0119 - val_loss: 0.0059\n",
      "Epoch 85/100\n",
      "13/13 [==============================] - 0s 16ms/step - loss: 0.0117 - val_loss: 0.0064\n",
      "Epoch 86/100\n",
      "13/13 [==============================] - 0s 14ms/step - loss: 0.0118 - val_loss: 0.0059\n",
      "Epoch 87/100\n",
      "13/13 [==============================] - 0s 15ms/step - loss: 0.0118 - val_loss: 0.0078\n",
      "Epoch 88/100\n",
      "13/13 [==============================] - 0s 16ms/step - loss: 0.0118 - val_loss: 0.0074\n",
      "Epoch 89/100\n",
      "13/13 [==============================] - 0s 16ms/step - loss: 0.0118 - val_loss: 0.0074\n",
      "Epoch 90/100\n",
      "13/13 [==============================] - 0s 16ms/step - loss: 0.0118 - val_loss: 0.0076\n",
      "Epoch 91/100\n",
      "13/13 [==============================] - 0s 16ms/step - loss: 0.0118 - val_loss: 0.0097\n",
      "Epoch 92/100\n",
      "13/13 [==============================] - 0s 16ms/step - loss: 0.0120 - val_loss: 0.0080\n",
      "Epoch 93/100\n",
      "13/13 [==============================] - 0s 15ms/step - loss: 0.0117 - val_loss: 0.0076\n",
      "Epoch 94/100\n",
      "13/13 [==============================] - 0s 15ms/step - loss: 0.0115 - val_loss: 0.0059\n",
      "Epoch 95/100\n",
      "13/13 [==============================] - 0s 14ms/step - loss: 0.0118 - val_loss: 0.0058\n",
      "Epoch 96/100\n",
      "13/13 [==============================] - 0s 14ms/step - loss: 0.0118 - val_loss: 0.0066\n",
      "Epoch 97/100\n",
      "13/13 [==============================] - 0s 14ms/step - loss: 0.0118 - val_loss: 0.0065\n",
      "Epoch 98/100\n",
      "13/13 [==============================] - 0s 15ms/step - loss: 0.0115 - val_loss: 0.0069\n",
      "Epoch 99/100\n",
      "13/13 [==============================] - 0s 14ms/step - loss: 0.0119 - val_loss: 0.0062\n",
      "Epoch 100/100\n",
      "13/13 [==============================] - 0s 14ms/step - loss: 0.0118 - val_loss: 0.0062\n"
     ]
    }
   ],
   "source": [
    "model.compile(optimizer='adam', loss ='mse')\n",
    "history = model.fit(X_train , Y_train, epochs=100, batch_size=64, verbose= 1,validation_split=0.2,callbacks=callback)"
   ]
  },
  {
   "cell_type": "code",
   "execution_count": 26,
   "id": "05b3757e",
   "metadata": {},
   "outputs": [],
   "source": [
    "from sklearn.metrics import mean_squared_error, r2_score, mean_absolute_error, mean_squared_log_error, mean_absolute_percentage_error\n",
    "def root_mean_squared_error(y_true, y_pred):    \n",
    "    return np.sqrt(mean_squared_error(y_true, y_pred))\n",
    "def root_mean_squared_log_error(real, predicted):\n",
    "    sum=0.0\n",
    "    for x in range(len(predicted)):\n",
    "        if predicted[x]<0 or real[x]<0: # check for negative values\n",
    "            continue\n",
    "        p = np.log(predicted[x]+1)\n",
    "        r = np.log(real[x]+1)\n",
    "        sum = sum + (p - r)**2\n",
    "    return (sum/len(predicted))**0.5\n",
    "def print_metrics():\n",
    "    print('Train   RMSE  value   : %.3f ' % root_mean_squared_error(Y_train, model.predict(X_train)))\n",
    "    print('Train   MSE   value   : %.3f ' % mean_squared_error(Y_train, model.predict(X_train)))\n",
    "    print('Train   R2    value   : %.3f ' % r2_score(Y_train,model.predict(X_train)))\n",
    "    print('Train   MAPE  value   : %.3f ' % mean_absolute_percentage_error(Y_train, model.predict(X_train)))\n",
    "    print('Train   MAE   value   : %.3f ' % mean_absolute_error(Y_train, model.predict(X_train)))\n",
    "    print('---------------------------------------------')\n",
    "    print('Test    RMSE  value   : %.3f ' % root_mean_squared_error(Y_test, model.predict(X_test)))\n",
    "    print('Test    MSE   value   : %.3f ' % mean_squared_error(Y_test, model.predict(X_test)))\n",
    "    print('Test    R2    value   : %.3f ' % r2_score(Y_test, model.predict(X_test)))\n",
    "    print('Test    MAPE  value   : %.3f ' % mean_absolute_percentage_error(Y_test, model.predict(X_test)))\n",
    "    print('Test    MAE   value   : %.3f ' % mean_absolute_error(Y_test, model.predict(X_test)))"
   ]
  },
  {
   "cell_type": "code",
   "execution_count": 27,
   "id": "8de55794",
   "metadata": {},
   "outputs": [
    {
     "name": "stdout",
     "output_type": "stream",
     "text": [
      "31/31 [==============================] - 0s 3ms/step\n",
      "Train   RMSE  value   : 0.100 \n",
      "31/31 [==============================] - 0s 5ms/step\n",
      "Train   MSE   value   : 0.010 \n",
      "31/31 [==============================] - 0s 4ms/step\n",
      "Train   R2    value   : 0.465 \n",
      "31/31 [==============================] - 0s 5ms/step\n",
      "Train   MAPE  value   : 307412533649.252 \n",
      "31/31 [==============================] - 0s 4ms/step\n",
      "Train   MAE   value   : 0.076 \n",
      "---------------------------------------------\n",
      "13/13 [==============================] - 0s 4ms/step\n",
      "Test    RMSE  value   : 0.089 \n",
      "13/13 [==============================] - 0s 4ms/step\n",
      "Test    MSE   value   : 0.008 \n",
      "13/13 [==============================] - 0s 3ms/step\n",
      "Test    R2    value   : 0.304 \n",
      "13/13 [==============================] - 0s 3ms/step\n",
      "Test    MAPE  value   : 0.234 \n",
      "13/13 [==============================] - 0s 3ms/step\n",
      "Test    MAE   value   : 0.067 \n"
     ]
    }
   ],
   "source": [
    "print_metrics()"
   ]
  },
  {
   "cell_type": "code",
   "execution_count": 28,
   "id": "ff88fde0",
   "metadata": {},
   "outputs": [
    {
     "data": {
      "image/png": "[encoded data removed]",
      "text/plain": [
       "<Figure size 640x480 with 1 Axes>"
      ]
     },
     "metadata": {},
     "output_type": "display_data"
    }
   ],
   "source": [
    "from matplotlib import pyplot as plt\n",
    "plt.plot(history.history['loss'])\n",
    "plt.plot(history.history['val_loss'])\n",
    "plt.title(\"Plot of loss vs epoch for train and test dataset\")\n",
    "plt.ylabel('loss')\n",
    "plt.xlabel('epoch')\n",
    "plt.legend(['train', 'test'], loc='upper right')\n",
    "plt.show()"
   ]
  },
  {
   "cell_type": "code",
   "execution_count": null,
   "id": "51ed74a9",
   "metadata": {},
   "outputs": [],
   "source": []
  }
 ],
 "metadata": {
  "kernelspec": {
   "display_name": "Python 3 (ipykernel)",
   "language": "python",
   "name": "python3"
  },
  "language_info": {
   "codemirror_mode": {
    "name": "ipython",
    "version": 3
   },
   "file_extension": ".py",
   "mimetype": "text/x-python",
   "name": "python",
   "nbconvert_exporter": "python",
   "pygments_lexer": "ipython3",
   "version": "3.9.7"
  }
 },
 "nbformat": 4,
 "nbformat_minor": 5
}
