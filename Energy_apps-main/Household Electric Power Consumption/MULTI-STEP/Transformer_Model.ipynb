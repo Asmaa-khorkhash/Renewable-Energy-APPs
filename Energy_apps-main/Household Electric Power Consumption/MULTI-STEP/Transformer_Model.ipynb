{
 "cells": [
  {
   "cell_type": "code",
   "execution_count": 21,
   "id": "adf6b227",
   "metadata": {},
   "outputs": [],
   "source": [
    "import tensorflow as tf\n",
    "import numpy as np\n",
    "import pandas as pd\n",
    "import warnings\n",
    "warnings.filterwarnings('ignore')\n",
    "from Energy_Models.Transformer import Transformer\n",
    "from tensorflow import keras\n",
    "from tensorflow.keras import layers"
   ]
  },
  {
   "cell_type": "code",
   "execution_count": 7,
   "id": "dc5c82e0",
   "metadata": {},
   "outputs": [],
   "source": [
    "df = pd.read_csv('C:\\\\Users\\\\M4\\\\Desktop\\\\household_power_consumption.csv',parse_dates=['datetime'], index_col= 'datetime')"
   ]
  },
  {
   "cell_type": "code",
   "execution_count": 8,
   "id": "cce4868b",
   "metadata": {},
   "outputs": [
    {
     "data": {
      "text/plain": [
       "(1442, 8)"
      ]
     },
     "execution_count": 8,
     "metadata": {},
     "output_type": "execute_result"
    }
   ],
   "source": [
    "# resample the data on daily basis\n",
    "df = df.resample('D').mean()\n",
    "df.shape"
   ]
  },
  {
   "cell_type": "code",
   "execution_count": 9,
   "id": "3ba85364",
   "metadata": {},
   "outputs": [
    {
     "data": {
      "text/html": [
       "<div>\n",
       "<style scoped>\n",
       "    .dataframe tbody tr th:only-of-type {\n",
       "        vertical-align: middle;\n",
       "    }\n",
       "\n",
       "    .dataframe tbody tr th {\n",
       "        vertical-align: top;\n",
       "    }\n",
       "\n",
       "    .dataframe thead th {\n",
       "        text-align: right;\n",
       "    }\n",
       "</style>\n",
       "<table border=\"1\" class=\"dataframe\">\n",
       "  <thead>\n",
       "    <tr style=\"text-align: right;\">\n",
       "      <th></th>\n",
       "      <th>Global_active_power</th>\n",
       "      <th>Global_reactive_power</th>\n",
       "      <th>Voltage</th>\n",
       "      <th>Global_intensity</th>\n",
       "      <th>Sub_metering_1</th>\n",
       "      <th>Sub_metering_2</th>\n",
       "      <th>Sub_metering_3</th>\n",
       "      <th>sub_metering_4</th>\n",
       "    </tr>\n",
       "    <tr>\n",
       "      <th>datetime</th>\n",
       "      <th></th>\n",
       "      <th></th>\n",
       "      <th></th>\n",
       "      <th></th>\n",
       "      <th></th>\n",
       "      <th></th>\n",
       "      <th></th>\n",
       "      <th></th>\n",
       "    </tr>\n",
       "  </thead>\n",
       "  <tbody>\n",
       "    <tr>\n",
       "      <th>2006-12-16</th>\n",
       "      <td>3.053475</td>\n",
       "      <td>0.088187</td>\n",
       "      <td>236.243763</td>\n",
       "      <td>13.082828</td>\n",
       "      <td>0.000000</td>\n",
       "      <td>1.378788</td>\n",
       "      <td>12.439394</td>\n",
       "      <td>37.073064</td>\n",
       "    </tr>\n",
       "    <tr>\n",
       "      <th>2006-12-17</th>\n",
       "      <td>2.354486</td>\n",
       "      <td>0.156949</td>\n",
       "      <td>240.087028</td>\n",
       "      <td>9.999028</td>\n",
       "      <td>1.411806</td>\n",
       "      <td>2.907639</td>\n",
       "      <td>9.264583</td>\n",
       "      <td>25.657407</td>\n",
       "    </tr>\n",
       "    <tr>\n",
       "      <th>2006-12-18</th>\n",
       "      <td>1.530435</td>\n",
       "      <td>0.112356</td>\n",
       "      <td>241.231694</td>\n",
       "      <td>6.421667</td>\n",
       "      <td>0.738194</td>\n",
       "      <td>1.820139</td>\n",
       "      <td>9.734722</td>\n",
       "      <td>13.214190</td>\n",
       "    </tr>\n",
       "    <tr>\n",
       "      <th>2006-12-19</th>\n",
       "      <td>1.157079</td>\n",
       "      <td>0.104821</td>\n",
       "      <td>241.999313</td>\n",
       "      <td>4.926389</td>\n",
       "      <td>0.582639</td>\n",
       "      <td>5.279167</td>\n",
       "      <td>4.303472</td>\n",
       "      <td>9.119375</td>\n",
       "    </tr>\n",
       "    <tr>\n",
       "      <th>2006-12-20</th>\n",
       "      <td>1.545658</td>\n",
       "      <td>0.111804</td>\n",
       "      <td>242.308062</td>\n",
       "      <td>6.467361</td>\n",
       "      <td>0.000000</td>\n",
       "      <td>1.838889</td>\n",
       "      <td>9.765972</td>\n",
       "      <td>14.156111</td>\n",
       "    </tr>\n",
       "  </tbody>\n",
       "</table>\n",
       "</div>"
      ],
      "text/plain": [
       "            Global_active_power  Global_reactive_power     Voltage  \\\n",
       "datetime                                                             \n",
       "2006-12-16             3.053475               0.088187  236.243763   \n",
       "2006-12-17             2.354486               0.156949  240.087028   \n",
       "2006-12-18             1.530435               0.112356  241.231694   \n",
       "2006-12-19             1.157079               0.104821  241.999313   \n",
       "2006-12-20             1.545658               0.111804  242.308062   \n",
       "\n",
       "            Global_intensity  Sub_metering_1  Sub_metering_2  Sub_metering_3  \\\n",
       "datetime                                                                       \n",
       "2006-12-16         13.082828        0.000000        1.378788       12.439394   \n",
       "2006-12-17          9.999028        1.411806        2.907639        9.264583   \n",
       "2006-12-18          6.421667        0.738194        1.820139        9.734722   \n",
       "2006-12-19          4.926389        0.582639        5.279167        4.303472   \n",
       "2006-12-20          6.467361        0.000000        1.838889        9.765972   \n",
       "\n",
       "            sub_metering_4  \n",
       "datetime                    \n",
       "2006-12-16       37.073064  \n",
       "2006-12-17       25.657407  \n",
       "2006-12-18       13.214190  \n",
       "2006-12-19        9.119375  \n",
       "2006-12-20       14.156111  "
      ]
     },
     "execution_count": 9,
     "metadata": {},
     "output_type": "execute_result"
    }
   ],
   "source": [
    "df.head()"
   ]
  },
  {
   "cell_type": "code",
   "execution_count": 10,
   "id": "d313741c",
   "metadata": {},
   "outputs": [],
   "source": [
    "def train_test_split(df):\n",
    "    \n",
    "    # compute split point\n",
    "    end_idx = df.shape[0]* 70 // 100\n",
    "    \n",
    "    train_data = df.iloc[:end_idx, : ]\n",
    "    test_data = df.iloc[end_idx:, :]\n",
    "    \n",
    "    return train_data, test_data"
   ]
  },
  {
   "cell_type": "code",
   "execution_count": 11,
   "id": "5ad8c061",
   "metadata": {},
   "outputs": [],
   "source": [
    "# Split the data into train and test\n",
    "X_train, X_test = train_test_split(df)"
   ]
  },
  {
   "cell_type": "code",
   "execution_count": 12,
   "id": "135724f8",
   "metadata": {},
   "outputs": [],
   "source": [
    "from sklearn.preprocessing import MinMaxScaler\n",
    "def scale_data(train, test):\n",
    "    scaler = MinMaxScaler().fit(train)\n",
    "    return scaler.transform(train), scaler.transform(test), scaler"
   ]
  },
  {
   "cell_type": "code",
   "execution_count": 13,
   "id": "6b1992dc",
   "metadata": {},
   "outputs": [],
   "source": [
    "# Scale the data\n",
    "X_train, X_test, scaler = scale_data(X_train, X_test)"
   ]
  },
  {
   "cell_type": "code",
   "execution_count": 14,
   "id": "c8da20da",
   "metadata": {},
   "outputs": [],
   "source": [
    "def convert_to_supervised(df):\n",
    "\n",
    "    input_features = []\n",
    "    ouput_feature = []\n",
    "    \n",
    "    len_df = df.shape[0]\n",
    "    \n",
    "    for i in range(len_df):\n",
    "        \n",
    "        end_idx = i + 7\n",
    "        \n",
    "        if end_idx > len_df-7:\n",
    "            break\n",
    "            \n",
    "        input_x , output_y = df[i:end_idx, 1:], df[end_idx: end_idx+7, 0]\n",
    "        \n",
    "        input_features.append(input_x)\n",
    "        ouput_feature.append(output_y)\n",
    "    \n",
    "    return np.array(input_features), np.array(ouput_feature)"
   ]
  },
  {
   "cell_type": "code",
   "execution_count": 15,
   "id": "f7093899",
   "metadata": {},
   "outputs": [
    {
     "name": "stdout",
     "output_type": "stream",
     "text": [
      "Shape of (training data) input features : (996, 7, 7) and ouput feature (996, 7)\n"
     ]
    }
   ],
   "source": [
    "# Split the training data into input features and out feature\n",
    "X_train, Y_train = convert_to_supervised(X_train)\n",
    "print('Shape of (training data) input features : %s and ouput feature %s' % (X_train.shape, Y_train.shape))"
   ]
  },
  {
   "cell_type": "code",
   "execution_count": 185,
   "id": "d11b6f61",
   "metadata": {},
   "outputs": [],
   "source": [
    "#Y_train = Y_train.reshape((Y_train.shape[0],1))"
   ]
  },
  {
   "cell_type": "code",
   "execution_count": 16,
   "id": "62611a43",
   "metadata": {},
   "outputs": [
    {
     "data": {
      "text/plain": [
       "((996, 7, 7), (996, 7))"
      ]
     },
     "execution_count": 16,
     "metadata": {},
     "output_type": "execute_result"
    }
   ],
   "source": [
    "X_train.shape,Y_train.shape"
   ]
  },
  {
   "cell_type": "code",
   "execution_count": 17,
   "id": "f5388c61",
   "metadata": {},
   "outputs": [
    {
     "name": "stdout",
     "output_type": "stream",
     "text": [
      "Shape of (testing data) input features : (420, 7, 7) and ouput feature (420, 7)\n"
     ]
    }
   ],
   "source": [
    "X_test, Y_test = convert_to_supervised(X_test)\n",
    "print('Shape of (testing data) input features : %s and ouput feature %s' % (X_test.shape, Y_test.shape))"
   ]
  },
  {
   "cell_type": "code",
   "execution_count": 22,
   "id": "f65a938a",
   "metadata": {},
   "outputs": [
    {
     "name": "stdout",
     "output_type": "stream",
     "text": [
      "Model: \"model_1\"\n",
      "__________________________________________________________________________________________________\n",
      " Layer (type)                   Output Shape         Param #     Connected to                     \n",
      "==================================================================================================\n",
      " input_2 (InputLayer)           [(None, 7, 7)]       0           []                               \n",
      "                                                                                                  \n",
      " layer_normalization_20 (LayerN  (None, 7, 7)        14          ['input_2[0][0]']                \n",
      " ormalization)                                                                                    \n",
      "                                                                                                  \n",
      " multi_head_attention_10 (Multi  (None, 7, 7)        503         ['layer_normalization_20[0][0]', \n",
      " HeadAttention)                                                   'layer_normalization_20[0][0]'] \n",
      "                                                                                                  \n",
      " dropout_21 (Dropout)           (None, 7, 7)         0           ['multi_head_attention_10[0][0]']\n",
      "                                                                                                  \n",
      " tf.__operators__.add_20 (TFOpL  (None, 7, 7)        0           ['dropout_21[0][0]',             \n",
      " ambda)                                                           'input_2[0][0]']                \n",
      "                                                                                                  \n",
      " layer_normalization_21 (LayerN  (None, 7, 7)        14          ['tf.__operators__.add_20[0][0]']\n",
      " ormalization)                                                                                    \n",
      "                                                                                                  \n",
      " conv1d_20 (Conv1D)             (None, 7, 32)        256         ['layer_normalization_21[0][0]'] \n",
      "                                                                                                  \n",
      " dropout_22 (Dropout)           (None, 7, 32)        0           ['conv1d_20[0][0]']              \n",
      "                                                                                                  \n",
      " conv1d_21 (Conv1D)             (None, 7, 7)         231         ['dropout_22[0][0]']             \n",
      "                                                                                                  \n",
      " tf.__operators__.add_21 (TFOpL  (None, 7, 7)        0           ['conv1d_21[0][0]',              \n",
      " ambda)                                                           'tf.__operators__.add_20[0][0]']\n",
      "                                                                                                  \n",
      " layer_normalization_22 (LayerN  (None, 7, 7)        14          ['tf.__operators__.add_21[0][0]']\n",
      " ormalization)                                                                                    \n",
      "                                                                                                  \n",
      " multi_head_attention_11 (Multi  (None, 7, 7)        503         ['layer_normalization_22[0][0]', \n",
      " HeadAttention)                                                   'layer_normalization_22[0][0]'] \n",
      "                                                                                                  \n",
      " dropout_23 (Dropout)           (None, 7, 7)         0           ['multi_head_attention_11[0][0]']\n",
      "                                                                                                  \n",
      " tf.__operators__.add_22 (TFOpL  (None, 7, 7)        0           ['dropout_23[0][0]',             \n",
      " ambda)                                                           'tf.__operators__.add_21[0][0]']\n",
      "                                                                                                  \n",
      " layer_normalization_23 (LayerN  (None, 7, 7)        14          ['tf.__operators__.add_22[0][0]']\n",
      " ormalization)                                                                                    \n",
      "                                                                                                  \n",
      " conv1d_22 (Conv1D)             (None, 7, 32)        256         ['layer_normalization_23[0][0]'] \n",
      "                                                                                                  \n",
      " dropout_24 (Dropout)           (None, 7, 32)        0           ['conv1d_22[0][0]']              \n",
      "                                                                                                  \n",
      " conv1d_23 (Conv1D)             (None, 7, 7)         231         ['dropout_24[0][0]']             \n",
      "                                                                                                  \n",
      " tf.__operators__.add_23 (TFOpL  (None, 7, 7)        0           ['conv1d_23[0][0]',              \n",
      " ambda)                                                           'tf.__operators__.add_22[0][0]']\n",
      "                                                                                                  \n",
      " layer_normalization_24 (LayerN  (None, 7, 7)        14          ['tf.__operators__.add_23[0][0]']\n",
      " ormalization)                                                                                    \n",
      "                                                                                                  \n",
      " multi_head_attention_12 (Multi  (None, 7, 7)        503         ['layer_normalization_24[0][0]', \n",
      " HeadAttention)                                                   'layer_normalization_24[0][0]'] \n",
      "                                                                                                  \n",
      " dropout_25 (Dropout)           (None, 7, 7)         0           ['multi_head_attention_12[0][0]']\n",
      "                                                                                                  \n",
      " tf.__operators__.add_24 (TFOpL  (None, 7, 7)        0           ['dropout_25[0][0]',             \n",
      " ambda)                                                           'tf.__operators__.add_23[0][0]']\n",
      "                                                                                                  \n",
      " layer_normalization_25 (LayerN  (None, 7, 7)        14          ['tf.__operators__.add_24[0][0]']\n",
      " ormalization)                                                                                    \n",
      "                                                                                                  \n",
      " conv1d_24 (Conv1D)             (None, 7, 32)        256         ['layer_normalization_25[0][0]'] \n",
      "                                                                                                  \n",
      " dropout_26 (Dropout)           (None, 7, 32)        0           ['conv1d_24[0][0]']              \n",
      "                                                                                                  \n",
      " conv1d_25 (Conv1D)             (None, 7, 7)         231         ['dropout_26[0][0]']             \n",
      "                                                                                                  \n",
      " tf.__operators__.add_25 (TFOpL  (None, 7, 7)        0           ['conv1d_25[0][0]',              \n",
      " ambda)                                                           'tf.__operators__.add_24[0][0]']\n",
      "                                                                                                  \n",
      " layer_normalization_26 (LayerN  (None, 7, 7)        14          ['tf.__operators__.add_25[0][0]']\n",
      " ormalization)                                                                                    \n",
      "                                                                                                  \n",
      " multi_head_attention_13 (Multi  (None, 7, 7)        503         ['layer_normalization_26[0][0]', \n",
      " HeadAttention)                                                   'layer_normalization_26[0][0]'] \n",
      "                                                                                                  \n",
      " dropout_27 (Dropout)           (None, 7, 7)         0           ['multi_head_attention_13[0][0]']\n",
      "                                                                                                  \n",
      " tf.__operators__.add_26 (TFOpL  (None, 7, 7)        0           ['dropout_27[0][0]',             \n"
     ]
    },
    {
     "name": "stdout",
     "output_type": "stream",
     "text": [
      " ambda)                                                           'tf.__operators__.add_25[0][0]']\n",
      "                                                                                                  \n",
      " layer_normalization_27 (LayerN  (None, 7, 7)        14          ['tf.__operators__.add_26[0][0]']\n",
      " ormalization)                                                                                    \n",
      "                                                                                                  \n",
      " conv1d_26 (Conv1D)             (None, 7, 32)        256         ['layer_normalization_27[0][0]'] \n",
      "                                                                                                  \n",
      " dropout_28 (Dropout)           (None, 7, 32)        0           ['conv1d_26[0][0]']              \n",
      "                                                                                                  \n",
      " conv1d_27 (Conv1D)             (None, 7, 7)         231         ['dropout_28[0][0]']             \n",
      "                                                                                                  \n",
      " tf.__operators__.add_27 (TFOpL  (None, 7, 7)        0           ['conv1d_27[0][0]',              \n",
      " ambda)                                                           'tf.__operators__.add_26[0][0]']\n",
      "                                                                                                  \n",
      " layer_normalization_28 (LayerN  (None, 7, 7)        14          ['tf.__operators__.add_27[0][0]']\n",
      " ormalization)                                                                                    \n",
      "                                                                                                  \n",
      " multi_head_attention_14 (Multi  (None, 7, 7)        503         ['layer_normalization_28[0][0]', \n",
      " HeadAttention)                                                   'layer_normalization_28[0][0]'] \n",
      "                                                                                                  \n",
      " dropout_29 (Dropout)           (None, 7, 7)         0           ['multi_head_attention_14[0][0]']\n",
      "                                                                                                  \n",
      " tf.__operators__.add_28 (TFOpL  (None, 7, 7)        0           ['dropout_29[0][0]',             \n",
      " ambda)                                                           'tf.__operators__.add_27[0][0]']\n",
      "                                                                                                  \n",
      " layer_normalization_29 (LayerN  (None, 7, 7)        14          ['tf.__operators__.add_28[0][0]']\n",
      " ormalization)                                                                                    \n",
      "                                                                                                  \n",
      " conv1d_28 (Conv1D)             (None, 7, 32)        256         ['layer_normalization_29[0][0]'] \n",
      "                                                                                                  \n",
      " dropout_30 (Dropout)           (None, 7, 32)        0           ['conv1d_28[0][0]']              \n",
      "                                                                                                  \n",
      " conv1d_29 (Conv1D)             (None, 7, 7)         231         ['dropout_30[0][0]']             \n",
      "                                                                                                  \n",
      " tf.__operators__.add_29 (TFOpL  (None, 7, 7)        0           ['conv1d_29[0][0]',              \n",
      " ambda)                                                           'tf.__operators__.add_28[0][0]']\n",
      "                                                                                                  \n",
      " layer_normalization_30 (LayerN  (None, 7, 7)        14          ['tf.__operators__.add_29[0][0]']\n",
      " ormalization)                                                                                    \n",
      "                                                                                                  \n",
      " multi_head_attention_15 (Multi  (None, 7, 7)        503         ['layer_normalization_30[0][0]', \n",
      " HeadAttention)                                                   'layer_normalization_30[0][0]'] \n",
      "                                                                                                  \n",
      " dropout_31 (Dropout)           (None, 7, 7)         0           ['multi_head_attention_15[0][0]']\n",
      "                                                                                                  \n",
      " tf.__operators__.add_30 (TFOpL  (None, 7, 7)        0           ['dropout_31[0][0]',             \n",
      " ambda)                                                           'tf.__operators__.add_29[0][0]']\n",
      "                                                                                                  \n",
      " layer_normalization_31 (LayerN  (None, 7, 7)        14          ['tf.__operators__.add_30[0][0]']\n",
      " ormalization)                                                                                    \n",
      "                                                                                                  \n",
      " conv1d_30 (Conv1D)             (None, 7, 32)        256         ['layer_normalization_31[0][0]'] \n",
      "                                                                                                  \n",
      " dropout_32 (Dropout)           (None, 7, 32)        0           ['conv1d_30[0][0]']              \n",
      "                                                                                                  \n",
      " conv1d_31 (Conv1D)             (None, 7, 7)         231         ['dropout_32[0][0]']             \n",
      "                                                                                                  \n",
      " tf.__operators__.add_31 (TFOpL  (None, 7, 7)        0           ['conv1d_31[0][0]',              \n",
      " ambda)                                                           'tf.__operators__.add_30[0][0]']\n",
      "                                                                                                  \n",
      " layer_normalization_32 (LayerN  (None, 7, 7)        14          ['tf.__operators__.add_31[0][0]']\n",
      " ormalization)                                                                                    \n",
      "                                                                                                  \n",
      " multi_head_attention_16 (Multi  (None, 7, 7)        503         ['layer_normalization_32[0][0]', \n",
      " HeadAttention)                                                   'layer_normalization_32[0][0]'] \n",
      "                                                                                                  \n",
      " dropout_33 (Dropout)           (None, 7, 7)         0           ['multi_head_attention_16[0][0]']\n",
      "                                                                                                  \n",
      " tf.__operators__.add_32 (TFOpL  (None, 7, 7)        0           ['dropout_33[0][0]',             \n",
      " ambda)                                                           'tf.__operators__.add_31[0][0]']\n",
      "                                                                                                  \n",
      " layer_normalization_33 (LayerN  (None, 7, 7)        14          ['tf.__operators__.add_32[0][0]']\n",
      " ormalization)                                                                                    \n",
      "                                                                                                  \n",
      " conv1d_32 (Conv1D)             (None, 7, 32)        256         ['layer_normalization_33[0][0]'] \n",
      "                                                                                                  \n",
      " dropout_34 (Dropout)           (None, 7, 32)        0           ['conv1d_32[0][0]']              \n",
      "                                                                                                  \n",
      " conv1d_33 (Conv1D)             (None, 7, 7)         231         ['dropout_34[0][0]']             \n",
      "                                                                                                  \n",
      " tf.__operators__.add_33 (TFOpL  (None, 7, 7)        0           ['conv1d_33[0][0]',              \n",
      " ambda)                                                           'tf.__operators__.add_32[0][0]']\n",
      "                                                                                                  \n"
     ]
    },
    {
     "name": "stdout",
     "output_type": "stream",
     "text": [
      " layer_normalization_34 (LayerN  (None, 7, 7)        14          ['tf.__operators__.add_33[0][0]']\n",
      " ormalization)                                                                                    \n",
      "                                                                                                  \n",
      " multi_head_attention_17 (Multi  (None, 7, 7)        503         ['layer_normalization_34[0][0]', \n",
      " HeadAttention)                                                   'layer_normalization_34[0][0]'] \n",
      "                                                                                                  \n",
      " dropout_35 (Dropout)           (None, 7, 7)         0           ['multi_head_attention_17[0][0]']\n",
      "                                                                                                  \n",
      " tf.__operators__.add_34 (TFOpL  (None, 7, 7)        0           ['dropout_35[0][0]',             \n",
      " ambda)                                                           'tf.__operators__.add_33[0][0]']\n",
      "                                                                                                  \n",
      " layer_normalization_35 (LayerN  (None, 7, 7)        14          ['tf.__operators__.add_34[0][0]']\n",
      " ormalization)                                                                                    \n",
      "                                                                                                  \n",
      " conv1d_34 (Conv1D)             (None, 7, 32)        256         ['layer_normalization_35[0][0]'] \n",
      "                                                                                                  \n",
      " dropout_36 (Dropout)           (None, 7, 32)        0           ['conv1d_34[0][0]']              \n",
      "                                                                                                  \n",
      " conv1d_35 (Conv1D)             (None, 7, 7)         231         ['dropout_36[0][0]']             \n",
      "                                                                                                  \n",
      " tf.__operators__.add_35 (TFOpL  (None, 7, 7)        0           ['conv1d_35[0][0]',              \n",
      " ambda)                                                           'tf.__operators__.add_34[0][0]']\n",
      "                                                                                                  \n",
      " layer_normalization_36 (LayerN  (None, 7, 7)        14          ['tf.__operators__.add_35[0][0]']\n",
      " ormalization)                                                                                    \n",
      "                                                                                                  \n",
      " multi_head_attention_18 (Multi  (None, 7, 7)        503         ['layer_normalization_36[0][0]', \n",
      " HeadAttention)                                                   'layer_normalization_36[0][0]'] \n",
      "                                                                                                  \n",
      " dropout_37 (Dropout)           (None, 7, 7)         0           ['multi_head_attention_18[0][0]']\n",
      "                                                                                                  \n",
      " tf.__operators__.add_36 (TFOpL  (None, 7, 7)        0           ['dropout_37[0][0]',             \n",
      " ambda)                                                           'tf.__operators__.add_35[0][0]']\n",
      "                                                                                                  \n",
      " layer_normalization_37 (LayerN  (None, 7, 7)        14          ['tf.__operators__.add_36[0][0]']\n",
      " ormalization)                                                                                    \n",
      "                                                                                                  \n",
      " conv1d_36 (Conv1D)             (None, 7, 32)        256         ['layer_normalization_37[0][0]'] \n",
      "                                                                                                  \n",
      " dropout_38 (Dropout)           (None, 7, 32)        0           ['conv1d_36[0][0]']              \n",
      "                                                                                                  \n",
      " conv1d_37 (Conv1D)             (None, 7, 7)         231         ['dropout_38[0][0]']             \n",
      "                                                                                                  \n",
      " tf.__operators__.add_37 (TFOpL  (None, 7, 7)        0           ['conv1d_37[0][0]',              \n",
      " ambda)                                                           'tf.__operators__.add_36[0][0]']\n",
      "                                                                                                  \n",
      " layer_normalization_38 (LayerN  (None, 7, 7)        14          ['tf.__operators__.add_37[0][0]']\n",
      " ormalization)                                                                                    \n",
      "                                                                                                  \n",
      " multi_head_attention_19 (Multi  (None, 7, 7)        503         ['layer_normalization_38[0][0]', \n",
      " HeadAttention)                                                   'layer_normalization_38[0][0]'] \n",
      "                                                                                                  \n",
      " dropout_39 (Dropout)           (None, 7, 7)         0           ['multi_head_attention_19[0][0]']\n",
      "                                                                                                  \n",
      " tf.__operators__.add_38 (TFOpL  (None, 7, 7)        0           ['dropout_39[0][0]',             \n",
      " ambda)                                                           'tf.__operators__.add_37[0][0]']\n",
      "                                                                                                  \n",
      " layer_normalization_39 (LayerN  (None, 7, 7)        14          ['tf.__operators__.add_38[0][0]']\n",
      " ormalization)                                                                                    \n",
      "                                                                                                  \n",
      " conv1d_38 (Conv1D)             (None, 7, 32)        256         ['layer_normalization_39[0][0]'] \n",
      "                                                                                                  \n",
      " dropout_40 (Dropout)           (None, 7, 32)        0           ['conv1d_38[0][0]']              \n",
      "                                                                                                  \n",
      " conv1d_39 (Conv1D)             (None, 7, 7)         231         ['dropout_40[0][0]']             \n",
      "                                                                                                  \n",
      " tf.__operators__.add_39 (TFOpL  (None, 7, 7)        0           ['conv1d_39[0][0]',              \n",
      " ambda)                                                           'tf.__operators__.add_38[0][0]']\n",
      "                                                                                                  \n",
      " global_average_pooling1d_1 (Gl  (None, 7)           0           ['tf.__operators__.add_39[0][0]']\n",
      " obalAveragePooling1D)                                                                            \n",
      "                                                                                                  \n",
      " dense_2 (Dense)                (None, 512)          4096        ['global_average_pooling1d_1[0][0\n",
      "                                                                 ]']                              \n",
      "                                                                                                  \n",
      " dropout_41 (Dropout)           (None, 512)          0           ['dense_2[0][0]']                \n",
      "                                                                                                  \n",
      " dense_3 (Dense)                (None, 7)            3591        ['dropout_41[0][0]']             \n",
      "                                                                                                  \n",
      "==================================================================================================\n",
      "Total params: 17,867\n",
      "Trainable params: 17,867\n",
      "Non-trainable params: 0\n",
      "__________________________________________________________________________________________________\n"
     ]
    }
   ],
   "source": [
    "input_shape = X_train.shape[1:]\n",
    "n_classes =7\n",
    "model = Transformer(    \n",
    "    input_shape,\n",
    "    n_outputs=7,\n",
    "    head_size=4,\n",
    "    num_heads=4,\n",
    "    ff_dim=32,\n",
    "    num_transformer_blocks=10,\n",
    "    mlp_units=[512],\n",
    "    mlp_dropout=0.4,\n",
    "    dropout=0.2,).build_model()\n",
    "\n",
    "model.compile(\n",
    "    loss=\"mse\",\n",
    "    optimizer=keras.optimizers.Adam(),\n",
    ")\n",
    "model.summary()\n",
    "\n",
    "callbacks = [keras.callbacks.EarlyStopping(patience=10)]"
   ]
  },
  {
   "cell_type": "code",
   "execution_count": 73,
   "id": "17ca6701",
   "metadata": {},
   "outputs": [
    {
     "name": "stdout",
     "output_type": "stream",
     "text": [
      "Epoch 1/100\n",
      "22/22 [==============================] - 7s 76ms/step - loss: 0.0557 - val_loss: 0.0290\n",
      "Epoch 2/100\n",
      "22/22 [==============================] - 1s 29ms/step - loss: 0.0291 - val_loss: 0.0142\n",
      "Epoch 3/100\n",
      "22/22 [==============================] - 1s 30ms/step - loss: 0.0251 - val_loss: 0.0144\n",
      "Epoch 4/100\n",
      "22/22 [==============================] - 1s 30ms/step - loss: 0.0216 - val_loss: 0.0134\n",
      "Epoch 5/100\n",
      "22/22 [==============================] - 1s 30ms/step - loss: 0.0206 - val_loss: 0.0114\n",
      "Epoch 6/100\n",
      "22/22 [==============================] - 1s 31ms/step - loss: 0.0199 - val_loss: 0.0121\n",
      "Epoch 7/100\n",
      "22/22 [==============================] - 1s 33ms/step - loss: 0.0189 - val_loss: 0.0127\n",
      "Epoch 8/100\n",
      "22/22 [==============================] - 1s 31ms/step - loss: 0.0199 - val_loss: 0.0108\n",
      "Epoch 9/100\n",
      "22/22 [==============================] - 1s 31ms/step - loss: 0.0186 - val_loss: 0.0119\n",
      "Epoch 10/100\n",
      "22/22 [==============================] - 1s 31ms/step - loss: 0.0186 - val_loss: 0.0139\n",
      "Epoch 11/100\n",
      "22/22 [==============================] - 1s 30ms/step - loss: 0.0179 - val_loss: 0.0110\n",
      "Epoch 12/100\n",
      "22/22 [==============================] - 1s 31ms/step - loss: 0.0170 - val_loss: 0.0106\n",
      "Epoch 13/100\n",
      "22/22 [==============================] - 1s 30ms/step - loss: 0.0171 - val_loss: 0.0111\n",
      "Epoch 14/100\n",
      "22/22 [==============================] - 1s 31ms/step - loss: 0.0170 - val_loss: 0.0103\n",
      "Epoch 15/100\n",
      "22/22 [==============================] - 1s 31ms/step - loss: 0.0169 - val_loss: 0.0108\n",
      "Epoch 16/100\n",
      "22/22 [==============================] - 1s 31ms/step - loss: 0.0169 - val_loss: 0.0116\n",
      "Epoch 17/100\n",
      "22/22 [==============================] - 1s 30ms/step - loss: 0.0170 - val_loss: 0.0113\n",
      "Epoch 18/100\n",
      "22/22 [==============================] - 1s 30ms/step - loss: 0.0160 - val_loss: 0.0097\n",
      "Epoch 19/100\n",
      "22/22 [==============================] - 1s 30ms/step - loss: 0.0160 - val_loss: 0.0099\n",
      "Epoch 20/100\n",
      "22/22 [==============================] - 1s 30ms/step - loss: 0.0161 - val_loss: 0.0118\n",
      "Epoch 21/100\n",
      "22/22 [==============================] - 1s 30ms/step - loss: 0.0158 - val_loss: 0.0098\n",
      "Epoch 22/100\n",
      "22/22 [==============================] - 1s 31ms/step - loss: 0.0159 - val_loss: 0.0104\n",
      "Epoch 23/100\n",
      "22/22 [==============================] - 1s 30ms/step - loss: 0.0158 - val_loss: 0.0126\n",
      "Epoch 24/100\n",
      "22/22 [==============================] - 1s 30ms/step - loss: 0.0155 - val_loss: 0.0118\n",
      "Epoch 25/100\n",
      "22/22 [==============================] - 1s 31ms/step - loss: 0.0157 - val_loss: 0.0101\n",
      "Epoch 26/100\n",
      "22/22 [==============================] - 1s 30ms/step - loss: 0.0155 - val_loss: 0.0093\n",
      "Epoch 27/100\n",
      "22/22 [==============================] - 1s 32ms/step - loss: 0.0154 - val_loss: 0.0100\n",
      "Epoch 28/100\n",
      "22/22 [==============================] - 1s 33ms/step - loss: 0.0152 - val_loss: 0.0119\n",
      "Epoch 29/100\n",
      "22/22 [==============================] - 1s 31ms/step - loss: 0.0153 - val_loss: 0.0108\n",
      "Epoch 30/100\n",
      "22/22 [==============================] - 1s 32ms/step - loss: 0.0158 - val_loss: 0.0099\n",
      "Epoch 31/100\n",
      "22/22 [==============================] - 1s 31ms/step - loss: 0.0153 - val_loss: 0.0105\n",
      "Epoch 32/100\n",
      "22/22 [==============================] - 1s 32ms/step - loss: 0.0154 - val_loss: 0.0098\n",
      "Epoch 33/100\n",
      "22/22 [==============================] - 1s 30ms/step - loss: 0.0150 - val_loss: 0.0114\n",
      "Epoch 34/100\n",
      "22/22 [==============================] - 1s 31ms/step - loss: 0.0146 - val_loss: 0.0111\n",
      "Epoch 35/100\n",
      "22/22 [==============================] - 1s 30ms/step - loss: 0.0149 - val_loss: 0.0099\n",
      "Epoch 36/100\n",
      "22/22 [==============================] - 1s 32ms/step - loss: 0.0154 - val_loss: 0.0106\n"
     ]
    }
   ],
   "source": [
    "history=model.fit(\n",
    "    X_train,\n",
    "    Y_train,\n",
    "    validation_split=0.3,\n",
    "    epochs=100,\n",
    "    batch_size=32,\n",
    "    callbacks=callbacks,\n",
    ")"
   ]
  },
  {
   "cell_type": "code",
   "execution_count": 74,
   "id": "074b279e",
   "metadata": {},
   "outputs": [
    {
     "name": "stdout",
     "output_type": "stream",
     "text": [
      "32/32 [==============================] - 0s 9ms/step - loss: 0.0130\n"
     ]
    },
    {
     "data": {
      "text/plain": [
       "0.013028026558458805"
      ]
     },
     "execution_count": 74,
     "metadata": {},
     "output_type": "execute_result"
    }
   ],
   "source": [
    "model.evaluate(X_train, Y_train, verbose=1)"
   ]
  },
  {
   "cell_type": "code",
   "execution_count": 75,
   "id": "c489ef99",
   "metadata": {},
   "outputs": [
    {
     "name": "stdout",
     "output_type": "stream",
     "text": [
      "14/14 [==============================] - 0s 9ms/step - loss: 0.0097\n"
     ]
    },
    {
     "data": {
      "text/plain": [
       "0.009698278270661831"
      ]
     },
     "execution_count": 75,
     "metadata": {},
     "output_type": "execute_result"
    }
   ],
   "source": [
    "model.evaluate(X_test, Y_test, verbose=1)"
   ]
  },
  {
   "cell_type": "code",
   "execution_count": 76,
   "id": "18b3bae8",
   "metadata": {},
   "outputs": [],
   "source": [
    "def print_metrics(model,Y_train,Y_pred_train,Y_test,Y_pred_test):\n",
    "    print('Train MAE  value   : %.3f ' % mean_absolute_error(Y_train, Y_pred_train))\n",
    "    print('Train MSE  value   : %.3f ' % mean_squared_error(Y_train, Y_pred_train))\n",
    "    print('Train RMSE value   : %.3f ' % root_mean_squared_error(Y_train, Y_pred_train))\n",
    "    print('Train R2   value   : %.3f ' % r2_score(Y_train, Y_pred_train))\n",
    "    print('---------------------------------------------')\n",
    "    print('Test  MAE  value   : %.3f ' % mean_absolute_error(Y_test, Y_pred_test))\n",
    "    print('Test  MSE  value   : %.3f ' % mean_squared_error(Y_test, Y_pred_test))\n",
    "    print('Test  RMSE value   : %.3f ' % root_mean_squared_error(Y_test, Y_pred_test))\n",
    "    print('Test  R2   value   : %.3f ' % r2_score(Y_test, Y_pred_test))"
   ]
  },
  {
   "cell_type": "code",
   "execution_count": 77,
   "id": "ef7c758c",
   "metadata": {},
   "outputs": [],
   "source": [
    "from sklearn.metrics import mean_squared_error, r2_score, mean_absolute_error, mean_squared_log_error, mean_absolute_percentage_error\n",
    "def root_mean_squared_error(y_true, y_pred):    \n",
    "    return np.sqrt(mean_squared_error(y_true, y_pred))"
   ]
  },
  {
   "cell_type": "code",
   "execution_count": 78,
   "id": "0b5821dc",
   "metadata": {},
   "outputs": [
    {
     "name": "stdout",
     "output_type": "stream",
     "text": [
      "32/32 [==============================] - 1s 9ms/step\n",
      "14/14 [==============================] - 0s 8ms/step\n",
      "--------------------------------------------------\n",
      "Train MAE  value   : 0.086 \n",
      "Train MSE  value   : 0.013 \n",
      "Train RMSE value   : 0.114 \n",
      "Train R2   value   : 0.333 \n",
      "---------------------------------------------\n",
      "Test  MAE  value   : 0.076 \n",
      "Test  MSE  value   : 0.010 \n",
      "Test  RMSE value   : 0.098 \n",
      "Test  R2   value   : 0.136 \n"
     ]
    }
   ],
   "source": [
    "y_pred_train = model.predict(X_train)\n",
    "y_pred_test  = model.predict(X_test) \n",
    "\n",
    "print(\"-\" * 50)\n",
    "\n",
    "print_metrics(model , Y_train , y_pred_train , Y_test , y_pred_test)"
   ]
  },
  {
   "cell_type": "code",
   "execution_count": 79,
   "id": "5ebda29a",
   "metadata": {},
   "outputs": [
    {
     "data": {
      "image/png": "[encoded data removed]",
      "text/plain": [
       "<Figure size 640x480 with 1 Axes>"
      ]
     },
     "metadata": {},
     "output_type": "display_data"
    }
   ],
   "source": [
    "import matplotlib.pyplot as plt \n",
    "# Plot of loss vs epoch for train and test dataset\n",
    "plt.plot(history.history['loss'])\n",
    "plt.plot(history.history['val_loss'])\n",
    "plt.title(\"Plot of loss vs epoch for train and test dataset\")\n",
    "plt.ylabel('loss')\n",
    "plt.xlabel('epoch')\n",
    "plt.legend(['train', 'test'], loc='upper right')\n",
    "plt.show()"
   ]
  }
 ],
 "metadata": {
  "kernelspec": {
   "display_name": "Python 3 (ipykernel)",
   "language": "python",
   "name": "python3"
  },
  "language_info": {
   "codemirror_mode": {
    "name": "ipython",
    "version": 3
   },
   "file_extension": ".py",
   "mimetype": "text/x-python",
   "name": "python",
   "nbconvert_exporter": "python",
   "pygments_lexer": "ipython3",
   "version": "3.9.7"
  }
 },
 "nbformat": 4,
 "nbformat_minor": 5
}
