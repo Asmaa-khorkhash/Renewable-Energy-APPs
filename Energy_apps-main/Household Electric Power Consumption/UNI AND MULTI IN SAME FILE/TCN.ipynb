{
 "cells": [
  {
   "cell_type": "code",
   "execution_count": 1,
   "id": "a0a8538e",
   "metadata": {},
   "outputs": [],
   "source": [
    "import tensorflow as tf\n",
    "from tensorflow.python.keras.engine.base_layer import Layer\n",
    "from math import sqrt\n",
    "import math\n",
    "import numpy as np\n",
    "from tensorflow.keras.layers import LeakyReLU\n",
    "import pandas as pd\n",
    "import warnings\n",
    "warnings.filterwarnings('ignore')\n",
    "from tensorflow import keras\n",
    "from tensorflow.keras import layers\n",
    "from Energy_Models import Models as mo\n",
    "from Data import preprocess_data as pr"
   ]
  },
  {
   "cell_type": "code",
   "execution_count": 2,
   "id": "497d14db",
   "metadata": {},
   "outputs": [],
   "source": [
    "df = pd.read_csv('D:\\College\\Final\\Gpr\\Datasets\\household_power_consumption.txt',sep=';', \n",
    "                 parse_dates={'date_time' : ['Date', 'Time']}, infer_datetime_format=True, \n",
    "                 low_memory=False, na_values=['nan','?'], index_col='date_time')"
   ]
  },
  {
   "cell_type": "code",
   "execution_count": 3,
   "id": "753fb1e8",
   "metadata": {},
   "outputs": [
    {
     "data": {
      "text/html": [
       "<div>\n",
       "<style scoped>\n",
       "    .dataframe tbody tr th:only-of-type {\n",
       "        vertical-align: middle;\n",
       "    }\n",
       "\n",
       "    .dataframe tbody tr th {\n",
       "        vertical-align: top;\n",
       "    }\n",
       "\n",
       "    .dataframe thead th {\n",
       "        text-align: right;\n",
       "    }\n",
       "</style>\n",
       "<table border=\"1\" class=\"dataframe\">\n",
       "  <thead>\n",
       "    <tr style=\"text-align: right;\">\n",
       "      <th></th>\n",
       "      <th>Global_active_power</th>\n",
       "      <th>Global_reactive_power</th>\n",
       "      <th>Voltage</th>\n",
       "      <th>Global_intensity</th>\n",
       "      <th>Sub_metering_1</th>\n",
       "      <th>Sub_metering_2</th>\n",
       "      <th>Sub_metering_3</th>\n",
       "    </tr>\n",
       "    <tr>\n",
       "      <th>date_time</th>\n",
       "      <th></th>\n",
       "      <th></th>\n",
       "      <th></th>\n",
       "      <th></th>\n",
       "      <th></th>\n",
       "      <th></th>\n",
       "      <th></th>\n",
       "    </tr>\n",
       "  </thead>\n",
       "  <tbody>\n",
       "    <tr>\n",
       "      <th>2006-12-16 17:24:00</th>\n",
       "      <td>4.216</td>\n",
       "      <td>0.418</td>\n",
       "      <td>234.84</td>\n",
       "      <td>18.4</td>\n",
       "      <td>0.0</td>\n",
       "      <td>1.0</td>\n",
       "      <td>17.0</td>\n",
       "    </tr>\n",
       "    <tr>\n",
       "      <th>2006-12-16 17:25:00</th>\n",
       "      <td>5.360</td>\n",
       "      <td>0.436</td>\n",
       "      <td>233.63</td>\n",
       "      <td>23.0</td>\n",
       "      <td>0.0</td>\n",
       "      <td>1.0</td>\n",
       "      <td>16.0</td>\n",
       "    </tr>\n",
       "    <tr>\n",
       "      <th>2006-12-16 17:26:00</th>\n",
       "      <td>5.374</td>\n",
       "      <td>0.498</td>\n",
       "      <td>233.29</td>\n",
       "      <td>23.0</td>\n",
       "      <td>0.0</td>\n",
       "      <td>2.0</td>\n",
       "      <td>17.0</td>\n",
       "    </tr>\n",
       "    <tr>\n",
       "      <th>2006-12-16 17:27:00</th>\n",
       "      <td>5.388</td>\n",
       "      <td>0.502</td>\n",
       "      <td>233.74</td>\n",
       "      <td>23.0</td>\n",
       "      <td>0.0</td>\n",
       "      <td>1.0</td>\n",
       "      <td>17.0</td>\n",
       "    </tr>\n",
       "    <tr>\n",
       "      <th>2006-12-16 17:28:00</th>\n",
       "      <td>3.666</td>\n",
       "      <td>0.528</td>\n",
       "      <td>235.68</td>\n",
       "      <td>15.8</td>\n",
       "      <td>0.0</td>\n",
       "      <td>1.0</td>\n",
       "      <td>17.0</td>\n",
       "    </tr>\n",
       "  </tbody>\n",
       "</table>\n",
       "</div>"
      ],
      "text/plain": [
       "                     Global_active_power  Global_reactive_power  Voltage  \\\n",
       "date_time                                                                  \n",
       "2006-12-16 17:24:00                4.216                  0.418   234.84   \n",
       "2006-12-16 17:25:00                5.360                  0.436   233.63   \n",
       "2006-12-16 17:26:00                5.374                  0.498   233.29   \n",
       "2006-12-16 17:27:00                5.388                  0.502   233.74   \n",
       "2006-12-16 17:28:00                3.666                  0.528   235.68   \n",
       "\n",
       "                     Global_intensity  Sub_metering_1  Sub_metering_2  \\\n",
       "date_time                                                               \n",
       "2006-12-16 17:24:00              18.4             0.0             1.0   \n",
       "2006-12-16 17:25:00              23.0             0.0             1.0   \n",
       "2006-12-16 17:26:00              23.0             0.0             2.0   \n",
       "2006-12-16 17:27:00              23.0             0.0             1.0   \n",
       "2006-12-16 17:28:00              15.8             0.0             1.0   \n",
       "\n",
       "                     Sub_metering_3  \n",
       "date_time                            \n",
       "2006-12-16 17:24:00            17.0  \n",
       "2006-12-16 17:25:00            16.0  \n",
       "2006-12-16 17:26:00            17.0  \n",
       "2006-12-16 17:27:00            17.0  \n",
       "2006-12-16 17:28:00            17.0  "
      ]
     },
     "execution_count": 3,
     "metadata": {},
     "output_type": "execute_result"
    }
   ],
   "source": [
    "df.head()"
   ]
  },
  {
   "cell_type": "code",
   "execution_count": 4,
   "id": "ec45d784",
   "metadata": {},
   "outputs": [
    {
     "name": "stdout",
     "output_type": "stream",
     "text": [
      "<class 'pandas.core.frame.DataFrame'>\n",
      "DatetimeIndex: 2075259 entries, 2006-12-16 17:24:00 to 2010-11-26 21:02:00\n",
      "Data columns (total 7 columns):\n",
      " #   Column                 Dtype  \n",
      "---  ------                 -----  \n",
      " 0   Global_active_power    float64\n",
      " 1   Global_reactive_power  float64\n",
      " 2   Voltage                float64\n",
      " 3   Global_intensity       float64\n",
      " 4   Sub_metering_1         float64\n",
      " 5   Sub_metering_2         float64\n",
      " 6   Sub_metering_3         float64\n",
      "dtypes: float64(7)\n",
      "memory usage: 126.7 MB\n"
     ]
    }
   ],
   "source": [
    "df.info()"
   ]
  },
  {
   "cell_type": "code",
   "execution_count": 5,
   "id": "403860c3",
   "metadata": {},
   "outputs": [
    {
     "data": {
      "text/plain": [
       "(2075259, 7)"
      ]
     },
     "execution_count": 5,
     "metadata": {},
     "output_type": "execute_result"
    }
   ],
   "source": [
    "df.shape"
   ]
  },
  {
   "cell_type": "code",
   "execution_count": 6,
   "id": "10efbc7a",
   "metadata": {},
   "outputs": [
    {
     "data": {
      "text/plain": [
       "Global_active_power      25979\n",
       "Global_reactive_power    25979\n",
       "Voltage                  25979\n",
       "Global_intensity         25979\n",
       "Sub_metering_1           25979\n",
       "Sub_metering_2           25979\n",
       "Sub_metering_3           25979\n",
       "dtype: int64"
      ]
     },
     "execution_count": 6,
     "metadata": {},
     "output_type": "execute_result"
    }
   ],
   "source": [
    "df.isna().sum()"
   ]
  },
  {
   "cell_type": "code",
   "execution_count": 7,
   "id": "81af8e39",
   "metadata": {},
   "outputs": [],
   "source": [
    "# filling missing values by the value of one day before \n",
    "def fill_missing(data):\n",
    "    one_day = 24*60\n",
    "    for row in range(data.shape[0]):\n",
    "        for col in range(data.shape[1]):\n",
    "            if np.isnan(data[row,col]):\n",
    "                data[row,col] = data[row-one_day,col]"
   ]
  },
  {
   "cell_type": "code",
   "execution_count": 8,
   "id": "d040c12e",
   "metadata": {},
   "outputs": [],
   "source": [
    "fill_missing(df.values)"
   ]
  },
  {
   "cell_type": "code",
   "execution_count": 9,
   "id": "92a70af6",
   "metadata": {},
   "outputs": [
    {
     "data": {
      "text/plain": [
       "Global_active_power      0\n",
       "Global_reactive_power    0\n",
       "Voltage                  0\n",
       "Global_intensity         0\n",
       "Sub_metering_1           0\n",
       "Sub_metering_2           0\n",
       "Sub_metering_3           0\n",
       "dtype: int64"
      ]
     },
     "execution_count": 9,
     "metadata": {},
     "output_type": "execute_result"
    }
   ],
   "source": [
    "df.isna().sum()"
   ]
  },
  {
   "cell_type": "code",
   "execution_count": 10,
   "id": "7f5db693",
   "metadata": {},
   "outputs": [],
   "source": [
    "# Compute remaining active power\n",
    "df['sub_metering_remaining'] = (df.Global_active_power * 1000  / 60 ) - (df.Sub_metering_1 + df.Sub_metering_2 + df.Sub_metering_3)"
   ]
  },
  {
   "cell_type": "code",
   "execution_count": 11,
   "id": "7304df35",
   "metadata": {},
   "outputs": [
    {
     "data": {
      "text/html": [
       "<div>\n",
       "<style scoped>\n",
       "    .dataframe tbody tr th:only-of-type {\n",
       "        vertical-align: middle;\n",
       "    }\n",
       "\n",
       "    .dataframe tbody tr th {\n",
       "        vertical-align: top;\n",
       "    }\n",
       "\n",
       "    .dataframe thead th {\n",
       "        text-align: right;\n",
       "    }\n",
       "</style>\n",
       "<table border=\"1\" class=\"dataframe\">\n",
       "  <thead>\n",
       "    <tr style=\"text-align: right;\">\n",
       "      <th></th>\n",
       "      <th>Global_active_power</th>\n",
       "      <th>Global_reactive_power</th>\n",
       "      <th>Voltage</th>\n",
       "      <th>Global_intensity</th>\n",
       "      <th>Sub_metering_1</th>\n",
       "      <th>Sub_metering_2</th>\n",
       "      <th>Sub_metering_3</th>\n",
       "      <th>sub_metering_remaining</th>\n",
       "    </tr>\n",
       "  </thead>\n",
       "  <tbody>\n",
       "    <tr>\n",
       "      <th>count</th>\n",
       "      <td>2.075259e+06</td>\n",
       "      <td>2.075259e+06</td>\n",
       "      <td>2.075259e+06</td>\n",
       "      <td>2.075259e+06</td>\n",
       "      <td>2.075259e+06</td>\n",
       "      <td>2.075259e+06</td>\n",
       "      <td>2.075259e+06</td>\n",
       "      <td>2.075259e+06</td>\n",
       "    </tr>\n",
       "    <tr>\n",
       "      <th>mean</th>\n",
       "      <td>1.089418e+00</td>\n",
       "      <td>1.236871e-01</td>\n",
       "      <td>2.408364e+02</td>\n",
       "      <td>4.618401e+00</td>\n",
       "      <td>1.118474e+00</td>\n",
       "      <td>1.291131e+00</td>\n",
       "      <td>6.448635e+00</td>\n",
       "      <td>9.298722e+00</td>\n",
       "    </tr>\n",
       "    <tr>\n",
       "      <th>std</th>\n",
       "      <td>1.054678e+00</td>\n",
       "      <td>1.125933e-01</td>\n",
       "      <td>3.240051e+00</td>\n",
       "      <td>4.433165e+00</td>\n",
       "      <td>6.141460e+00</td>\n",
       "      <td>5.796922e+00</td>\n",
       "      <td>8.433584e+00</td>\n",
       "      <td>9.561278e+00</td>\n",
       "    </tr>\n",
       "    <tr>\n",
       "      <th>min</th>\n",
       "      <td>7.600000e-02</td>\n",
       "      <td>0.000000e+00</td>\n",
       "      <td>2.232000e+02</td>\n",
       "      <td>2.000000e-01</td>\n",
       "      <td>0.000000e+00</td>\n",
       "      <td>0.000000e+00</td>\n",
       "      <td>0.000000e+00</td>\n",
       "      <td>-2.400000e+00</td>\n",
       "    </tr>\n",
       "    <tr>\n",
       "      <th>25%</th>\n",
       "      <td>3.080000e-01</td>\n",
       "      <td>4.800000e-02</td>\n",
       "      <td>2.389900e+02</td>\n",
       "      <td>1.400000e+00</td>\n",
       "      <td>0.000000e+00</td>\n",
       "      <td>0.000000e+00</td>\n",
       "      <td>0.000000e+00</td>\n",
       "      <td>3.800000e+00</td>\n",
       "    </tr>\n",
       "    <tr>\n",
       "      <th>50%</th>\n",
       "      <td>6.020000e-01</td>\n",
       "      <td>1.000000e-01</td>\n",
       "      <td>2.410000e+02</td>\n",
       "      <td>2.600000e+00</td>\n",
       "      <td>0.000000e+00</td>\n",
       "      <td>0.000000e+00</td>\n",
       "      <td>1.000000e+00</td>\n",
       "      <td>5.500000e+00</td>\n",
       "    </tr>\n",
       "    <tr>\n",
       "      <th>75%</th>\n",
       "      <td>1.526000e+00</td>\n",
       "      <td>1.940000e-01</td>\n",
       "      <td>2.428700e+02</td>\n",
       "      <td>6.400000e+00</td>\n",
       "      <td>0.000000e+00</td>\n",
       "      <td>1.000000e+00</td>\n",
       "      <td>1.700000e+01</td>\n",
       "      <td>1.036667e+01</td>\n",
       "    </tr>\n",
       "    <tr>\n",
       "      <th>max</th>\n",
       "      <td>1.112200e+01</td>\n",
       "      <td>1.390000e+00</td>\n",
       "      <td>2.541500e+02</td>\n",
       "      <td>4.840000e+01</td>\n",
       "      <td>8.800000e+01</td>\n",
       "      <td>8.000000e+01</td>\n",
       "      <td>3.100000e+01</td>\n",
       "      <td>1.248333e+02</td>\n",
       "    </tr>\n",
       "  </tbody>\n",
       "</table>\n",
       "</div>"
      ],
      "text/plain": [
       "       Global_active_power  Global_reactive_power       Voltage  \\\n",
       "count         2.075259e+06           2.075259e+06  2.075259e+06   \n",
       "mean          1.089418e+00           1.236871e-01  2.408364e+02   \n",
       "std           1.054678e+00           1.125933e-01  3.240051e+00   \n",
       "min           7.600000e-02           0.000000e+00  2.232000e+02   \n",
       "25%           3.080000e-01           4.800000e-02  2.389900e+02   \n",
       "50%           6.020000e-01           1.000000e-01  2.410000e+02   \n",
       "75%           1.526000e+00           1.940000e-01  2.428700e+02   \n",
       "max           1.112200e+01           1.390000e+00  2.541500e+02   \n",
       "\n",
       "       Global_intensity  Sub_metering_1  Sub_metering_2  Sub_metering_3  \\\n",
       "count      2.075259e+06    2.075259e+06    2.075259e+06    2.075259e+06   \n",
       "mean       4.618401e+00    1.118474e+00    1.291131e+00    6.448635e+00   \n",
       "std        4.433165e+00    6.141460e+00    5.796922e+00    8.433584e+00   \n",
       "min        2.000000e-01    0.000000e+00    0.000000e+00    0.000000e+00   \n",
       "25%        1.400000e+00    0.000000e+00    0.000000e+00    0.000000e+00   \n",
       "50%        2.600000e+00    0.000000e+00    0.000000e+00    1.000000e+00   \n",
       "75%        6.400000e+00    0.000000e+00    1.000000e+00    1.700000e+01   \n",
       "max        4.840000e+01    8.800000e+01    8.000000e+01    3.100000e+01   \n",
       "\n",
       "       sub_metering_remaining  \n",
       "count            2.075259e+06  \n",
       "mean             9.298722e+00  \n",
       "std              9.561278e+00  \n",
       "min             -2.400000e+00  \n",
       "25%              3.800000e+00  \n",
       "50%              5.500000e+00  \n",
       "75%              1.036667e+01  \n",
       "max              1.248333e+02  "
      ]
     },
     "execution_count": 11,
     "metadata": {},
     "output_type": "execute_result"
    }
   ],
   "source": [
    "# descriptive statistics\n",
    "df.describe()"
   ]
  },
  {
   "cell_type": "code",
   "execution_count": 12,
   "id": "99d0d0f4",
   "metadata": {},
   "outputs": [
    {
     "data": {
      "text/plain": [
       "(1442, 8)"
      ]
     },
     "execution_count": 12,
     "metadata": {},
     "output_type": "execute_result"
    }
   ],
   "source": [
    "# resample the data on daily basis\n",
    "df = df.resample('D').mean()\n",
    "df.shape"
   ]
  },
  {
   "cell_type": "code",
   "execution_count": 13,
   "id": "6bc25dc1",
   "metadata": {},
   "outputs": [],
   "source": [
    "def train_test_split(df):\n",
    "    \n",
    "    # compute split point\n",
    "    end_idx = df.shape[0]* 70 // 100\n",
    "    \n",
    "    train_data = df.iloc[:end_idx, : ]\n",
    "    test_data = df.iloc[end_idx:, :]\n",
    "    \n",
    "    return train_data, test_data"
   ]
  },
  {
   "cell_type": "code",
   "execution_count": 14,
   "id": "6c2f9b38",
   "metadata": {},
   "outputs": [],
   "source": [
    "# Split the data into train and test\n",
    "X_train, X_test = train_test_split(df)"
   ]
  },
  {
   "cell_type": "code",
   "execution_count": 15,
   "id": "3b20db88",
   "metadata": {},
   "outputs": [],
   "source": [
    "from sklearn.preprocessing import MinMaxScaler\n",
    "def scale_data(train, test):\n",
    "    scaler = MinMaxScaler().fit(train)\n",
    "    return scaler.transform(train), scaler.transform(test), scaler"
   ]
  },
  {
   "cell_type": "code",
   "execution_count": 16,
   "id": "f1d80e77",
   "metadata": {},
   "outputs": [],
   "source": [
    "# Scale the data\n",
    "X_train, X_test, scaler = scale_data(X_train, X_test)"
   ]
  },
  {
   "cell_type": "code",
   "execution_count": 17,
   "id": "d18178a5",
   "metadata": {},
   "outputs": [
    {
     "name": "stdout",
     "output_type": "stream",
     "text": [
      "Shape of (training data) input features : (1008, 1, 7) and ouput feature (1008,)\n"
     ]
    }
   ],
   "source": [
    "# Split the training data into input features and out feature\n",
    "X_train, Y_train = pr.convert_UNI_to_supervised(X_train)\n",
    "print('Shape of (training data) input features : %s and ouput feature %s' % (X_train.shape, Y_train.shape))"
   ]
  },
  {
   "cell_type": "code",
   "execution_count": 18,
   "id": "415df301",
   "metadata": {},
   "outputs": [
    {
     "name": "stdout",
     "output_type": "stream",
     "text": [
      "Shape of (testing data) input features : (432, 1, 7) and ouput feature (432,)\n"
     ]
    }
   ],
   "source": [
    "# Split the testing data into input features and out feature\n",
    "X_test, Y_test = pr.convert_UNI_to_supervised(X_test)\n",
    "print('Shape of (testing data) input features : %s and ouput feature %s' % (X_test.shape, Y_test.shape))"
   ]
  },
  {
   "cell_type": "code",
   "execution_count": 19,
   "id": "9877501c",
   "metadata": {},
   "outputs": [],
   "source": [
    "callback = tf.keras.callbacks.EarlyStopping(monitor='loss', patience=5)"
   ]
  },
  {
   "cell_type": "code",
   "execution_count": 30,
   "id": "49fd7fa0",
   "metadata": {},
   "outputs": [
    {
     "name": "stdout",
     "output_type": "stream",
     "text": [
      "Epoch 1/100\n",
      "9/9 [==============================] - 3s 70ms/step - loss: 0.0744 - val_loss: 0.0087\n",
      "Epoch 2/100\n",
      "9/9 [==============================] - 0s 31ms/step - loss: 0.0259 - val_loss: 0.0116\n",
      "Epoch 3/100\n",
      "9/9 [==============================] - 0s 30ms/step - loss: 0.0218 - val_loss: 0.0073\n",
      "Epoch 4/100\n",
      "9/9 [==============================] - 0s 31ms/step - loss: 0.0197 - val_loss: 0.0060\n",
      "Epoch 5/100\n",
      "9/9 [==============================] - 0s 34ms/step - loss: 0.0181 - val_loss: 0.0072\n",
      "Epoch 6/100\n",
      "9/9 [==============================] - 0s 32ms/step - loss: 0.0211 - val_loss: 0.0056\n",
      "Epoch 7/100\n",
      "9/9 [==============================] - 0s 32ms/step - loss: 0.0203 - val_loss: 0.0055\n",
      "Epoch 8/100\n",
      "9/9 [==============================] - 0s 34ms/step - loss: 0.0195 - val_loss: 0.0074\n",
      "Epoch 9/100\n",
      "9/9 [==============================] - 0s 31ms/step - loss: 0.0183 - val_loss: 0.0077\n",
      "Epoch 10/100\n",
      "9/9 [==============================] - 0s 32ms/step - loss: 0.0188 - val_loss: 0.0064\n"
     ]
    }
   ],
   "source": [
    "n_steps, n_features, n_outputs = X_train.shape[1], X_train.shape[2], 1\n",
    "model=mo.TCN_Model().getModel(n_steps,n_features,1)\n",
    "model.compile(optimizer='adam', loss ='mse')\n",
    "history = model.fit(X_train , Y_train, epochs=100, batch_size=100, verbose= 1,validation_split=0.2,callbacks=callback)"
   ]
  },
  {
   "cell_type": "code",
   "execution_count": 31,
   "id": "d25a6195",
   "metadata": {},
   "outputs": [
    {
     "name": "stdout",
     "output_type": "stream",
     "text": [
      "32/32 [==============================] - 0s 5ms/step - loss: 0.0122\n",
      "evaluation : 0.012 \n",
      "14/14 [==============================] - 0s 5ms/step - loss: 0.0068\n",
      "evaluation : 0.007 \n"
     ]
    }
   ],
   "source": [
    "mo.evaluate(model,X_train, Y_train)\n",
    "mo.evaluate(model,X_test, Y_test)"
   ]
  },
  {
   "cell_type": "code",
   "execution_count": 32,
   "id": "4f5b8ea7",
   "metadata": {},
   "outputs": [
    {
     "name": "stdout",
     "output_type": "stream",
     "text": [
      "32/32 [==============================] - 0s 5ms/step\n",
      "14/14 [==============================] - 0s 5ms/step\n"
     ]
    }
   ],
   "source": [
    "y_pred_train = model.predict(X_train)\n",
    "y_pred_test  = model.predict(X_test) "
   ]
  },
  {
   "cell_type": "code",
   "execution_count": 33,
   "id": "0f92d37e",
   "metadata": {},
   "outputs": [
    {
     "name": "stdout",
     "output_type": "stream",
     "text": [
      "Train RMSE value   : 0.110 \n",
      "Train MSE value    : 0.012 \n",
      "Train R2 value     : 0.396 \n",
      "Train MAPE value   : 607131895321.653 \n",
      "Train RMLSE value  : 0.007 \n",
      "Train MAE value    : 0.085 \n",
      "---------------------------------------------\n",
      "Test RMSE value   : 0.082 \n",
      "Test MSE value   : 0.007 \n",
      "Test R2 value   : 0.382 \n",
      "Test MAPE value  : 0.304 \n",
      "Test RMLSE value  : 0.004 \n",
      "Test MAE value : 0.065 \n"
     ]
    }
   ],
   "source": [
    "mo.print_metrics(model,Y_train,y_pred_train,Y_test,y_pred_test)"
   ]
  },
  {
   "cell_type": "code",
   "execution_count": 34,
   "id": "d4b45d75",
   "metadata": {},
   "outputs": [
    {
     "data": {
      "image/png": "[encoded data removed]",
      "text/plain": [
       "<Figure size 640x480 with 1 Axes>"
      ]
     },
     "metadata": {},
     "output_type": "display_data"
    }
   ],
   "source": [
    "import matplotlib.pyplot as plt \n",
    "# Plot of loss vs epoch for train and test dataset\n",
    "plt.plot(history.history['loss'])\n",
    "plt.plot(history.history['val_loss'])\n",
    "plt.title(\"Plot of loss vs epoch for train and test dataset\")\n",
    "plt.ylabel('loss')\n",
    "plt.xlabel('epoch')\n",
    "plt.legend(['train', 'test'], loc='upper right')\n",
    "plt.show()"
   ]
  },
  {
   "cell_type": "code",
   "execution_count": 35,
   "id": "665be87c",
   "metadata": {},
   "outputs": [],
   "source": [
    "# Split the data into train and test\n",
    "X_train, X_test = train_test_split(df)"
   ]
  },
  {
   "cell_type": "code",
   "execution_count": 36,
   "id": "252d087f",
   "metadata": {},
   "outputs": [],
   "source": [
    "# Scale the data\n",
    "X_train, X_test, scaler = scale_data(X_train, X_test)"
   ]
  },
  {
   "cell_type": "code",
   "execution_count": 37,
   "id": "46214c8a",
   "metadata": {},
   "outputs": [
    {
     "name": "stdout",
     "output_type": "stream",
     "text": [
      "Shape of (training data) input features : (982, 21, 7) and ouput feature (982, 7)\n"
     ]
    }
   ],
   "source": [
    "# Split the training data into input features and out feature\n",
    "X_train, Y_train = pr.convert_Multi_to_supervised(X_train)\n",
    "print('Shape of (training data) input features : %s and ouput feature %s' % (X_train.shape, Y_train.shape))"
   ]
  },
  {
   "cell_type": "code",
   "execution_count": 38,
   "id": "ceaadbe7",
   "metadata": {},
   "outputs": [
    {
     "name": "stdout",
     "output_type": "stream",
     "text": [
      "Shape of (testing data) input features : (406, 21, 7) and ouput feature (406, 7)\n"
     ]
    }
   ],
   "source": [
    "X_test, Y_test = pr.convert_Multi_to_supervised(X_test)\n",
    "print('Shape of (testing data) input features : %s and ouput feature %s' % (X_test.shape, Y_test.shape))"
   ]
  },
  {
   "cell_type": "code",
   "execution_count": 40,
   "id": "a4530a32",
   "metadata": {},
   "outputs": [
    {
     "name": "stdout",
     "output_type": "stream",
     "text": [
      "Epoch 1/200\n",
      "7/7 [==============================] - 3s 191ms/step - loss: 0.1429 - val_loss: 0.0112\n",
      "Epoch 2/200\n",
      "7/7 [==============================] - 1s 137ms/step - loss: 0.0366 - val_loss: 0.0082\n",
      "Epoch 3/200\n",
      "7/7 [==============================] - 1s 142ms/step - loss: 0.0308 - val_loss: 0.0096\n",
      "Epoch 4/200\n",
      "7/7 [==============================] - 1s 138ms/step - loss: 0.0275 - val_loss: 0.0082\n",
      "Epoch 5/200\n",
      "7/7 [==============================] - 1s 142ms/step - loss: 0.0266 - val_loss: 0.0087\n",
      "Epoch 6/200\n",
      "7/7 [==============================] - 1s 138ms/step - loss: 0.0244 - val_loss: 0.0082\n",
      "Epoch 7/200\n",
      "7/7 [==============================] - 1s 142ms/step - loss: 0.0246 - val_loss: 0.0083\n",
      "Epoch 8/200\n",
      "7/7 [==============================] - 1s 141ms/step - loss: 0.0234 - val_loss: 0.0084\n",
      "Epoch 9/200\n",
      "7/7 [==============================] - 1s 142ms/step - loss: 0.0235 - val_loss: 0.0082\n",
      "Epoch 10/200\n",
      "7/7 [==============================] - 1s 142ms/step - loss: 0.0231 - val_loss: 0.0064\n",
      "Epoch 11/200\n",
      "7/7 [==============================] - 1s 143ms/step - loss: 0.0229 - val_loss: 0.0067\n",
      "Epoch 12/200\n",
      "7/7 [==============================] - 1s 144ms/step - loss: 0.0219 - val_loss: 0.0059\n",
      "Epoch 13/200\n",
      "7/7 [==============================] - 1s 142ms/step - loss: 0.0223 - val_loss: 0.0062\n",
      "Epoch 14/200\n",
      "7/7 [==============================] - 1s 140ms/step - loss: 0.0210 - val_loss: 0.0059\n",
      "Epoch 15/200\n",
      "7/7 [==============================] - 1s 144ms/step - loss: 0.0214 - val_loss: 0.0066\n",
      "Epoch 16/200\n",
      "7/7 [==============================] - 1s 140ms/step - loss: 0.0237 - val_loss: 0.0113\n",
      "Epoch 17/200\n",
      "7/7 [==============================] - 1s 144ms/step - loss: 0.0218 - val_loss: 0.0079\n",
      "Epoch 18/200\n",
      "7/7 [==============================] - 1s 142ms/step - loss: 0.0204 - val_loss: 0.0059\n",
      "Epoch 19/200\n",
      "7/7 [==============================] - 1s 141ms/step - loss: 0.0203 - val_loss: 0.0055\n",
      "Epoch 20/200\n",
      "7/7 [==============================] - 1s 141ms/step - loss: 0.0200 - val_loss: 0.0053\n",
      "Epoch 21/200\n",
      "7/7 [==============================] - 1s 143ms/step - loss: 0.0191 - val_loss: 0.0064\n",
      "Epoch 22/200\n",
      "7/7 [==============================] - 1s 142ms/step - loss: 0.0197 - val_loss: 0.0075\n",
      "Epoch 23/200\n",
      "7/7 [==============================] - 1s 143ms/step - loss: 0.0194 - val_loss: 0.0066\n",
      "Epoch 24/200\n",
      "7/7 [==============================] - 1s 142ms/step - loss: 0.0190 - val_loss: 0.0059\n",
      "Epoch 25/200\n",
      "7/7 [==============================] - 1s 142ms/step - loss: 0.0185 - val_loss: 0.0047\n",
      "Epoch 26/200\n",
      "7/7 [==============================] - 1s 143ms/step - loss: 0.0182 - val_loss: 0.0046\n",
      "Epoch 27/200\n",
      "7/7 [==============================] - 1s 143ms/step - loss: 0.0179 - val_loss: 0.0048\n",
      "Epoch 28/200\n",
      "7/7 [==============================] - 1s 143ms/step - loss: 0.0178 - val_loss: 0.0062\n",
      "Epoch 29/200\n",
      "7/7 [==============================] - 1s 145ms/step - loss: 0.0183 - val_loss: 0.0065\n",
      "Epoch 30/200\n",
      "7/7 [==============================] - 1s 142ms/step - loss: 0.0175 - val_loss: 0.0053\n",
      "Epoch 31/200\n",
      "7/7 [==============================] - 1s 142ms/step - loss: 0.0176 - val_loss: 0.0047\n",
      "Epoch 32/200\n",
      "7/7 [==============================] - 1s 145ms/step - loss: 0.0165 - val_loss: 0.0069\n",
      "Epoch 33/200\n",
      "7/7 [==============================] - 1s 144ms/step - loss: 0.0170 - val_loss: 0.0058\n",
      "Epoch 34/200\n",
      "7/7 [==============================] - 1s 146ms/step - loss: 0.0160 - val_loss: 0.0047\n",
      "Epoch 35/200\n",
      "7/7 [==============================] - 1s 168ms/step - loss: 0.0165 - val_loss: 0.0069\n",
      "Epoch 36/200\n",
      "7/7 [==============================] - 1s 149ms/step - loss: 0.0158 - val_loss: 0.0044\n",
      "Epoch 37/200\n",
      "7/7 [==============================] - 1s 145ms/step - loss: 0.0163 - val_loss: 0.0062\n",
      "Epoch 38/200\n",
      "7/7 [==============================] - 1s 149ms/step - loss: 0.0162 - val_loss: 0.0056\n",
      "Epoch 39/200\n",
      "7/7 [==============================] - 1s 143ms/step - loss: 0.0158 - val_loss: 0.0043\n",
      "Epoch 40/200\n",
      "7/7 [==============================] - 1s 147ms/step - loss: 0.0165 - val_loss: 0.0045\n",
      "Epoch 41/200\n",
      "7/7 [==============================] - 1s 143ms/step - loss: 0.0153 - val_loss: 0.0052\n",
      "Epoch 42/200\n",
      "7/7 [==============================] - 1s 147ms/step - loss: 0.0151 - val_loss: 0.0048\n",
      "Epoch 43/200\n",
      "7/7 [==============================] - 1s 144ms/step - loss: 0.0163 - val_loss: 0.0046\n",
      "Epoch 44/200\n",
      "7/7 [==============================] - 1s 146ms/step - loss: 0.0163 - val_loss: 0.0050\n",
      "Epoch 45/200\n",
      "7/7 [==============================] - 1s 143ms/step - loss: 0.0154 - val_loss: 0.0048\n",
      "Epoch 46/200\n",
      "7/7 [==============================] - 1s 146ms/step - loss: 0.0149 - val_loss: 0.0055\n",
      "Epoch 47/200\n",
      "7/7 [==============================] - 1s 144ms/step - loss: 0.0151 - val_loss: 0.0046\n",
      "Epoch 48/200\n",
      "7/7 [==============================] - 1s 145ms/step - loss: 0.0148 - val_loss: 0.0045\n",
      "Epoch 49/200\n",
      "7/7 [==============================] - 1s 145ms/step - loss: 0.0153 - val_loss: 0.0059\n",
      "Epoch 50/200\n",
      "7/7 [==============================] - 1s 145ms/step - loss: 0.0163 - val_loss: 0.0081\n",
      "Epoch 51/200\n",
      "7/7 [==============================] - 1s 145ms/step - loss: 0.0155 - val_loss: 0.0067\n",
      "Epoch 52/200\n",
      "7/7 [==============================] - 1s 146ms/step - loss: 0.0145 - val_loss: 0.0058\n",
      "Epoch 53/200\n",
      "7/7 [==============================] - 1s 146ms/step - loss: 0.0148 - val_loss: 0.0053\n",
      "Epoch 54/200\n",
      "7/7 [==============================] - 1s 144ms/step - loss: 0.0147 - val_loss: 0.0046\n",
      "Epoch 55/200\n",
      "7/7 [==============================] - 1s 141ms/step - loss: 0.0144 - val_loss: 0.0056\n",
      "Epoch 56/200\n",
      "7/7 [==============================] - 1s 144ms/step - loss: 0.0143 - val_loss: 0.0076\n",
      "Epoch 57/200\n",
      "7/7 [==============================] - 1s 143ms/step - loss: 0.0147 - val_loss: 0.0067\n",
      "Epoch 58/200\n",
      "7/7 [==============================] - 1s 143ms/step - loss: 0.0147 - val_loss: 0.0067\n",
      "Epoch 59/200\n",
      "7/7 [==============================] - 1s 144ms/step - loss: 0.0142 - val_loss: 0.0062\n",
      "Epoch 60/200\n",
      "7/7 [==============================] - 1s 144ms/step - loss: 0.0142 - val_loss: 0.0045\n",
      "Epoch 61/200\n",
      "7/7 [==============================] - 1s 144ms/step - loss: 0.0159 - val_loss: 0.0044\n",
      "Epoch 62/200\n",
      "7/7 [==============================] - 1s 142ms/step - loss: 0.0147 - val_loss: 0.0044\n",
      "Epoch 63/200\n",
      "7/7 [==============================] - 1s 143ms/step - loss: 0.0138 - val_loss: 0.0051\n",
      "Epoch 64/200\n",
      "7/7 [==============================] - 1s 143ms/step - loss: 0.0141 - val_loss: 0.0083\n",
      "Epoch 65/200\n",
      "7/7 [==============================] - 1s 144ms/step - loss: 0.0142 - val_loss: 0.0063\n",
      "Epoch 66/200\n",
      "7/7 [==============================] - 1s 144ms/step - loss: 0.0138 - val_loss: 0.0050\n",
      "Epoch 67/200\n",
      "7/7 [==============================] - 1s 142ms/step - loss: 0.0137 - val_loss: 0.0049\n",
      "Epoch 68/200\n",
      "7/7 [==============================] - 1s 143ms/step - loss: 0.0137 - val_loss: 0.0069\n",
      "Epoch 69/200\n",
      "7/7 [==============================] - 1s 144ms/step - loss: 0.0138 - val_loss: 0.0080\n",
      "Epoch 70/200\n",
      "7/7 [==============================] - 1s 143ms/step - loss: 0.0138 - val_loss: 0.0060\n",
      "Epoch 71/200\n",
      "7/7 [==============================] - 1s 144ms/step - loss: 0.0134 - val_loss: 0.0049\n",
      "Epoch 72/200\n",
      "7/7 [==============================] - 1s 142ms/step - loss: 0.0138 - val_loss: 0.0046\n",
      "Epoch 73/200\n",
      "7/7 [==============================] - 1s 146ms/step - loss: 0.0132 - val_loss: 0.0053\n",
      "Epoch 74/200\n",
      "7/7 [==============================] - 1s 154ms/step - loss: 0.0131 - val_loss: 0.0052\n",
      "Epoch 75/200\n",
      "7/7 [==============================] - 1s 165ms/step - loss: 0.0129 - val_loss: 0.0047\n",
      "Epoch 76/200\n",
      "7/7 [==============================] - 1s 159ms/step - loss: 0.0130 - val_loss: 0.0050\n",
      "Epoch 77/200\n",
      "7/7 [==============================] - 1s 158ms/step - loss: 0.0131 - val_loss: 0.0049\n",
      "Epoch 78/200\n",
      "7/7 [==============================] - 1s 150ms/step - loss: 0.0132 - val_loss: 0.0050\n",
      "Epoch 79/200\n",
      "7/7 [==============================] - 1s 155ms/step - loss: 0.0127 - val_loss: 0.0067\n",
      "Epoch 80/200\n",
      "7/7 [==============================] - 1s 151ms/step - loss: 0.0129 - val_loss: 0.0067\n",
      "Epoch 81/200\n",
      "7/7 [==============================] - 1s 145ms/step - loss: 0.0128 - val_loss: 0.0075\n",
      "Epoch 82/200\n",
      "7/7 [==============================] - 1s 144ms/step - loss: 0.0125 - val_loss: 0.0047\n",
      "Epoch 83/200\n"
     ]
    },
    {
     "name": "stdout",
     "output_type": "stream",
     "text": [
      "7/7 [==============================] - 1s 143ms/step - loss: 0.0127 - val_loss: 0.0059\n",
      "Epoch 84/200\n",
      "7/7 [==============================] - 1s 143ms/step - loss: 0.0126 - val_loss: 0.0061\n",
      "Epoch 85/200\n",
      "7/7 [==============================] - 1s 144ms/step - loss: 0.0126 - val_loss: 0.0077\n",
      "Epoch 86/200\n",
      "7/7 [==============================] - 1s 144ms/step - loss: 0.0128 - val_loss: 0.0087\n",
      "Epoch 87/200\n",
      "7/7 [==============================] - 1s 142ms/step - loss: 0.0130 - val_loss: 0.0069\n"
     ]
    }
   ],
   "source": [
    "n_steps, n_features, n_outputs = X_train.shape[1], X_train.shape[2], Y_train.shape[1]\n",
    "model=mo.TCN_Model().getModel(n_steps,n_features,n_outputs)\n",
    "model.compile(optimizer='adam', loss ='mse')\n",
    "history = model.fit(X_train , Y_train, epochs=200, batch_size=128, verbose= 1,validation_split=0.2,callbacks=callback)"
   ]
  },
  {
   "cell_type": "code",
   "execution_count": 47,
   "id": "a5ec8b3b",
   "metadata": {},
   "outputs": [
    {
     "name": "stdout",
     "output_type": "stream",
     "text": [
      "31/31 [==============================] - 0s 2ms/step - loss: 0.0091\n",
      "evaluation : 0.009 \n",
      "13/13 [==============================] - 0s 2ms/step - loss: 0.0083\n",
      "evaluation : 0.008 \n"
     ]
    }
   ],
   "source": [
    "mo.evaluate(model,X_train, Y_train)\n",
    "mo.evaluate(model,X_test, Y_test)"
   ]
  },
  {
   "cell_type": "code",
   "execution_count": 48,
   "id": "37989479",
   "metadata": {},
   "outputs": [
    {
     "name": "stdout",
     "output_type": "stream",
     "text": [
      "31/31 [==============================] - 0s 2ms/step\n",
      "13/13 [==============================] - 0s 2ms/step\n"
     ]
    }
   ],
   "source": [
    "y_pred_train = model.predict(X_train)\n",
    "y_pred_test  = model.predict(X_test) "
   ]
  },
  {
   "cell_type": "code",
   "execution_count": 49,
   "id": "533c58a0",
   "metadata": {},
   "outputs": [
    {
     "name": "stdout",
     "output_type": "stream",
     "text": [
      "Train RMSE value   : 0.095 \n",
      "Train MSE value    : 0.009 \n",
      "Train R2 value     : 0.517 \n",
      "Train MAPE value   : 234429386422.531 \n",
      "Train RMLSE value  : 0.005 \n",
      "Train MAE value    : 0.072 \n",
      "---------------------------------------------\n",
      "Test RMSE value   : 0.091 \n",
      "Test MSE value   : 0.008 \n",
      "Test R2 value   : 0.282 \n",
      "Test MAPE value  : 0.248 \n",
      "Test RMLSE value  : 0.005 \n",
      "Test MAE value : 0.069 \n"
     ]
    }
   ],
   "source": [
    "mo.print_metrics(model,Y_train,y_pred_train,Y_test,y_pred_test)"
   ]
  },
  {
   "cell_type": "code",
   "execution_count": 50,
   "id": "37580fe0",
   "metadata": {},
   "outputs": [
    {
     "data": {
      "image/png": "[encoded data removed]",
      "text/plain": [
       "<Figure size 640x480 with 1 Axes>"
      ]
     },
     "metadata": {},
     "output_type": "display_data"
    }
   ],
   "source": [
    "# Plot of loss vs epoch for train and test dataset\n",
    "plt.plot(history.history['loss'])\n",
    "plt.plot(history.history['val_loss'])\n",
    "plt.title(\"Plot of loss vs epoch for train and test dataset\")\n",
    "plt.ylabel('loss')\n",
    "plt.xlabel('epoch')\n",
    "plt.legend(['train', 'test'], loc='upper right')\n",
    "plt.show()"
   ]
  }
 ],
 "metadata": {
  "kernelspec": {
   "display_name": "Python 3 (ipykernel)",
   "language": "python",
   "name": "python3"
  },
  "language_info": {
   "codemirror_mode": {
    "name": "ipython",
    "version": 3
   },
   "file_extension": ".py",
   "mimetype": "text/x-python",
   "name": "python",
   "nbconvert_exporter": "python",
   "pygments_lexer": "ipython3",
   "version": "3.9.7"
  }
 },
 "nbformat": 4,
 "nbformat_minor": 5
}
