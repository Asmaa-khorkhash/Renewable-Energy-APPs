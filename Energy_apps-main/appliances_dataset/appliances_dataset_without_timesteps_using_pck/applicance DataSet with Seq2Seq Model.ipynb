{
 "cells": [
  {
   "cell_type": "code",
   "execution_count": 1,
   "id": "a05d07e3",
   "metadata": {},
   "outputs": [],
   "source": [
    "import pandas as pd\n",
    "import tensorflow as tf\n",
    "import matplotlib.pyplot as plt\n",
    "from sklearn.preprocessing import MinMaxScaler\n",
    "from sklearn.model_selection import train_test_split\n",
    "import numpy as np\n",
    "from Energy_Models.Seq2Seq import Seq2Seq "
   ]
  },
  {
   "cell_type": "code",
   "execution_count": 2,
   "id": "82061bb7",
   "metadata": {},
   "outputs": [],
   "source": [
    "df = pd.read_csv(\"C:\\\\Users\\\\delll\\\\Downloads\\\\energydata_complete.csv\",index_col=\"date\")"
   ]
  },
  {
   "cell_type": "code",
   "execution_count": 3,
   "id": "12ed67c0",
   "metadata": {},
   "outputs": [],
   "source": [
    "scaler = MinMaxScaler().fit(df)\n",
    "df    = pd.DataFrame(scaler.transform(df))\n",
    "\n",
    "X = df.iloc[:,1:]\n",
    "y = df.iloc[:,0]"
   ]
  },
  {
   "cell_type": "code",
   "execution_count": 4,
   "id": "7b5f1c4e",
   "metadata": {},
   "outputs": [],
   "source": [
    "from sklearn.model_selection import train_test_split\n",
    "X_train ,X_test ,y_train ,y_test=train_test_split(X ,y ,test_size=0.30,random_state=35)\n",
    "X_val, X_test, y_val, y_test = train_test_split(X_test, y_test, test_size=0.50, random_state=42)\n",
    "X_train = np.array(X_train)\n",
    "X_test  = np.array(X_test)"
   ]
  },
  {
   "cell_type": "code",
   "execution_count": 5,
   "id": "a691cd55",
   "metadata": {},
   "outputs": [
    {
     "data": {
      "text/plain": [
       "((13814, 27), (2961, 27), (13814,), (2961,))"
      ]
     },
     "execution_count": 5,
     "metadata": {},
     "output_type": "execute_result"
    }
   ],
   "source": [
    "X_train.shape ,X_test.shape ,y_train.shape ,y_test.shape"
   ]
  },
  {
   "cell_type": "code",
   "execution_count": 6,
   "id": "d914a96e",
   "metadata": {},
   "outputs": [],
   "source": [
    "X_val = np.array(X_val)"
   ]
  },
  {
   "cell_type": "code",
   "execution_count": 7,
   "id": "a2b9db72",
   "metadata": {},
   "outputs": [],
   "source": [
    "X_train = X_train.reshape(X_train.shape[0], 1, X_train.shape[1])\n",
    "X_test  = X_test.reshape(X_test.shape[0], 1, X_test.shape[1])\n",
    "\n",
    "X_val = X_val.reshape(X_val.shape[0],1,X_val.shape[1])"
   ]
  },
  {
   "cell_type": "code",
   "execution_count": 8,
   "id": "c8b50bb0",
   "metadata": {},
   "outputs": [
    {
     "data": {
      "text/plain": [
       "((13814, 1, 27), (2961, 1, 27))"
      ]
     },
     "execution_count": 8,
     "metadata": {},
     "output_type": "execute_result"
    }
   ],
   "source": [
    "X_train.shape ,X_test.shape "
   ]
  },
  {
   "cell_type": "code",
   "execution_count": 9,
   "id": "d29ad62f",
   "metadata": {},
   "outputs": [],
   "source": [
    "callback = tf.keras.callbacks.EarlyStopping(monitor='loss', patience=10)\n",
    "model = Seq2Seq(1,27,1).getModel()"
   ]
  },
  {
   "cell_type": "code",
   "execution_count": 10,
   "id": "e2afa038",
   "metadata": {},
   "outputs": [
    {
     "name": "stdout",
     "output_type": "stream",
     "text": [
      "Model: \"model\"\n",
      "__________________________________________________________________________________________________\n",
      " Layer (type)                   Output Shape         Param #     Connected to                     \n",
      "==================================================================================================\n",
      " input_1 (InputLayer)           [(None, 1, 27)]      0           []                               \n",
      "                                                                                                  \n",
      " tf.compat.v1.shape (TFOpLambda  (3,)                0           ['input_1[0][0]']                \n",
      " )                                                                                                \n",
      "                                                                                                  \n",
      " tf.__operators__.getitem (Slic  ()                  0           ['tf.compat.v1.shape[0][0]']     \n",
      " ingOpLambda)                                                                                     \n",
      "                                                                                                  \n",
      " tf.tile (TFOpLambda)           (None, 1, 1)         0           ['tf.__operators__.getitem[0][0]'\n",
      "                                                                 ]                                \n",
      "                                                                                                  \n",
      " tf.cast (TFOpLambda)           (None, 1, 1)         0           ['tf.tile[0][0]']                \n",
      "                                                                                                  \n",
      " tf.__operators__.getitem_1 (Sl  (None, 1)           0           ['input_1[0][0]']                \n",
      " icingOpLambda)                                                                                   \n",
      "                                                                                                  \n",
      " encoder_1 (Encoder)            ((None, 1, 64),      22016       ['input_1[0][0]']                \n",
      "                                 (None, 64))                                                      \n",
      "                                                                                                  \n",
      " decoder1_1 (Decoder1)          (None, 1, 1)         13121       ['tf.cast[0][0]',                \n",
      "                                                                  'tf.__operators__.getitem_1[0][0\n",
      "                                                                 ]',                              \n",
      "                                                                  'encoder_1[0][0]',              \n",
      "                                                                  'encoder_1[0][1]']              \n",
      "                                                                                                  \n",
      " flatten_1 (Flatten)            (None, 1)            0           ['decoder1_1[0][0]']             \n",
      "                                                                                                  \n",
      " dense_3 (Dense)                (None, 1)            2           ['flatten_1[0][0]']              \n",
      "                                                                                                  \n",
      "==================================================================================================\n",
      "Total params: 35,139\n",
      "Trainable params: 35,139\n",
      "Non-trainable params: 0\n",
      "__________________________________________________________________________________________________\n"
     ]
    }
   ],
   "source": [
    "model.summary()"
   ]
  },
  {
   "cell_type": "code",
   "execution_count": 11,
   "id": "3a50521a",
   "metadata": {
    "scrolled": true
   },
   "outputs": [
    {
     "name": "stdout",
     "output_type": "stream",
     "text": [
      "Epoch 1/100\n",
      "173/173 [==============================] - 9s 18ms/step - loss: 0.0096 - val_loss: 0.0082\n",
      "Epoch 2/100\n",
      "173/173 [==============================] - 2s 9ms/step - loss: 0.0086 - val_loss: 0.0081\n",
      "Epoch 3/100\n",
      "173/173 [==============================] - 2s 10ms/step - loss: 0.0083 - val_loss: 0.0079\n",
      "Epoch 4/100\n",
      "173/173 [==============================] - 1s 8ms/step - loss: 0.0082 - val_loss: 0.0094\n",
      "Epoch 5/100\n",
      "173/173 [==============================] - 2s 10ms/step - loss: 0.0082 - val_loss: 0.0078\n",
      "Epoch 6/100\n",
      "173/173 [==============================] - 1s 8ms/step - loss: 0.0081 - val_loss: 0.0078\n",
      "Epoch 7/100\n",
      "173/173 [==============================] - 2s 9ms/step - loss: 0.0080 - val_loss: 0.0077\n",
      "Epoch 8/100\n",
      "173/173 [==============================] - 2s 9ms/step - loss: 0.0079 - val_loss: 0.0076\n",
      "Epoch 9/100\n",
      "173/173 [==============================] - 2s 9ms/step - loss: 0.0078 - val_loss: 0.0081\n",
      "Epoch 10/100\n",
      "173/173 [==============================] - 1s 8ms/step - loss: 0.0078 - val_loss: 0.0077\n",
      "Epoch 11/100\n",
      "173/173 [==============================] - 1s 8ms/step - loss: 0.0078 - val_loss: 0.0079\n",
      "Epoch 12/100\n",
      "173/173 [==============================] - 1s 8ms/step - loss: 0.0078 - val_loss: 0.0078\n",
      "Epoch 13/100\n",
      "173/173 [==============================] - 1s 8ms/step - loss: 0.0077 - val_loss: 0.0082\n",
      "Epoch 14/100\n",
      "173/173 [==============================] - 2s 10ms/step - loss: 0.0077 - val_loss: 0.0077\n",
      "Epoch 15/100\n",
      "173/173 [==============================] - 1s 8ms/step - loss: 0.0077 - val_loss: 0.0076\n",
      "Epoch 16/100\n",
      "173/173 [==============================] - 1s 8ms/step - loss: 0.0076 - val_loss: 0.0088\n",
      "Epoch 17/100\n",
      "173/173 [==============================] - 1s 8ms/step - loss: 0.0076 - val_loss: 0.0078\n",
      "Epoch 18/100\n",
      "173/173 [==============================] - 1s 8ms/step - loss: 0.0076 - val_loss: 0.0075\n",
      "Epoch 19/100\n",
      "173/173 [==============================] - 1s 8ms/step - loss: 0.0075 - val_loss: 0.0076\n",
      "Epoch 20/100\n",
      "173/173 [==============================] - 1s 8ms/step - loss: 0.0075 - val_loss: 0.0076\n",
      "Epoch 21/100\n",
      "173/173 [==============================] - 1s 9ms/step - loss: 0.0076 - val_loss: 0.0075\n",
      "Epoch 22/100\n",
      "173/173 [==============================] - 1s 8ms/step - loss: 0.0075 - val_loss: 0.0075\n",
      "Epoch 23/100\n",
      "173/173 [==============================] - 1s 8ms/step - loss: 0.0075 - val_loss: 0.0080\n",
      "Epoch 24/100\n",
      "173/173 [==============================] - 1s 8ms/step - loss: 0.0075 - val_loss: 0.0074\n",
      "Epoch 25/100\n",
      "173/173 [==============================] - 2s 9ms/step - loss: 0.0075 - val_loss: 0.0075\n",
      "Epoch 26/100\n",
      "173/173 [==============================] - 1s 8ms/step - loss: 0.0075 - val_loss: 0.0074\n",
      "Epoch 27/100\n",
      "173/173 [==============================] - 1s 8ms/step - loss: 0.0074 - val_loss: 0.0077\n",
      "Epoch 28/100\n",
      "173/173 [==============================] - 1s 8ms/step - loss: 0.0074 - val_loss: 0.0077\n",
      "Epoch 29/100\n",
      "173/173 [==============================] - 1s 8ms/step - loss: 0.0074 - val_loss: 0.0075\n",
      "Epoch 30/100\n",
      "173/173 [==============================] - 1s 8ms/step - loss: 0.0074 - val_loss: 0.0077\n",
      "Epoch 31/100\n",
      "173/173 [==============================] - 2s 9ms/step - loss: 0.0074 - val_loss: 0.0074\n",
      "Epoch 32/100\n",
      "173/173 [==============================] - 2s 9ms/step - loss: 0.0074 - val_loss: 0.0074\n",
      "Epoch 33/100\n",
      "173/173 [==============================] - 1s 8ms/step - loss: 0.0074 - val_loss: 0.0076\n",
      "Epoch 34/100\n",
      "173/173 [==============================] - 1s 8ms/step - loss: 0.0073 - val_loss: 0.0074\n",
      "Epoch 35/100\n",
      "173/173 [==============================] - 1s 8ms/step - loss: 0.0073 - val_loss: 0.0077\n",
      "Epoch 36/100\n",
      "173/173 [==============================] - 1s 8ms/step - loss: 0.0073 - val_loss: 0.0072\n",
      "Epoch 37/100\n",
      "173/173 [==============================] - 1s 8ms/step - loss: 0.0072 - val_loss: 0.0074\n",
      "Epoch 38/100\n",
      "173/173 [==============================] - 1s 8ms/step - loss: 0.0072 - val_loss: 0.0073\n",
      "Epoch 39/100\n",
      "173/173 [==============================] - 2s 9ms/step - loss: 0.0071 - val_loss: 0.0073\n",
      "Epoch 40/100\n",
      "173/173 [==============================] - 1s 8ms/step - loss: 0.0072 - val_loss: 0.0075\n",
      "Epoch 41/100\n",
      "173/173 [==============================] - 1s 8ms/step - loss: 0.0072 - val_loss: 0.0074\n",
      "Epoch 42/100\n",
      "173/173 [==============================] - 2s 9ms/step - loss: 0.0072 - val_loss: 0.0073\n",
      "Epoch 43/100\n",
      "173/173 [==============================] - 2s 9ms/step - loss: 0.0072 - val_loss: 0.0074\n",
      "Epoch 44/100\n",
      "173/173 [==============================] - 2s 11ms/step - loss: 0.0072 - val_loss: 0.0075\n",
      "Epoch 45/100\n",
      "173/173 [==============================] - 2s 10ms/step - loss: 0.0072 - val_loss: 0.0073\n",
      "Epoch 46/100\n",
      "173/173 [==============================] - 2s 11ms/step - loss: 0.0072 - val_loss: 0.0074\n",
      "Epoch 47/100\n",
      "173/173 [==============================] - 2s 11ms/step - loss: 0.0071 - val_loss: 0.0072\n",
      "Epoch 48/100\n",
      "173/173 [==============================] - 2s 10ms/step - loss: 0.0071 - val_loss: 0.0075\n",
      "Epoch 49/100\n",
      "173/173 [==============================] - 1s 8ms/step - loss: 0.0070 - val_loss: 0.0075\n",
      "Epoch 50/100\n",
      "173/173 [==============================] - 1s 8ms/step - loss: 0.0072 - val_loss: 0.0073\n",
      "Epoch 51/100\n",
      "173/173 [==============================] - 1s 8ms/step - loss: 0.0071 - val_loss: 0.0072\n",
      "Epoch 52/100\n",
      "173/173 [==============================] - 1s 8ms/step - loss: 0.0070 - val_loss: 0.0075\n",
      "Epoch 53/100\n",
      "173/173 [==============================] - 1s 8ms/step - loss: 0.0070 - val_loss: 0.0072\n",
      "Epoch 54/100\n",
      "173/173 [==============================] - 1s 8ms/step - loss: 0.0070 - val_loss: 0.0073\n",
      "Epoch 55/100\n",
      "173/173 [==============================] - 1s 8ms/step - loss: 0.0070 - val_loss: 0.0075\n",
      "Epoch 56/100\n",
      "173/173 [==============================] - 1s 8ms/step - loss: 0.0070 - val_loss: 0.0072\n",
      "Epoch 57/100\n",
      "173/173 [==============================] - 1s 8ms/step - loss: 0.0070 - val_loss: 0.0076\n",
      "Epoch 58/100\n",
      "173/173 [==============================] - 1s 8ms/step - loss: 0.0069 - val_loss: 0.0076\n",
      "Epoch 59/100\n",
      "173/173 [==============================] - 1s 8ms/step - loss: 0.0070 - val_loss: 0.0074\n",
      "Epoch 60/100\n",
      "173/173 [==============================] - 1s 8ms/step - loss: 0.0070 - val_loss: 0.0071\n",
      "Epoch 61/100\n",
      "173/173 [==============================] - 1s 8ms/step - loss: 0.0069 - val_loss: 0.0072\n",
      "Epoch 62/100\n",
      "173/173 [==============================] - 1s 8ms/step - loss: 0.0070 - val_loss: 0.0073\n",
      "Epoch 63/100\n",
      "173/173 [==============================] - 1s 8ms/step - loss: 0.0069 - val_loss: 0.0072\n",
      "Epoch 64/100\n",
      "173/173 [==============================] - 1s 8ms/step - loss: 0.0069 - val_loss: 0.0075\n",
      "Epoch 65/100\n",
      "173/173 [==============================] - 1s 8ms/step - loss: 0.0070 - val_loss: 0.0073\n",
      "Epoch 66/100\n",
      "173/173 [==============================] - 1s 8ms/step - loss: 0.0069 - val_loss: 0.0072\n",
      "Epoch 67/100\n",
      "173/173 [==============================] - 1s 8ms/step - loss: 0.0068 - val_loss: 0.0072\n",
      "Epoch 68/100\n",
      "173/173 [==============================] - 1s 8ms/step - loss: 0.0069 - val_loss: 0.0071\n",
      "Epoch 69/100\n",
      "173/173 [==============================] - 1s 8ms/step - loss: 0.0069 - val_loss: 0.0073\n",
      "Epoch 70/100\n",
      "173/173 [==============================] - 2s 9ms/step - loss: 0.0068 - val_loss: 0.0072\n",
      "Epoch 71/100\n",
      "173/173 [==============================] - 2s 9ms/step - loss: 0.0068 - val_loss: 0.0072\n",
      "Epoch 72/100\n",
      "173/173 [==============================] - 2s 14ms/step - loss: 0.0067 - val_loss: 0.0072\n",
      "Epoch 73/100\n",
      "173/173 [==============================] - 2s 9ms/step - loss: 0.0067 - val_loss: 0.0070\n",
      "Epoch 74/100\n",
      "173/173 [==============================] - 1s 8ms/step - loss: 0.0067 - val_loss: 0.0072\n",
      "Epoch 75/100\n",
      "173/173 [==============================] - 1s 8ms/step - loss: 0.0068 - val_loss: 0.0078\n",
      "Epoch 76/100\n",
      "173/173 [==============================] - 1s 8ms/step - loss: 0.0068 - val_loss: 0.0074\n",
      "Epoch 77/100\n",
      "173/173 [==============================] - 1s 8ms/step - loss: 0.0067 - val_loss: 0.0072\n",
      "Epoch 78/100\n",
      "173/173 [==============================] - 1s 8ms/step - loss: 0.0068 - val_loss: 0.0071\n",
      "Epoch 79/100\n",
      "173/173 [==============================] - 2s 9ms/step - loss: 0.0067 - val_loss: 0.0073\n",
      "Epoch 80/100\n",
      "173/173 [==============================] - 2s 11ms/step - loss: 0.0067 - val_loss: 0.0071\n",
      "Epoch 81/100\n"
     ]
    },
    {
     "name": "stdout",
     "output_type": "stream",
     "text": [
      "173/173 [==============================] - 1s 8ms/step - loss: 0.0067 - val_loss: 0.0071\n",
      "Epoch 82/100\n",
      "173/173 [==============================] - 1s 8ms/step - loss: 0.0066 - val_loss: 0.0070\n",
      "Epoch 83/100\n",
      "173/173 [==============================] - 1s 8ms/step - loss: 0.0066 - val_loss: 0.0073\n",
      "Epoch 84/100\n",
      "173/173 [==============================] - 1s 8ms/step - loss: 0.0066 - val_loss: 0.0073\n",
      "Epoch 85/100\n",
      "173/173 [==============================] - 1s 8ms/step - loss: 0.0066 - val_loss: 0.0072\n",
      "Epoch 86/100\n",
      "173/173 [==============================] - 1s 8ms/step - loss: 0.0066 - val_loss: 0.0070\n",
      "Epoch 87/100\n",
      "173/173 [==============================] - 1s 8ms/step - loss: 0.0066 - val_loss: 0.0074\n",
      "Epoch 88/100\n",
      "173/173 [==============================] - 1s 8ms/step - loss: 0.0066 - val_loss: 0.0071\n",
      "Epoch 89/100\n",
      "173/173 [==============================] - 1s 8ms/step - loss: 0.0066 - val_loss: 0.0071\n",
      "Epoch 90/100\n",
      "173/173 [==============================] - 1s 8ms/step - loss: 0.0066 - val_loss: 0.0070\n",
      "Epoch 91/100\n",
      "173/173 [==============================] - 1s 8ms/step - loss: 0.0065 - val_loss: 0.0072\n",
      "Epoch 92/100\n",
      "173/173 [==============================] - 1s 8ms/step - loss: 0.0065 - val_loss: 0.0071\n",
      "Epoch 93/100\n",
      "173/173 [==============================] - 1s 8ms/step - loss: 0.0065 - val_loss: 0.0071\n",
      "Epoch 94/100\n",
      "173/173 [==============================] - 1s 8ms/step - loss: 0.0065 - val_loss: 0.0072\n",
      "Epoch 95/100\n",
      "173/173 [==============================] - 1s 8ms/step - loss: 0.0065 - val_loss: 0.0074\n",
      "Epoch 96/100\n",
      "173/173 [==============================] - 1s 8ms/step - loss: 0.0065 - val_loss: 0.0071\n",
      "Epoch 97/100\n",
      "173/173 [==============================] - 1s 8ms/step - loss: 0.0065 - val_loss: 0.0071\n",
      "Epoch 98/100\n",
      "173/173 [==============================] - 1s 8ms/step - loss: 0.0064 - val_loss: 0.0071\n",
      "Epoch 99/100\n",
      "173/173 [==============================] - 1s 8ms/step - loss: 0.0064 - val_loss: 0.0071\n",
      "Epoch 100/100\n",
      "173/173 [==============================] - 1s 8ms/step - loss: 0.0064 - val_loss: 0.0074\n"
     ]
    }
   ],
   "source": [
    "model.compile(optimizer='adam', loss ='mse')\n",
    "history = model.fit(X_train , y_train, epochs=100, batch_size=64, verbose= 1,validation_split=0.2,callbacks=callback)"
   ]
  },
  {
   "cell_type": "code",
   "execution_count": 12,
   "id": "3c3d077f",
   "metadata": {},
   "outputs": [],
   "source": [
    "from sklearn.metrics import mean_squared_error, r2_score, mean_absolute_error, mean_squared_log_error, mean_absolute_percentage_error\n",
    "def root_mean_squared_error(y_true, y_pred):    \n",
    "    return np.sqrt(mean_squared_error(y_true, y_pred))\n",
    "def root_mean_squared_log_error(real, predicted):\n",
    "    sum=0.0\n",
    "    for x in range(len(predicted)):\n",
    "        if predicted[x]<0 or real[x]<0: # check for negative values\n",
    "            continue\n",
    "        p = np.log(predicted[x]+1)\n",
    "        r = np.log(real[x]+1)\n",
    "        sum = sum + (p - r)**2\n",
    "    return (sum/len(predicted))**0.5\n",
    "def print_metrics():\n",
    "    print('Train   RMSE  value   : %.3f ' % root_mean_squared_error(y_train, model.predict(X_train)))\n",
    "    print('Train   MSE   value   : %.3f ' % mean_squared_error(y_train, model.predict(X_train)))\n",
    "    print('Train   R2    value   : %.3f ' % r2_score(y_train,model.predict(X_train)))\n",
    "    print('Train   MAPE  value   : %.3f ' % mean_absolute_percentage_error(y_train, model.predict(X_train)))\n",
    "    print('Train   MAE   value   : %.3f ' % mean_absolute_error(y_train, model.predict(X_train)))\n",
    "    print('---------------------------------------------')\n",
    "    print('Test    RMSE  value   : %.3f ' % root_mean_squared_error(y_test, model.predict(X_test)))\n",
    "    print('Test    MSE   value   : %.3f ' % mean_squared_error(y_test, model.predict(X_test)))\n",
    "    print('Test    R2    value   : %.3f ' % r2_score(y_test, model.predict(X_test)))\n",
    "    print('Test    MAPE  value   : %.3f ' % mean_absolute_percentage_error(y_test, model.predict(X_test)))\n",
    "    print('Test    MAE   value   : %.3f ' % mean_absolute_error(y_test, model.predict(X_test)))"
   ]
  },
  {
   "cell_type": "code",
   "execution_count": 13,
   "id": "333f578a",
   "metadata": {},
   "outputs": [
    {
     "name": "stdout",
     "output_type": "stream",
     "text": [
      "432/432 [==============================] - 3s 4ms/step\n",
      "Train   RMSE  value   : 0.081 \n",
      "432/432 [==============================] - 2s 4ms/step\n",
      "Train   MSE   value   : 0.007 \n",
      "432/432 [==============================] - 1s 3ms/step\n",
      "Train   R2    value   : 0.291 \n",
      "432/432 [==============================] - 1s 3ms/step\n",
      "Train   MAPE  value   : 44642192735.555 \n",
      "432/432 [==============================] - 1s 3ms/step\n",
      "Train   MAE   value   : 0.044 \n",
      "---------------------------------------------\n",
      "93/93 [==============================] - 0s 3ms/step\n",
      "Test    RMSE  value   : 0.079 \n",
      "93/93 [==============================] - 0s 4ms/step\n",
      "Test    MSE   value   : 0.006 \n",
      "93/93 [==============================] - 0s 3ms/step\n",
      "Test    R2    value   : 0.261 \n",
      "93/93 [==============================] - 0s 4ms/step\n",
      "Test    MAPE  value   : 0.635 \n",
      "93/93 [==============================] - 0s 4ms/step\n",
      "Test    MAE   value   : 0.044 \n"
     ]
    }
   ],
   "source": [
    "print_metrics()"
   ]
  },
  {
   "cell_type": "code",
   "execution_count": 14,
   "id": "38fffaf6",
   "metadata": {},
   "outputs": [
    {
     "data": {
      "image/png": "[encoded data removed]",
      "text/plain": [
       "<Figure size 432x288 with 1 Axes>"
      ]
     },
     "metadata": {
      "needs_background": "light"
     },
     "output_type": "display_data"
    }
   ],
   "source": [
    "from matplotlib import pyplot as plt\n",
    "plt.plot(history.history['loss'])\n",
    "plt.plot(history.history['val_loss'])\n",
    "plt.title(\"Plot of loss vs epoch for train and test dataset\")\n",
    "plt.ylabel('loss')\n",
    "plt.xlabel('epoch')\n",
    "plt.legend(['train', 'test'], loc='upper right')\n",
    "plt.show()"
   ]
  }
 ],
 "metadata": {
  "kernelspec": {
   "display_name": "Python 3 (ipykernel)",
   "language": "python",
   "name": "python3"
  },
  "language_info": {
   "codemirror_mode": {
    "name": "ipython",
    "version": 3
   },
   "file_extension": ".py",
   "mimetype": "text/x-python",
   "name": "python",
   "nbconvert_exporter": "python",
   "pygments_lexer": "ipython3",
   "version": "3.9.12"
  }
 },
 "nbformat": 4,
 "nbformat_minor": 5
}
