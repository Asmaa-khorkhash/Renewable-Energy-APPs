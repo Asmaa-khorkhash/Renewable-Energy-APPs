{
 "cells": [
  {
   "cell_type": "code",
   "execution_count": 1,
   "id": "a5698a2b",
   "metadata": {},
   "outputs": [],
   "source": [
    "import numpy as np \n",
    "import pandas as pd\n",
    "import tensorflow as tf\n",
    "from sklearn.preprocessing import MinMaxScaler\n",
    "from sklearn.model_selection import train_test_split\n",
    "from Energy_Models.Autoformer import AutoFormer\n"
   ]
  },
  {
   "cell_type": "code",
   "execution_count": 2,
   "id": "ef6fa9a3",
   "metadata": {},
   "outputs": [],
   "source": [
    "df = pd.read_csv(\"C:\\\\Users\\\\delll\\\\Downloads\\\\energydata_complete.csv\",index_col=\"date\")"
   ]
  },
  {
   "cell_type": "code",
   "execution_count": 3,
   "id": "f040ea7d",
   "metadata": {},
   "outputs": [],
   "source": [
    "scaler = MinMaxScaler().fit(df)\n",
    "df    = pd.DataFrame(scaler.transform(df))\n",
    "\n",
    "X = df.iloc[:,1:]\n",
    "y = df.iloc[:,0]"
   ]
  },
  {
   "cell_type": "code",
   "execution_count": 4,
   "id": "65830be1",
   "metadata": {},
   "outputs": [],
   "source": [
    "from sklearn.model_selection import train_test_split\n",
    "X_train ,X_test ,y_train ,y_test=train_test_split(X ,y ,test_size=0.30,random_state=35)\n",
    "X_val, X_test, y_val, y_test = train_test_split(X_test, y_test, test_size=0.50, random_state=42)\n",
    "X_train = np.array(X_train)\n",
    "X_test  = np.array(X_test)"
   ]
  },
  {
   "cell_type": "code",
   "execution_count": 5,
   "id": "8f8d17db",
   "metadata": {},
   "outputs": [
    {
     "data": {
      "text/plain": [
       "((13814, 27), (2961, 27), (13814,), (2961,))"
      ]
     },
     "execution_count": 5,
     "metadata": {},
     "output_type": "execute_result"
    }
   ],
   "source": [
    "X_train.shape ,X_test.shape ,y_train.shape ,y_test.shape"
   ]
  },
  {
   "cell_type": "code",
   "execution_count": 6,
   "id": "6d0afd45",
   "metadata": {},
   "outputs": [],
   "source": [
    "X_val = np.array(X_val)"
   ]
  },
  {
   "cell_type": "code",
   "execution_count": 7,
   "id": "06476136",
   "metadata": {},
   "outputs": [],
   "source": [
    "X_train = X_train.reshape(X_train.shape[0], 1, X_train.shape[1])\n",
    "X_test  = X_test.reshape(X_test.shape[0], 1, X_test.shape[1])\n",
    "\n",
    "X_val = X_val.reshape(X_val.shape[0],1,X_val.shape[1])"
   ]
  },
  {
   "cell_type": "code",
   "execution_count": 8,
   "id": "204985fb",
   "metadata": {},
   "outputs": [
    {
     "data": {
      "text/plain": [
       "((13814, 1, 27), (2961, 1, 27))"
      ]
     },
     "execution_count": 8,
     "metadata": {},
     "output_type": "execute_result"
    }
   ],
   "source": [
    "X_train.shape ,X_test.shape "
   ]
  },
  {
   "cell_type": "code",
   "execution_count": 9,
   "id": "5612598c",
   "metadata": {},
   "outputs": [],
   "source": [
    "def root_mean_squared_error(y_true, y_pred):    \n",
    "    return np.sqrt(mean_squared_error(y_true, y_pred))\n",
    "model=AutoFormer(1,27,1).getModel()"
   ]
  },
  {
   "cell_type": "code",
   "execution_count": 10,
   "id": "52ce13c4",
   "metadata": {},
   "outputs": [],
   "source": [
    "callback = tf.keras.callbacks.EarlyStopping(monitor='loss', patience=10)"
   ]
  },
  {
   "cell_type": "code",
   "execution_count": 11,
   "id": "fa8eb401",
   "metadata": {},
   "outputs": [
    {
     "name": "stdout",
     "output_type": "stream",
     "text": [
      "Model: \"model\"\n",
      "__________________________________________________________________________________________________\n",
      " Layer (type)                   Output Shape         Param #     Connected to                     \n",
      "==================================================================================================\n",
      " input_1 (InputLayer)           [(None, 1, 27)]      0           []                               \n",
      "                                                                                                  \n",
      " encoder_layer_1 (EncoderLayer)  (None, 1, 27)       756         ['input_1[0][0]']                \n",
      "                                                                                                  \n",
      " tf.__operators__.getitem_3 (Sl  (None, 27)          0           ['encoder_layer_1[0][0]']        \n",
      " icingOpLambda)                                                                                   \n",
      "                                                                                                  \n",
      " dropout_4 (Dropout)            (None, 27)           0           ['tf.__operators__.getitem_3[0][0\n",
      "                                                                 ]']                              \n",
      "                                                                                                  \n",
      " dense_5 (Dense)                (None, 512)          14336       ['dropout_4[0][0]']              \n",
      "                                                                                                  \n",
      " dropout_5 (Dropout)            multiple             0           ['dense_5[0][0]',                \n",
      "                                                                  'dense_6[0][0]']                \n",
      "                                                                                                  \n",
      " dense_6 (Dense)                (None, 1024)         525312      ['dropout_5[0][0]']              \n",
      "                                                                                                  \n",
      " dense_7 (Dense)                (None, 512)          524800      ['dropout_5[1][0]']              \n",
      "                                                                                                  \n",
      " dense_4 (Dense)                (None, 1)            513         ['dense_7[0][0]']                \n",
      "                                                                                                  \n",
      " tf.expand_dims (TFOpLambda)    (None, 1, 1)         0           ['dense_4[0][0]']                \n",
      "                                                                                                  \n",
      "==================================================================================================\n",
      "Total params: 1,065,717\n",
      "Trainable params: 1,065,717\n",
      "Non-trainable params: 0\n",
      "__________________________________________________________________________________________________\n"
     ]
    }
   ],
   "source": [
    "model.summary()"
   ]
  },
  {
   "cell_type": "code",
   "execution_count": null,
   "id": "4af8b6b0",
   "metadata": {},
   "outputs": [
    {
     "name": "stdout",
     "output_type": "stream",
     "text": [
      "Epoch 1/100\n",
      "173/173 [==============================] - 13s 61ms/step - loss: 0.1670 - val_loss: 0.1505\n",
      "Epoch 2/100\n",
      "173/173 [==============================] - 9s 53ms/step - loss: 0.1363 - val_loss: 0.1226\n",
      "Epoch 3/100\n",
      "173/173 [==============================] - 10s 56ms/step - loss: 0.1110 - val_loss: 0.0998\n",
      "Epoch 4/100\n",
      "173/173 [==============================] - 9s 51ms/step - loss: 0.0906 - val_loss: 0.0816\n",
      "Epoch 5/100\n",
      "173/173 [==============================] - 9s 53ms/step - loss: 0.0743 - val_loss: 0.0671\n",
      "Epoch 6/100\n",
      "173/173 [==============================] - 11s 61ms/step - loss: 0.0613 - val_loss: 0.0556\n",
      "Epoch 7/100\n",
      "173/173 [==============================] - 9s 50ms/step - loss: 0.0511 - val_loss: 0.0465\n",
      "Epoch 8/100\n",
      "173/173 [==============================] - 9s 51ms/step - loss: 0.0430 - val_loss: 0.0393\n",
      "Epoch 9/100\n",
      "173/173 [==============================] - 11s 65ms/step - loss: 0.0365 - val_loss: 0.0335\n",
      "Epoch 10/100\n",
      "173/173 [==============================] - 9s 53ms/step - loss: 0.0314 - val_loss: 0.0289\n",
      "Epoch 11/100\n",
      "173/173 [==============================] - 8s 46ms/step - loss: 0.0272 - val_loss: 0.0252\n",
      "Epoch 12/100\n",
      "173/173 [==============================] - 8s 48ms/step - loss: 0.0239 - val_loss: 0.0222\n",
      "Epoch 13/100\n",
      "173/173 [==============================] - 11s 64ms/step - loss: 0.0213 - val_loss: 0.0198\n",
      "Epoch 14/100\n",
      "173/173 [==============================] - 10s 56ms/step - loss: 0.0191 - val_loss: 0.0178\n",
      "Epoch 15/100\n",
      "173/173 [==============================] - 9s 54ms/step - loss: 0.0173 - val_loss: 0.0162\n",
      "Epoch 16/100\n",
      "173/173 [==============================] - 9s 52ms/step - loss: 0.0159 - val_loss: 0.0149\n",
      "Epoch 17/100\n",
      "173/173 [==============================] - 9s 50ms/step - loss: 0.0147 - val_loss: 0.0138\n",
      "Epoch 18/100\n",
      "173/173 [==============================] - 10s 57ms/step - loss: 0.0137 - val_loss: 0.0130\n",
      "Epoch 19/100\n",
      "173/173 [==============================] - 13s 74ms/step - loss: 0.0129 - val_loss: 0.0122\n",
      "Epoch 20/100\n",
      "173/173 [==============================] - 12s 67ms/step - loss: 0.0122 - val_loss: 0.0116\n",
      "Epoch 21/100\n",
      "173/173 [==============================] - 11s 62ms/step - loss: 0.0117 - val_loss: 0.0111\n",
      "Epoch 22/100\n",
      "173/173 [==============================] - 11s 62ms/step - loss: 0.0112 - val_loss: 0.0107\n",
      "Epoch 23/100\n",
      "173/173 [==============================] - 9s 55ms/step - loss: 0.0109 - val_loss: 0.0104\n",
      "Epoch 24/100\n",
      "173/173 [==============================] - 8s 47ms/step - loss: 0.0106 - val_loss: 0.0101\n",
      "Epoch 25/100\n",
      "173/173 [==============================] - 8s 48ms/step - loss: 0.0103 - val_loss: 0.0099\n",
      "Epoch 26/100\n",
      "173/173 [==============================] - 9s 55ms/step - loss: 0.0101 - val_loss: 0.0097\n",
      "Epoch 27/100\n",
      "173/173 [==============================] - 10s 60ms/step - loss: 0.0099 - val_loss: 0.0095\n",
      "Epoch 28/100\n",
      "173/173 [==============================] - 9s 55ms/step - loss: 0.0098 - val_loss: 0.0094\n",
      "Epoch 29/100\n",
      "173/173 [==============================] - 10s 60ms/step - loss: 0.0097 - val_loss: 0.0093\n",
      "Epoch 30/100\n",
      "173/173 [==============================] - 12s 68ms/step - loss: 0.0096 - val_loss: 0.0092\n",
      "Epoch 31/100\n",
      "173/173 [==============================] - 11s 63ms/step - loss: 0.0095 - val_loss: 0.0092\n",
      "Epoch 32/100\n",
      "173/173 [==============================] - 10s 59ms/step - loss: 0.0095 - val_loss: 0.0091\n",
      "Epoch 33/100\n",
      "173/173 [==============================] - 9s 51ms/step - loss: 0.0094 - val_loss: 0.0091\n",
      "Epoch 34/100\n",
      "173/173 [==============================] - 10s 57ms/step - loss: 0.0094 - val_loss: 0.0090\n",
      "Epoch 35/100\n",
      "173/173 [==============================] - 9s 53ms/step - loss: 0.0094 - val_loss: 0.0090\n",
      "Epoch 36/100\n",
      "173/173 [==============================] - 9s 50ms/step - loss: 0.0094 - val_loss: 0.0090\n",
      "Epoch 37/100\n",
      "173/173 [==============================] - 9s 52ms/step - loss: 0.0093 - val_loss: 0.0090\n",
      "Epoch 38/100\n",
      "173/173 [==============================] - 9s 50ms/step - loss: 0.0093 - val_loss: 0.0090\n",
      "Epoch 39/100\n",
      "173/173 [==============================] - 10s 58ms/step - loss: 0.0093 - val_loss: 0.0090\n",
      "Epoch 40/100\n",
      "173/173 [==============================] - 9s 52ms/step - loss: 0.0093 - val_loss: 0.0090\n",
      "Epoch 41/100\n",
      "173/173 [==============================] - 8s 48ms/step - loss: 0.0093 - val_loss: 0.0090\n",
      "Epoch 42/100\n",
      "173/173 [==============================] - 9s 50ms/step - loss: 0.0093 - val_loss: 0.0090\n",
      "Epoch 43/100\n",
      "134/173 [======================>.......] - ETA: 2s - loss: 0.0096"
     ]
    }
   ],
   "source": [
    "model.compile(optimizer='adam', loss ='mse')\n",
    "history = model.fit(X_train , y_train, epochs=100, batch_size=64, verbose= 1,validation_split=0.2,callbacks=callback)"
   ]
  },
  {
   "cell_type": "code",
   "execution_count": null,
   "id": "09304406",
   "metadata": {},
   "outputs": [],
   "source": [
    "from sklearn.metrics import mean_squared_error, r2_score, mean_absolute_error, mean_squared_log_error, mean_absolute_percentage_error\n",
    "def root_mean_squared_error(y_true, y_pred):    \n",
    "    return np.sqrt(mean_squared_error(y_true, y_pred))\n",
    "def root_mean_squared_log_error(real, predicted):\n",
    "    sum=0.0\n",
    "    for x in range(len(predicted)):\n",
    "        if predicted[x]<0 or real[x]<0: # check for negative values\n",
    "            continue\n",
    "        p = np.log(predicted[x]+1)\n",
    "        r = np.log(real[x]+1)\n",
    "        sum = sum + (p - r)**2\n",
    "    return (sum/len(predicted))**0.5\n",
    "def print_metrics():\n",
    "    print('Train   RMSE  value   : %.3f ' % root_mean_squared_error(y_train, model.predict(X_train)))\n",
    "    print('Train   MSE   value   : %.3f ' % mean_squared_error(y_train, model.predict(X_train)))\n",
    "    print('Train   R2    value   : %.3f ' % r2_score(y_train,model.predict(X_train)))\n",
    "    print('Train   MAPE  value   : %.3f ' % mean_absolute_percentage_error(y_train, model.predict(X_train)))\n",
    "    print('Train   MAE   value   : %.3f ' % mean_absolute_error(y_train, model.predict(X_train)))\n",
    "    print('---------------------------------------------')\n",
    "    print('Test    RMSE  value   : %.3f ' % root_mean_squared_error(y_test, model.predict(X_test)))\n",
    "    print('Test    MSE   value   : %.3f ' % mean_squared_error(y_test, model.predict(X_test)))\n",
    "    print('Test    R2    value   : %.3f ' % r2_score(y_test, model.predict(X_test)))\n",
    "    print('Test    MAPE  value   : %.3f ' % mean_absolute_percentage_error(y_test, model.predict(X_test)))\n",
    "    print('Test    MAE   value   : %.3f ' % mean_absolute_error(y_test, model.predict(X_test)))"
   ]
  },
  {
   "cell_type": "code",
   "execution_count": null,
   "id": "0bc7a216",
   "metadata": {},
   "outputs": [],
   "source": [
    "print_metrics()"
   ]
  },
  {
   "cell_type": "code",
   "execution_count": null,
   "id": "8007f820",
   "metadata": {},
   "outputs": [],
   "source": [
    "from matplotlib import pyplot as plt\n",
    "plt.plot(history.history['loss'])\n",
    "plt.plot(history.history['val_loss'])\n",
    "plt.title(\"Plot of loss vs epoch for train and test dataset\")\n",
    "plt.ylabel('loss')\n",
    "plt.xlabel('epoch')\n",
    "plt.legend(['train', 'test'], loc='upper right')\n",
    "plt.show()"
   ]
  }
 ],
 "metadata": {
  "kernelspec": {
   "display_name": "Python 3 (ipykernel)",
   "language": "python",
   "name": "python3"
  },
  "language_info": {
   "codemirror_mode": {
    "name": "ipython",
    "version": 3
   },
   "file_extension": ".py",
   "mimetype": "text/x-python",
   "name": "python",
   "nbconvert_exporter": "python",
   "pygments_lexer": "ipython3",
   "version": "3.9.12"
  }
 },
 "nbformat": 4,
 "nbformat_minor": 5
}
